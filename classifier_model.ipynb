{
 "cells": [
  {
   "cell_type": "code",
   "execution_count": 1,
   "id": "fluid-advance",
   "metadata": {},
   "outputs": [],
   "source": [
    "import os\n",
    "import cv2\n",
    "import random\n",
    "import pandas as pd\n",
    "import numpy as np\n",
    "import torch\n",
    "import torch.nn as nn\n",
    "import torch.optim as optim\n",
    "from torch.utils.data import Dataset, DataLoader\n",
    "import matplotlib.pyplot as plt\n",
    "from sklearn.preprocessing import StandardScaler\n",
    "from tqdm.notebook import tqdm\n",
    "from torchsummary import summary\n",
    "\n",
    "# data augmentation\n",
    "import albumentations as A\n",
    "from albumentations.pytorch import ToTensorV2\n",
    "\n",
    "# pretrained models\n",
    "import torchvision\n",
    "from torchvision import models, transforms\n",
    "\n",
    "from functions import *"
   ]
  },
  {
   "cell_type": "markdown",
   "id": "municipal-desperate",
   "metadata": {},
   "source": [
    "## Load in metadata"
   ]
  },
  {
   "cell_type": "markdown",
   "id": "further-johns",
   "metadata": {},
   "source": [
    "See data preprocessing in siamese model notebook."
   ]
  },
  {
   "cell_type": "code",
   "execution_count": 2,
   "id": "verbal-desktop",
   "metadata": {},
   "outputs": [],
   "source": [
    "df = pd.read_csv('data/metadata.csv')"
   ]
  },
  {
   "cell_type": "code",
   "execution_count": 3,
   "id": "personal-parish",
   "metadata": {},
   "outputs": [],
   "source": [
    "df['full_path'] = df.apply(lambda x: f\"data/train_224_crop/{x['new_filename']}\" if x['in_train'] == True else f\"data/test_224_crop/{x['new_filename']}\", axis=1)"
   ]
  },
  {
   "cell_type": "code",
   "execution_count": 4,
   "id": "intense-element",
   "metadata": {},
   "outputs": [
    {
     "data": {
      "text/html": [
       "<div>\n",
       "<style scoped>\n",
       "    .dataframe tbody tr th:only-of-type {\n",
       "        vertical-align: middle;\n",
       "    }\n",
       "\n",
       "    .dataframe tbody tr th {\n",
       "        vertical-align: top;\n",
       "    }\n",
       "\n",
       "    .dataframe thead th {\n",
       "        text-align: right;\n",
       "    }\n",
       "</style>\n",
       "<table border=\"1\" class=\"dataframe\">\n",
       "  <thead>\n",
       "    <tr style=\"text-align: right;\">\n",
       "      <th></th>\n",
       "      <th>artist</th>\n",
       "      <th>date</th>\n",
       "      <th>genre</th>\n",
       "      <th>pixelsx</th>\n",
       "      <th>pixelsy</th>\n",
       "      <th>size_bytes</th>\n",
       "      <th>source</th>\n",
       "      <th>style</th>\n",
       "      <th>title</th>\n",
       "      <th>artist_group</th>\n",
       "      <th>in_train</th>\n",
       "      <th>new_filename</th>\n",
       "      <th>full_path</th>\n",
       "    </tr>\n",
       "  </thead>\n",
       "  <tbody>\n",
       "    <tr>\n",
       "      <th>0</th>\n",
       "      <td>Paul Serusier</td>\n",
       "      <td>1890</td>\n",
       "      <td>genre painting</td>\n",
       "      <td>7099.0</td>\n",
       "      <td>5857.0</td>\n",
       "      <td>9803854.0</td>\n",
       "      <td>wikiart</td>\n",
       "      <td>Cloisonnism</td>\n",
       "      <td>Seaweed Gatherer</td>\n",
       "      <td>train_and_test</td>\n",
       "      <td>False</td>\n",
       "      <td>32996.jpg</td>\n",
       "      <td>data/test_224_crop/32996.jpg</td>\n",
       "    </tr>\n",
       "    <tr>\n",
       "      <th>1</th>\n",
       "      <td>Georges Seurat</td>\n",
       "      <td>1884</td>\n",
       "      <td>NaN</td>\n",
       "      <td>6367.0</td>\n",
       "      <td>4226.0</td>\n",
       "      <td>11579390.0</td>\n",
       "      <td>wikipedia</td>\n",
       "      <td>Pointillism</td>\n",
       "      <td>Bathers at Asnières</td>\n",
       "      <td>train_and_test</td>\n",
       "      <td>True</td>\n",
       "      <td>39751.jpg</td>\n",
       "      <td>data/train_224_crop/39751.jpg</td>\n",
       "    </tr>\n",
       "    <tr>\n",
       "      <th>2</th>\n",
       "      <td>Paul Signac</td>\n",
       "      <td>NaN</td>\n",
       "      <td>cityscape</td>\n",
       "      <td>5616.0</td>\n",
       "      <td>4312.0</td>\n",
       "      <td>10612858.0</td>\n",
       "      <td>wikiart</td>\n",
       "      <td>Pointillism</td>\n",
       "      <td>View of the Port of Marseilles</td>\n",
       "      <td>train_and_test</td>\n",
       "      <td>True</td>\n",
       "      <td>74221.jpg</td>\n",
       "      <td>data/train_224_crop/74221.jpg</td>\n",
       "    </tr>\n",
       "    <tr>\n",
       "      <th>3</th>\n",
       "      <td>Georges Seurat</td>\n",
       "      <td>1884</td>\n",
       "      <td>genre painting</td>\n",
       "      <td>5910.0</td>\n",
       "      <td>4001.0</td>\n",
       "      <td>5330653.0</td>\n",
       "      <td>wikiart</td>\n",
       "      <td>Pointillism</td>\n",
       "      <td>Study for A Sunday on La Grande Jatte</td>\n",
       "      <td>train_and_test</td>\n",
       "      <td>True</td>\n",
       "      <td>31337.jpg</td>\n",
       "      <td>data/train_224_crop/31337.jpg</td>\n",
       "    </tr>\n",
       "    <tr>\n",
       "      <th>4</th>\n",
       "      <td>Gustave Caillebotte</td>\n",
       "      <td>1881</td>\n",
       "      <td>genre painting</td>\n",
       "      <td>5164.0</td>\n",
       "      <td>4087.0</td>\n",
       "      <td>3587461.0</td>\n",
       "      <td>wikiart</td>\n",
       "      <td>Impressionism</td>\n",
       "      <td>Rising Road</td>\n",
       "      <td>train_and_test</td>\n",
       "      <td>False</td>\n",
       "      <td>29616.jpg</td>\n",
       "      <td>data/test_224_crop/29616.jpg</td>\n",
       "    </tr>\n",
       "  </tbody>\n",
       "</table>\n",
       "</div>"
      ],
      "text/plain": [
       "                artist  date           genre  pixelsx  pixelsy  size_bytes  \\\n",
       "0        Paul Serusier  1890  genre painting   7099.0   5857.0   9803854.0   \n",
       "1       Georges Seurat  1884             NaN   6367.0   4226.0  11579390.0   \n",
       "2          Paul Signac   NaN       cityscape   5616.0   4312.0  10612858.0   \n",
       "3       Georges Seurat  1884  genre painting   5910.0   4001.0   5330653.0   \n",
       "4  Gustave Caillebotte  1881  genre painting   5164.0   4087.0   3587461.0   \n",
       "\n",
       "      source          style                                  title  \\\n",
       "0    wikiart    Cloisonnism                       Seaweed Gatherer   \n",
       "1  wikipedia    Pointillism                   Bathers at Asnières    \n",
       "2    wikiart    Pointillism         View of the Port of Marseilles   \n",
       "3    wikiart    Pointillism  Study for A Sunday on La Grande Jatte   \n",
       "4    wikiart  Impressionism                            Rising Road   \n",
       "\n",
       "     artist_group  in_train new_filename                      full_path  \n",
       "0  train_and_test     False    32996.jpg   data/test_224_crop/32996.jpg  \n",
       "1  train_and_test      True    39751.jpg  data/train_224_crop/39751.jpg  \n",
       "2  train_and_test      True    74221.jpg  data/train_224_crop/74221.jpg  \n",
       "3  train_and_test      True    31337.jpg  data/train_224_crop/31337.jpg  \n",
       "4  train_and_test     False    29616.jpg   data/test_224_crop/29616.jpg  "
      ]
     },
     "execution_count": 4,
     "metadata": {},
     "output_type": "execute_result"
    }
   ],
   "source": [
    "df.head()"
   ]
  },
  {
   "cell_type": "code",
   "execution_count": 5,
   "id": "unknown-malpractice",
   "metadata": {},
   "outputs": [],
   "source": [
    "all_train_df = df[df['in_train'] == True]\n",
    "all_train_df = all_train_df.reset_index(drop=True)"
   ]
  },
  {
   "cell_type": "code",
   "execution_count": 6,
   "id": "proved-coffee",
   "metadata": {},
   "outputs": [],
   "source": [
    "test_df = df[df['in_train'] == False]\n",
    "test_df = test_df.reset_index(drop=True)"
   ]
  },
  {
   "cell_type": "code",
   "execution_count": 7,
   "id": "operating-korea",
   "metadata": {},
   "outputs": [],
   "source": [
    "# train test split on training dataset\n",
    "train_df = all_train_df.sample(frac=0.8)\n",
    "val_df = all_train_df[~all_train_df.index.isin(train_df.index)]\n",
    "train_df.reset_index(drop=True, inplace=True)\n",
    "val_df.reset_index(drop=True, inplace=True)"
   ]
  },
  {
   "cell_type": "markdown",
   "id": "judicial-buying",
   "metadata": {},
   "source": [
    "## Create Dataloader"
   ]
  },
  {
   "cell_type": "code",
   "execution_count": 8,
   "id": "golden-cream",
   "metadata": {},
   "outputs": [],
   "source": [
    "artist_dict = {artist: i for i, artist in enumerate(sorted(df['artist'].unique()))}"
   ]
  },
  {
   "cell_type": "code",
   "execution_count": 9,
   "id": "dramatic-complaint",
   "metadata": {},
   "outputs": [],
   "source": [
    "class ArtistDataset(Dataset):\n",
    "    def __init__(self, df, label_dict):\n",
    "        self.df = df\n",
    "        \n",
    "        self.label_dict = label_dict\n",
    "    \n",
    "    def __len__(self):\n",
    "        return len(self.df)\n",
    "    \n",
    "    def __getitem__(self, idx):\n",
    "        row = self.df.iloc[idx]\n",
    "        \n",
    "        img = load_image(row['full_path'])\n",
    "        \n",
    "        label = torch.tensor(self.label_dict[row['artist']])\n",
    "        \n",
    "        return img, label"
   ]
  },
  {
   "cell_type": "code",
   "execution_count": 10,
   "id": "interested-bangkok",
   "metadata": {},
   "outputs": [],
   "source": [
    "train_ds = ArtistDataset(train_df, artist_dict)\n",
    "train_dl = DataLoader(train_ds, batch_size=16, shuffle=True)"
   ]
  },
  {
   "cell_type": "code",
   "execution_count": 11,
   "id": "incident-lightning",
   "metadata": {},
   "outputs": [],
   "source": [
    "val_ds = ArtistDataset(val_df, artist_dict)\n",
    "val_dl = DataLoader(val_ds, batch_size=16, shuffle=True)"
   ]
  },
  {
   "cell_type": "code",
   "execution_count": 12,
   "id": "chinese-lyric",
   "metadata": {},
   "outputs": [],
   "source": [
    "test_ds = ArtistDataset(test_df, artist_dict)\n",
    "test_dl = DataLoader(test_ds, batch_size=16, shuffle=True)"
   ]
  },
  {
   "cell_type": "markdown",
   "id": "approximate-anger",
   "metadata": {},
   "source": [
    "## Pretrained AlexNet image classifier model"
   ]
  },
  {
   "cell_type": "markdown",
   "id": "active-ghana",
   "metadata": {},
   "source": [
    "### LR = 0.01"
   ]
  },
  {
   "cell_type": "code",
   "execution_count": 13,
   "id": "assured-account",
   "metadata": {},
   "outputs": [],
   "source": [
    "model = models.alexnet(pretrained=True)"
   ]
  },
  {
   "cell_type": "code",
   "execution_count": 14,
   "id": "efficient-experience",
   "metadata": {},
   "outputs": [],
   "source": [
    "for param in model.parameters():\n",
    "    param.requires_grad = False"
   ]
  },
  {
   "cell_type": "code",
   "execution_count": 15,
   "id": "three-paris",
   "metadata": {},
   "outputs": [],
   "source": [
    "model.classifier[6] = nn.Linear(4096, 52)"
   ]
  },
  {
   "cell_type": "code",
   "execution_count": 16,
   "id": "hired-winter",
   "metadata": {},
   "outputs": [],
   "source": [
    "params_to_update = []\n",
    "\n",
    "for param in model.parameters():\n",
    "    if param.requires_grad == True:\n",
    "        params_to_update.append(param)"
   ]
  },
  {
   "cell_type": "code",
   "execution_count": 17,
   "id": "checked-prague",
   "metadata": {},
   "outputs": [],
   "source": [
    "optimizer = optim.Adam(params_to_update, lr=0.01)\n",
    "lossFun = nn.CrossEntropyLoss()"
   ]
  },
  {
   "cell_type": "code",
   "execution_count": 18,
   "id": "recent-silence",
   "metadata": {},
   "outputs": [],
   "source": [
    "def one_pass_classification(model, dataloader, optimizer, lossFun, backwards=True, print_loss=False):\n",
    "    \n",
    "    if backwards == True:\n",
    "        model.train()\n",
    "    else:\n",
    "        model.eval()\n",
    "    \n",
    "    total_loss = 0.0\n",
    "    avg_accs = []\n",
    "    for x, y in tqdm(dataloader):\n",
    "        \n",
    "        y_pred = model(x)\n",
    "        loss = lossFun(y_pred, y)\n",
    "        total_loss += loss.item()\n",
    "        avg_accs.append(torch.sum(torch.argmax(y_pred, dim=1) == y).item()/len(y))\n",
    "        \n",
    "        if backwards == True:\n",
    "            optimizer.zero_grad()\n",
    "            loss.backward()\n",
    "            optimizer.step()\n",
    "    avg_loss = total_loss / len(dataloader)\n",
    "    avg_acc = sum(avg_accs) / len(dataloader)\n",
    "    \n",
    "    if print_loss == True:\n",
    "        print(avg_loss)\n",
    "        print(avg_acc)\n",
    "    \n",
    "    return avg_loss, avg_acc"
   ]
  },
  {
   "cell_type": "code",
   "execution_count": 19,
   "id": "governing-arthur",
   "metadata": {},
   "outputs": [
    {
     "name": "stdout",
     "output_type": "stream",
     "text": [
      "Epoch:  0\n"
     ]
    },
    {
     "data": {
      "application/vnd.jupyter.widget-view+json": {
       "model_id": "5eb1046ae8714f45b164f1c87e34f0f6",
       "version_major": 2,
       "version_minor": 0
      },
      "text/plain": [
       "  0%|          | 0/536 [00:00<?, ?it/s]"
      ]
     },
     "metadata": {},
     "output_type": "display_data"
    },
    {
     "name": "stderr",
     "output_type": "stream",
     "text": [
      "/Users/odtree/opt/anaconda3/lib/python3.8/site-packages/torch/nn/functional.py:718: UserWarning: Named tensors and all their associated APIs are an experimental feature and subject to change. Please do not use them for anything important until they are released as stable. (Triggered internally at  ../c10/core/TensorImpl.h:1156.)\n",
      "  return torch.max_pool2d(input, kernel_size, stride, padding, dilation, ceil_mode)\n"
     ]
    },
    {
     "name": "stdout",
     "output_type": "stream",
     "text": [
      "Train loss:  18.388087290436474\n",
      "Train accuracy:  0.27623600746268656\n"
     ]
    },
    {
     "data": {
      "application/vnd.jupyter.widget-view+json": {
       "model_id": "92a7360ff0de4be8ba7ca741265e4c91",
       "version_major": 2,
       "version_minor": 0
      },
      "text/plain": [
       "  0%|          | 0/134 [00:00<?, ?it/s]"
      ]
     },
     "metadata": {},
     "output_type": "display_data"
    },
    {
     "name": "stdout",
     "output_type": "stream",
     "text": [
      "Valid loss:  17.239458891882826\n",
      "Valid accuracy:  0.353544776119403\n",
      "Epoch:  1\n"
     ]
    },
    {
     "data": {
      "application/vnd.jupyter.widget-view+json": {
       "model_id": "cb80657eb8b84ef08ba0f8265331d674",
       "version_major": 2,
       "version_minor": 0
      },
      "text/plain": [
       "  0%|          | 0/536 [00:00<?, ?it/s]"
      ]
     },
     "metadata": {},
     "output_type": "display_data"
    },
    {
     "name": "stdout",
     "output_type": "stream",
     "text": [
      "Train loss:  13.971160081785117\n",
      "Train accuracy:  0.4430970149253731\n"
     ]
    },
    {
     "data": {
      "application/vnd.jupyter.widget-view+json": {
       "model_id": "4825db7d9d884bdaaf3afcc719cfd1d4",
       "version_major": 2,
       "version_minor": 0
      },
      "text/plain": [
       "  0%|          | 0/134 [00:00<?, ?it/s]"
      ]
     },
     "metadata": {},
     "output_type": "display_data"
    },
    {
     "name": "stdout",
     "output_type": "stream",
     "text": [
      "Valid loss:  18.456706370880354\n",
      "Valid accuracy:  0.384794776119403\n",
      "Epoch:  2\n"
     ]
    },
    {
     "data": {
      "application/vnd.jupyter.widget-view+json": {
       "model_id": "ada1c71a13c14649962a52f849d9da2a",
       "version_major": 2,
       "version_minor": 0
      },
      "text/plain": [
       "  0%|          | 0/536 [00:00<?, ?it/s]"
      ]
     },
     "metadata": {},
     "output_type": "display_data"
    },
    {
     "name": "stdout",
     "output_type": "stream",
     "text": [
      "Train loss:  11.914644096658302\n",
      "Train accuracy:  0.5191231343283582\n"
     ]
    },
    {
     "data": {
      "application/vnd.jupyter.widget-view+json": {
       "model_id": "48949c5703c741ed8908a1add473aa2f",
       "version_major": 2,
       "version_minor": 0
      },
      "text/plain": [
       "  0%|          | 0/134 [00:00<?, ?it/s]"
      ]
     },
     "metadata": {},
     "output_type": "display_data"
    },
    {
     "name": "stdout",
     "output_type": "stream",
     "text": [
      "Valid loss:  22.363216891217586\n",
      "Valid accuracy:  0.3810634328358209\n",
      "Epoch:  3\n"
     ]
    },
    {
     "data": {
      "application/vnd.jupyter.widget-view+json": {
       "model_id": "b051a19a70644400a86e111778f62630",
       "version_major": 2,
       "version_minor": 0
      },
      "text/plain": [
       "  0%|          | 0/536 [00:00<?, ?it/s]"
      ]
     },
     "metadata": {},
     "output_type": "display_data"
    },
    {
     "name": "stdout",
     "output_type": "stream",
     "text": [
      "Train loss:  10.99261307938775\n",
      "Train accuracy:  0.5728777985074627\n"
     ]
    },
    {
     "data": {
      "application/vnd.jupyter.widget-view+json": {
       "model_id": "2c88b88df44943f4801fe03a5ff0e101",
       "version_major": 2,
       "version_minor": 0
      },
      "text/plain": [
       "  0%|          | 0/134 [00:00<?, ?it/s]"
      ]
     },
     "metadata": {},
     "output_type": "display_data"
    },
    {
     "name": "stdout",
     "output_type": "stream",
     "text": [
      "Valid loss:  23.716668043563615\n",
      "Valid accuracy:  0.39552238805970147\n",
      "Epoch:  4\n"
     ]
    },
    {
     "data": {
      "application/vnd.jupyter.widget-view+json": {
       "model_id": "6841448a86984e1c8e54d1810437d4e2",
       "version_major": 2,
       "version_minor": 0
      },
      "text/plain": [
       "  0%|          | 0/536 [00:00<?, ?it/s]"
      ]
     },
     "metadata": {},
     "output_type": "display_data"
    },
    {
     "name": "stdout",
     "output_type": "stream",
     "text": [
      "Train loss:  10.085046615618378\n",
      "Train accuracy:  0.6002798507462687\n"
     ]
    },
    {
     "data": {
      "application/vnd.jupyter.widget-view+json": {
       "model_id": "16cf7fd0555d45658b3a2bb29c29893c",
       "version_major": 2,
       "version_minor": 0
      },
      "text/plain": [
       "  0%|          | 0/134 [00:00<?, ?it/s]"
      ]
     },
     "metadata": {},
     "output_type": "display_data"
    },
    {
     "name": "stdout",
     "output_type": "stream",
     "text": [
      "Valid loss:  24.891969808891638\n",
      "Valid accuracy:  0.40158582089552236\n"
     ]
    }
   ],
   "source": [
    "num_epochs = 5\n",
    "train_losses = []\n",
    "valid_losses = []\n",
    "\n",
    "for epoch in range(num_epochs):\n",
    "    print('Epoch: ', epoch)\n",
    "    \n",
    "    train_loss, train_acc = one_pass_classification(model, train_dl, optimizer, lossFun)\n",
    "    train_losses.append(train_loss)\n",
    "    print('Train loss: ', train_loss)\n",
    "    print('Train accuracy: ', train_acc)\n",
    "    \n",
    "    valid_loss, valid_acc = one_pass_classification(model, val_dl, optimizer, lossFun, backwards=False)\n",
    "    valid_losses.append(valid_loss)\n",
    "    print('Valid loss: ', valid_loss)\n",
    "    print('Valid accuracy: ', valid_acc)"
   ]
  },
  {
   "cell_type": "code",
   "execution_count": 24,
   "id": "wired-flesh",
   "metadata": {},
   "outputs": [
    {
     "name": "stdout",
     "output_type": "stream",
     "text": [
      "Epoch:  5\n"
     ]
    },
    {
     "data": {
      "application/vnd.jupyter.widget-view+json": {
       "model_id": "13d3b29b49a1477d897603c7eeea93c3",
       "version_major": 2,
       "version_minor": 0
      },
      "text/plain": [
       "  0%|          | 0/536 [00:00<?, ?it/s]"
      ]
     },
     "metadata": {},
     "output_type": "display_data"
    },
    {
     "name": "stdout",
     "output_type": "stream",
     "text": [
      "Train loss:  9.311409385235452\n",
      "Train accuracy:  0.6388759328358209\n"
     ]
    },
    {
     "data": {
      "application/vnd.jupyter.widget-view+json": {
       "model_id": "54fcd477231a4444ab83cd8dbc9e5810",
       "version_major": 2,
       "version_minor": 0
      },
      "text/plain": [
       "  0%|          | 0/134 [00:00<?, ?it/s]"
      ]
     },
     "metadata": {},
     "output_type": "display_data"
    },
    {
     "name": "stdout",
     "output_type": "stream",
     "text": [
      "Valid loss:  25.643175865287212\n",
      "Valid accuracy:  0.4221082089552239\n",
      "Epoch:  6\n"
     ]
    },
    {
     "data": {
      "application/vnd.jupyter.widget-view+json": {
       "model_id": "355bbeb8b6d54ca4922ea60c8525f195",
       "version_major": 2,
       "version_minor": 0
      },
      "text/plain": [
       "  0%|          | 0/536 [00:00<?, ?it/s]"
      ]
     },
     "metadata": {},
     "output_type": "display_data"
    },
    {
     "name": "stdout",
     "output_type": "stream",
     "text": [
      "Train loss:  8.458500471061665\n",
      "Train accuracy:  0.6674440298507462\n"
     ]
    },
    {
     "data": {
      "application/vnd.jupyter.widget-view+json": {
       "model_id": "9faddeeeea3346c099cbd64ba564a8fd",
       "version_major": 2,
       "version_minor": 0
      },
      "text/plain": [
       "  0%|          | 0/134 [00:00<?, ?it/s]"
      ]
     },
     "metadata": {},
     "output_type": "display_data"
    },
    {
     "name": "stdout",
     "output_type": "stream",
     "text": [
      "Valid loss:  28.19134314380475\n",
      "Valid accuracy:  0.4197761194029851\n",
      "Epoch:  7\n"
     ]
    },
    {
     "data": {
      "application/vnd.jupyter.widget-view+json": {
       "model_id": "b8d2f21a7d4b4f648157387833e98b82",
       "version_major": 2,
       "version_minor": 0
      },
      "text/plain": [
       "  0%|          | 0/536 [00:00<?, ?it/s]"
      ]
     },
     "metadata": {},
     "output_type": "display_data"
    },
    {
     "name": "stdout",
     "output_type": "stream",
     "text": [
      "Train loss:  8.53054004904437\n",
      "Train accuracy:  0.668027052238806\n"
     ]
    },
    {
     "data": {
      "application/vnd.jupyter.widget-view+json": {
       "model_id": "5f8a640d36b24c969779f3003548ea0f",
       "version_major": 2,
       "version_minor": 0
      },
      "text/plain": [
       "  0%|          | 0/134 [00:00<?, ?it/s]"
      ]
     },
     "metadata": {},
     "output_type": "display_data"
    },
    {
     "name": "stdout",
     "output_type": "stream",
     "text": [
      "Valid loss:  29.177496504427783\n",
      "Valid accuracy:  0.41044776119402987\n",
      "Epoch:  8\n"
     ]
    },
    {
     "data": {
      "application/vnd.jupyter.widget-view+json": {
       "model_id": "8ece7efcc4d6413993422bb8732aaff8",
       "version_major": 2,
       "version_minor": 0
      },
      "text/plain": [
       "  0%|          | 0/536 [00:00<?, ?it/s]"
      ]
     },
     "metadata": {},
     "output_type": "display_data"
    },
    {
     "name": "stdout",
     "output_type": "stream",
     "text": [
      "Train loss:  7.9779903518397415\n",
      "Train accuracy:  0.6926305970149254\n"
     ]
    },
    {
     "data": {
      "application/vnd.jupyter.widget-view+json": {
       "model_id": "0c5c102fe04744dbb5028eb901694059",
       "version_major": 2,
       "version_minor": 0
      },
      "text/plain": [
       "  0%|          | 0/134 [00:00<?, ?it/s]"
      ]
     },
     "metadata": {},
     "output_type": "display_data"
    },
    {
     "name": "stdout",
     "output_type": "stream",
     "text": [
      "Valid loss:  30.417312650538204\n",
      "Valid accuracy:  0.4207089552238806\n",
      "Epoch:  9\n"
     ]
    },
    {
     "data": {
      "application/vnd.jupyter.widget-view+json": {
       "model_id": "2503ed145e0b43369be4b5bb614fd31d",
       "version_major": 2,
       "version_minor": 0
      },
      "text/plain": [
       "  0%|          | 0/536 [00:00<?, ?it/s]"
      ]
     },
     "metadata": {},
     "output_type": "display_data"
    },
    {
     "name": "stdout",
     "output_type": "stream",
     "text": [
      "Train loss:  8.392241106942423\n",
      "Train accuracy:  0.703125\n"
     ]
    },
    {
     "data": {
      "application/vnd.jupyter.widget-view+json": {
       "model_id": "20166b9015784b338db05b4e14aaede8",
       "version_major": 2,
       "version_minor": 0
      },
      "text/plain": [
       "  0%|          | 0/134 [00:00<?, ?it/s]"
      ]
     },
     "metadata": {},
     "output_type": "display_data"
    },
    {
     "name": "stdout",
     "output_type": "stream",
     "text": [
      "Valid loss:  32.41125769935437\n",
      "Valid accuracy:  0.4193097014925373\n"
     ]
    }
   ],
   "source": [
    "train_losses = []\n",
    "valid_losses = []\n",
    "\n",
    "for epoch in range(5, 10):\n",
    "    print('Epoch: ', epoch)\n",
    "    \n",
    "    train_loss, train_acc = one_pass_classification(model, train_dl, optimizer, lossFun)\n",
    "    train_losses.append(train_loss)\n",
    "    print('Train loss: ', train_loss)\n",
    "    print('Train accuracy: ', train_acc)\n",
    "    \n",
    "    valid_loss, valid_acc = one_pass_classification(model, val_dl, optimizer, lossFun, backwards=False)\n",
    "    valid_losses.append(valid_loss)\n",
    "    print('Valid loss: ', valid_loss)\n",
    "    print('Valid accuracy: ', valid_acc)"
   ]
  },
  {
   "cell_type": "markdown",
   "id": "compressed-marking",
   "metadata": {},
   "source": [
    "### LR = 0.01, WD = 0.01"
   ]
  },
  {
   "cell_type": "code",
   "execution_count": 45,
   "id": "medieval-costs",
   "metadata": {},
   "outputs": [],
   "source": [
    "model_4 = models.alexnet(pretrained=True)"
   ]
  },
  {
   "cell_type": "code",
   "execution_count": 46,
   "id": "superb-intent",
   "metadata": {},
   "outputs": [],
   "source": [
    "for param in model_4.parameters():\n",
    "    param.requires_grad = False"
   ]
  },
  {
   "cell_type": "code",
   "execution_count": 47,
   "id": "turned-inspection",
   "metadata": {},
   "outputs": [],
   "source": [
    "model_4.classifier[6] = nn.Linear(4096, 52)"
   ]
  },
  {
   "cell_type": "code",
   "execution_count": 48,
   "id": "artistic-daisy",
   "metadata": {},
   "outputs": [],
   "source": [
    "params_to_update = []\n",
    "\n",
    "for param in model_4.parameters():\n",
    "    if param.requires_grad == True:\n",
    "        params_to_update.append(param)"
   ]
  },
  {
   "cell_type": "code",
   "execution_count": 49,
   "id": "chinese-angel",
   "metadata": {},
   "outputs": [],
   "source": [
    "optimizer = optim.Adam(params_to_update, lr=0.01, weight_decay=0.01)\n",
    "lossFun = nn.CrossEntropyLoss()"
   ]
  },
  {
   "cell_type": "code",
   "execution_count": 50,
   "id": "charitable-virginia",
   "metadata": {},
   "outputs": [
    {
     "name": "stdout",
     "output_type": "stream",
     "text": [
      "Epoch:  0\n"
     ]
    },
    {
     "data": {
      "application/vnd.jupyter.widget-view+json": {
       "model_id": "7586153133dc4784ba0daaec8fbc3085",
       "version_major": 2,
       "version_minor": 0
      },
      "text/plain": [
       "  0%|          | 0/536 [00:00<?, ?it/s]"
      ]
     },
     "metadata": {},
     "output_type": "display_data"
    },
    {
     "name": "stdout",
     "output_type": "stream",
     "text": [
      "Train loss:  16.11200719804906\n",
      "Train accuracy:  0.24871735074626866\n"
     ]
    },
    {
     "data": {
      "application/vnd.jupyter.widget-view+json": {
       "model_id": "4953a327356649c78acde12e95b44d70",
       "version_major": 2,
       "version_minor": 0
      },
      "text/plain": [
       "  0%|          | 0/134 [00:00<?, ?it/s]"
      ]
     },
     "metadata": {},
     "output_type": "display_data"
    },
    {
     "name": "stdout",
     "output_type": "stream",
     "text": [
      "Valid loss:  14.316991791796328\n",
      "Valid accuracy:  0.3204291044776119\n",
      "Epoch:  1\n"
     ]
    },
    {
     "data": {
      "application/vnd.jupyter.widget-view+json": {
       "model_id": "7cdd600bd5694cfe842c476fd6376e3d",
       "version_major": 2,
       "version_minor": 0
      },
      "text/plain": [
       "  0%|          | 0/536 [00:00<?, ?it/s]"
      ]
     },
     "metadata": {},
     "output_type": "display_data"
    },
    {
     "name": "stdout",
     "output_type": "stream",
     "text": [
      "Train loss:  14.40693745150495\n",
      "Train accuracy:  0.3420009328358209\n"
     ]
    },
    {
     "data": {
      "application/vnd.jupyter.widget-view+json": {
       "model_id": "13f8606156964071ae454fdf453ba359",
       "version_major": 2,
       "version_minor": 0
      },
      "text/plain": [
       "  0%|          | 0/134 [00:00<?, ?it/s]"
      ]
     },
     "metadata": {},
     "output_type": "display_data"
    },
    {
     "name": "stdout",
     "output_type": "stream",
     "text": [
      "Valid loss:  15.332140513320468\n",
      "Valid accuracy:  0.3185634328358209\n",
      "Epoch:  2\n"
     ]
    },
    {
     "data": {
      "application/vnd.jupyter.widget-view+json": {
       "model_id": "c1abdc4bbdd049bf8b13667b35b18b08",
       "version_major": 2,
       "version_minor": 0
      },
      "text/plain": [
       "  0%|          | 0/536 [00:00<?, ?it/s]"
      ]
     },
     "metadata": {},
     "output_type": "display_data"
    },
    {
     "name": "stdout",
     "output_type": "stream",
     "text": [
      "Train loss:  14.012505290223592\n",
      "Train accuracy:  0.36415578358208955\n"
     ]
    },
    {
     "data": {
      "application/vnd.jupyter.widget-view+json": {
       "model_id": "670bf150bba545d5a08b62bdaa5eb648",
       "version_major": 2,
       "version_minor": 0
      },
      "text/plain": [
       "  0%|          | 0/134 [00:00<?, ?it/s]"
      ]
     },
     "metadata": {},
     "output_type": "display_data"
    },
    {
     "name": "stdout",
     "output_type": "stream",
     "text": [
      "Valid loss:  16.85602051820328\n",
      "Valid accuracy:  0.3204291044776119\n",
      "Epoch:  3\n"
     ]
    },
    {
     "data": {
      "application/vnd.jupyter.widget-view+json": {
       "model_id": "435714bd5b56477e9553680b9e50a6a4",
       "version_major": 2,
       "version_minor": 0
      },
      "text/plain": [
       "  0%|          | 0/536 [00:00<?, ?it/s]"
      ]
     },
     "metadata": {},
     "output_type": "display_data"
    },
    {
     "name": "stdout",
     "output_type": "stream",
     "text": [
      "Train loss:  13.971494605292134\n",
      "Train accuracy:  0.37080223880597013\n"
     ]
    },
    {
     "data": {
      "application/vnd.jupyter.widget-view+json": {
       "model_id": "0325841794064eb9bd121133ba21158b",
       "version_major": 2,
       "version_minor": 0
      },
      "text/plain": [
       "  0%|          | 0/134 [00:00<?, ?it/s]"
      ]
     },
     "metadata": {},
     "output_type": "display_data"
    },
    {
     "name": "stdout",
     "output_type": "stream",
     "text": [
      "Valid loss:  15.745638580464606\n",
      "Valid accuracy:  0.33348880597014924\n",
      "Epoch:  4\n"
     ]
    },
    {
     "data": {
      "application/vnd.jupyter.widget-view+json": {
       "model_id": "cd0e882214794daf924b3611747807ca",
       "version_major": 2,
       "version_minor": 0
      },
      "text/plain": [
       "  0%|          | 0/536 [00:00<?, ?it/s]"
      ]
     },
     "metadata": {},
     "output_type": "display_data"
    },
    {
     "name": "stdout",
     "output_type": "stream",
     "text": [
      "Train loss:  14.351306552317604\n",
      "Train accuracy:  0.37604944029850745\n"
     ]
    },
    {
     "data": {
      "application/vnd.jupyter.widget-view+json": {
       "model_id": "e2469a18d8a242859d4690bd3ea52c86",
       "version_major": 2,
       "version_minor": 0
      },
      "text/plain": [
       "  0%|          | 0/134 [00:00<?, ?it/s]"
      ]
     },
     "metadata": {},
     "output_type": "display_data"
    },
    {
     "name": "stdout",
     "output_type": "stream",
     "text": [
      "Valid loss:  16.961115015086843\n",
      "Valid accuracy:  0.31529850746268656\n"
     ]
    }
   ],
   "source": [
    "num_epochs = 5\n",
    "train_losses = []\n",
    "valid_losses = []\n",
    "\n",
    "for epoch in range(num_epochs):\n",
    "    print('Epoch: ', epoch)\n",
    "    \n",
    "    train_loss, train_acc = one_pass_classification(model_4, train_dl, optimizer, lossFun)\n",
    "    train_losses.append(train_loss)\n",
    "    print('Train loss: ', train_loss)\n",
    "    print('Train accuracy: ', train_acc)\n",
    "    \n",
    "    valid_loss, valid_acc = one_pass_classification(model_4, val_dl, optimizer, lossFun, backwards=False)\n",
    "    valid_losses.append(valid_loss)\n",
    "    print('Valid loss: ', valid_loss)\n",
    "    print('Valid accuracy: ', valid_acc)"
   ]
  },
  {
   "cell_type": "markdown",
   "id": "former-rendering",
   "metadata": {},
   "source": [
    "### LR = 0.01, WD = 0.001"
   ]
  },
  {
   "cell_type": "code",
   "execution_count": 51,
   "id": "shared-anchor",
   "metadata": {},
   "outputs": [],
   "source": [
    "model_5 = models.alexnet(pretrained=True)"
   ]
  },
  {
   "cell_type": "code",
   "execution_count": 52,
   "id": "spanish-gravity",
   "metadata": {},
   "outputs": [],
   "source": [
    "for param in model_5.parameters():\n",
    "    param.requires_grad = False"
   ]
  },
  {
   "cell_type": "code",
   "execution_count": 53,
   "id": "skilled-terrace",
   "metadata": {},
   "outputs": [],
   "source": [
    "model_5.classifier[6] = nn.Linear(4096, 52)"
   ]
  },
  {
   "cell_type": "code",
   "execution_count": 54,
   "id": "polar-diploma",
   "metadata": {},
   "outputs": [],
   "source": [
    "params_to_update = []\n",
    "\n",
    "for param in model_4.parameters():\n",
    "    if param.requires_grad == True:\n",
    "        params_to_update.append(param)"
   ]
  },
  {
   "cell_type": "code",
   "execution_count": 55,
   "id": "steady-anchor",
   "metadata": {},
   "outputs": [],
   "source": [
    "optimizer = optim.Adam(params_to_update, lr=0.01, weight_decay=0.001)\n",
    "lossFun = nn.CrossEntropyLoss()"
   ]
  },
  {
   "cell_type": "code",
   "execution_count": 56,
   "id": "integrated-colony",
   "metadata": {},
   "outputs": [
    {
     "name": "stdout",
     "output_type": "stream",
     "text": [
      "Epoch:  0\n"
     ]
    },
    {
     "data": {
      "application/vnd.jupyter.widget-view+json": {
       "model_id": "21ce09ad96004c2d9c5f0bb7b5e5b3e0",
       "version_major": 2,
       "version_minor": 0
      },
      "text/plain": [
       "  0%|          | 0/536 [00:00<?, ?it/s]"
      ]
     },
     "metadata": {},
     "output_type": "display_data"
    },
    {
     "name": "stdout",
     "output_type": "stream",
     "text": [
      "Train loss:  4.303370224895762\n",
      "Train accuracy:  0.013759328358208955\n"
     ]
    },
    {
     "data": {
      "application/vnd.jupyter.widget-view+json": {
       "model_id": "953f2be17c5d4704952c6d17f8392a12",
       "version_major": 2,
       "version_minor": 0
      },
      "text/plain": [
       "  0%|          | 0/134 [00:00<?, ?it/s]"
      ]
     },
     "metadata": {},
     "output_type": "display_data"
    },
    {
     "name": "stdout",
     "output_type": "stream",
     "text": [
      "Valid loss:  4.237398869955718\n",
      "Valid accuracy:  0.018656716417910446\n",
      "Epoch:  1\n"
     ]
    },
    {
     "data": {
      "application/vnd.jupyter.widget-view+json": {
       "model_id": "8511ec2915264bceb0f6226bb893771c",
       "version_major": 2,
       "version_minor": 0
      },
      "text/plain": [
       "  0%|          | 0/536 [00:00<?, ?it/s]"
      ]
     },
     "metadata": {},
     "output_type": "display_data"
    },
    {
     "name": "stdout",
     "output_type": "stream",
     "text": [
      "Train loss:  4.298799957802046\n",
      "Train accuracy:  0.014692164179104478\n"
     ]
    },
    {
     "data": {
      "application/vnd.jupyter.widget-view+json": {
       "model_id": "1df4ad1f45d9401196a9010058da129a",
       "version_major": 2,
       "version_minor": 0
      },
      "text/plain": [
       "  0%|          | 0/134 [00:00<?, ?it/s]"
      ]
     },
     "metadata": {},
     "output_type": "display_data"
    },
    {
     "name": "stdout",
     "output_type": "stream",
     "text": [
      "Valid loss:  4.237398889527392\n",
      "Valid accuracy:  0.018656716417910446\n",
      "Epoch:  2\n"
     ]
    },
    {
     "data": {
      "application/vnd.jupyter.widget-view+json": {
       "model_id": "84239ab17e484abe8947735e3e84cb70",
       "version_major": 2,
       "version_minor": 0
      },
      "text/plain": [
       "  0%|          | 0/536 [00:00<?, ?it/s]"
      ]
     },
     "metadata": {},
     "output_type": "display_data"
    },
    {
     "name": "stdout",
     "output_type": "stream",
     "text": [
      "Train loss:  4.3087844595090665\n",
      "Train accuracy:  0.014692164179104478\n"
     ]
    },
    {
     "data": {
      "application/vnd.jupyter.widget-view+json": {
       "model_id": "fb7634a5726b4070aeaf2894cd7cc456",
       "version_major": 2,
       "version_minor": 0
      },
      "text/plain": [
       "  0%|          | 0/134 [00:00<?, ?it/s]"
      ]
     },
     "metadata": {},
     "output_type": "display_data"
    },
    {
     "name": "stdout",
     "output_type": "stream",
     "text": [
      "Valid loss:  4.2373988486048\n",
      "Valid accuracy:  0.018656716417910446\n",
      "Epoch:  3\n"
     ]
    },
    {
     "data": {
      "application/vnd.jupyter.widget-view+json": {
       "model_id": "03dead24dd9e401e99b5ac2baab2b61c",
       "version_major": 2,
       "version_minor": 0
      },
      "text/plain": [
       "  0%|          | 0/536 [00:00<?, ?it/s]"
      ]
     },
     "metadata": {},
     "output_type": "display_data"
    },
    {
     "name": "stdout",
     "output_type": "stream",
     "text": [
      "Train loss:  4.303896164271369\n",
      "Train accuracy:  0.013875932835820896\n"
     ]
    },
    {
     "data": {
      "application/vnd.jupyter.widget-view+json": {
       "model_id": "23df3e28d42d4876a72a39c885fd5eea",
       "version_major": 2,
       "version_minor": 0
      },
      "text/plain": [
       "  0%|          | 0/134 [00:00<?, ?it/s]"
      ]
     },
     "metadata": {},
     "output_type": "display_data"
    },
    {
     "name": "stdout",
     "output_type": "stream",
     "text": [
      "Valid loss:  4.237398898423607\n",
      "Valid accuracy:  0.018656716417910446\n",
      "Epoch:  4\n"
     ]
    },
    {
     "data": {
      "application/vnd.jupyter.widget-view+json": {
       "model_id": "d5e4385f08fb4698866364aa8e29ba08",
       "version_major": 2,
       "version_minor": 0
      },
      "text/plain": [
       "  0%|          | 0/536 [00:00<?, ?it/s]"
      ]
     },
     "metadata": {},
     "output_type": "display_data"
    },
    {
     "name": "stdout",
     "output_type": "stream",
     "text": [
      "Train loss:  4.295518224363897\n",
      "Train accuracy:  0.01632462686567164\n"
     ]
    },
    {
     "data": {
      "application/vnd.jupyter.widget-view+json": {
       "model_id": "36454483b81e4282b9da63310f95c25e",
       "version_major": 2,
       "version_minor": 0
      },
      "text/plain": [
       "  0%|          | 0/134 [00:00<?, ?it/s]"
      ]
     },
     "metadata": {},
     "output_type": "display_data"
    },
    {
     "name": "stdout",
     "output_type": "stream",
     "text": [
      "Valid loss:  4.237398873514204\n",
      "Valid accuracy:  0.018656716417910446\n"
     ]
    }
   ],
   "source": [
    "num_epochs = 5\n",
    "train_losses = []\n",
    "valid_losses = []\n",
    "\n",
    "for epoch in range(num_epochs):\n",
    "    print('Epoch: ', epoch)\n",
    "    \n",
    "    train_loss, train_acc = one_pass_classification(model_5, train_dl, optimizer, lossFun)\n",
    "    train_losses.append(train_loss)\n",
    "    print('Train loss: ', train_loss)\n",
    "    print('Train accuracy: ', train_acc)\n",
    "    \n",
    "    valid_loss, valid_acc = one_pass_classification(model_5, val_dl, optimizer, lossFun, backwards=False)\n",
    "    valid_losses.append(valid_loss)\n",
    "    print('Valid loss: ', valid_loss)\n",
    "    print('Valid accuracy: ', valid_acc)"
   ]
  },
  {
   "cell_type": "markdown",
   "id": "supported-prize",
   "metadata": {},
   "source": [
    "### LR = 0.005"
   ]
  },
  {
   "cell_type": "code",
   "execution_count": 57,
   "id": "labeled-statistics",
   "metadata": {},
   "outputs": [],
   "source": [
    "model_2 = models.alexnet(pretrained=True)"
   ]
  },
  {
   "cell_type": "code",
   "execution_count": 58,
   "id": "canadian-geology",
   "metadata": {},
   "outputs": [],
   "source": [
    "for param in model_2.parameters():\n",
    "    param.requires_grad = False"
   ]
  },
  {
   "cell_type": "code",
   "execution_count": 59,
   "id": "appreciated-liabilities",
   "metadata": {},
   "outputs": [],
   "source": [
    "model_2.classifier[6] = nn.Linear(4096, 52)"
   ]
  },
  {
   "cell_type": "code",
   "execution_count": 60,
   "id": "centered-bible",
   "metadata": {},
   "outputs": [],
   "source": [
    "params_to_update = []\n",
    "\n",
    "for param in model_2.parameters():\n",
    "    if param.requires_grad == True:\n",
    "        params_to_update.append(param)"
   ]
  },
  {
   "cell_type": "code",
   "execution_count": 61,
   "id": "complicated-communication",
   "metadata": {},
   "outputs": [],
   "source": [
    "optimizer = optim.Adam(params_to_update, lr=0.005)\n",
    "lossFun = nn.CrossEntropyLoss()"
   ]
  },
  {
   "cell_type": "code",
   "execution_count": 62,
   "id": "unusual-colorado",
   "metadata": {},
   "outputs": [
    {
     "name": "stdout",
     "output_type": "stream",
     "text": [
      "Epoch:  0\n"
     ]
    },
    {
     "data": {
      "application/vnd.jupyter.widget-view+json": {
       "model_id": "c920ca8039cc4ee38eff22eb4e872212",
       "version_major": 2,
       "version_minor": 0
      },
      "text/plain": [
       "  0%|          | 0/536 [00:00<?, ?it/s]"
      ]
     },
     "metadata": {},
     "output_type": "display_data"
    },
    {
     "name": "stdout",
     "output_type": "stream",
     "text": [
      "Train loss:  9.230837301976646\n",
      "Train accuracy:  0.2888292910447761\n"
     ]
    },
    {
     "data": {
      "application/vnd.jupyter.widget-view+json": {
       "model_id": "72eee1767d53418f961bbc134852dd3e",
       "version_major": 2,
       "version_minor": 0
      },
      "text/plain": [
       "  0%|          | 0/134 [00:00<?, ?it/s]"
      ]
     },
     "metadata": {},
     "output_type": "display_data"
    },
    {
     "name": "stdout",
     "output_type": "stream",
     "text": [
      "Valid loss:  9.500314895786456\n",
      "Valid accuracy:  0.3269589552238806\n",
      "Epoch:  1\n"
     ]
    },
    {
     "data": {
      "application/vnd.jupyter.widget-view+json": {
       "model_id": "c212da22c23b43559b7125453ea47cea",
       "version_major": 2,
       "version_minor": 0
      },
      "text/plain": [
       "  0%|          | 0/536 [00:00<?, ?it/s]"
      ]
     },
     "metadata": {},
     "output_type": "display_data"
    },
    {
     "name": "stdout",
     "output_type": "stream",
     "text": [
      "Train loss:  6.839349558326735\n",
      "Train accuracy:  0.45825559701492535\n"
     ]
    },
    {
     "data": {
      "application/vnd.jupyter.widget-view+json": {
       "model_id": "4d9b0eed5aff482da4ad6ee5d337102c",
       "version_major": 2,
       "version_minor": 0
      },
      "text/plain": [
       "  0%|          | 0/134 [00:00<?, ?it/s]"
      ]
     },
     "metadata": {},
     "output_type": "display_data"
    },
    {
     "name": "stdout",
     "output_type": "stream",
     "text": [
      "Valid loss:  9.879660163352739\n",
      "Valid accuracy:  0.37966417910447764\n",
      "Epoch:  2\n"
     ]
    },
    {
     "data": {
      "application/vnd.jupyter.widget-view+json": {
       "model_id": "9d273a01fdb547bdadb2be850978d735",
       "version_major": 2,
       "version_minor": 0
      },
      "text/plain": [
       "  0%|          | 0/536 [00:00<?, ?it/s]"
      ]
     },
     "metadata": {},
     "output_type": "display_data"
    },
    {
     "name": "stdout",
     "output_type": "stream",
     "text": [
      "Train loss:  5.731082466278059\n",
      "Train accuracy:  0.5451259328358209\n"
     ]
    },
    {
     "data": {
      "application/vnd.jupyter.widget-view+json": {
       "model_id": "9a9bebce1c4a43b19b828e967d51bac6",
       "version_major": 2,
       "version_minor": 0
      },
      "text/plain": [
       "  0%|          | 0/134 [00:00<?, ?it/s]"
      ]
     },
     "metadata": {},
     "output_type": "display_data"
    },
    {
     "name": "stdout",
     "output_type": "stream",
     "text": [
      "Valid loss:  10.380617358791294\n",
      "Valid accuracy:  0.3927238805970149\n",
      "Epoch:  3\n"
     ]
    },
    {
     "data": {
      "application/vnd.jupyter.widget-view+json": {
       "model_id": "e3459172fca6470d8a6cf96300b8bcb9",
       "version_major": 2,
       "version_minor": 0
      },
      "text/plain": [
       "  0%|          | 0/536 [00:00<?, ?it/s]"
      ]
     },
     "metadata": {},
     "output_type": "display_data"
    },
    {
     "name": "stdout",
     "output_type": "stream",
     "text": [
      "Train loss:  5.208544245517966\n",
      "Train accuracy:  0.578008395522388\n"
     ]
    },
    {
     "data": {
      "application/vnd.jupyter.widget-view+json": {
       "model_id": "75941fd3481541d19e7021aef78b599d",
       "version_major": 2,
       "version_minor": 0
      },
      "text/plain": [
       "  0%|          | 0/134 [00:00<?, ?it/s]"
      ]
     },
     "metadata": {},
     "output_type": "display_data"
    },
    {
     "name": "stdout",
     "output_type": "stream",
     "text": [
      "Valid loss:  11.57838810201901\n",
      "Valid accuracy:  0.3885261194029851\n",
      "Epoch:  4\n"
     ]
    },
    {
     "data": {
      "application/vnd.jupyter.widget-view+json": {
       "model_id": "022b1e15f93e4ab297062f6838bd7226",
       "version_major": 2,
       "version_minor": 0
      },
      "text/plain": [
       "  0%|          | 0/536 [00:00<?, ?it/s]"
      ]
     },
     "metadata": {},
     "output_type": "display_data"
    },
    {
     "name": "stdout",
     "output_type": "stream",
     "text": [
      "Train loss:  4.947100140154362\n",
      "Train accuracy:  0.6087919776119403\n"
     ]
    },
    {
     "data": {
      "application/vnd.jupyter.widget-view+json": {
       "model_id": "0a1dc75c705f4a589e3e5bca0d011d07",
       "version_major": 2,
       "version_minor": 0
      },
      "text/plain": [
       "  0%|          | 0/134 [00:00<?, ?it/s]"
      ]
     },
     "metadata": {},
     "output_type": "display_data"
    },
    {
     "name": "stdout",
     "output_type": "stream",
     "text": [
      "Valid loss:  12.28867555376309\n",
      "Valid accuracy:  0.42350746268656714\n"
     ]
    }
   ],
   "source": [
    "num_epochs = 5\n",
    "train_losses = []\n",
    "valid_losses = []\n",
    "\n",
    "for epoch in range(num_epochs):\n",
    "    print('Epoch: ', epoch)\n",
    "    \n",
    "    train_loss, train_acc = one_pass_classification(model_2, train_dl, optimizer, lossFun)\n",
    "    train_losses.append(train_loss)\n",
    "    print('Train loss: ', train_loss)\n",
    "    print('Train accuracy: ', train_acc)\n",
    "    \n",
    "    valid_loss, valid_acc = one_pass_classification(model_2, val_dl, optimizer, lossFun, backwards=False)\n",
    "    valid_losses.append(valid_loss)\n",
    "    print('Valid loss: ', valid_loss)\n",
    "    print('Valid accuracy: ', valid_acc)"
   ]
  },
  {
   "cell_type": "markdown",
   "id": "coated-renaissance",
   "metadata": {},
   "source": [
    "### LR = 0.005, WD = 0.1"
   ]
  },
  {
   "cell_type": "code",
   "execution_count": 39,
   "id": "maritime-arrangement",
   "metadata": {},
   "outputs": [],
   "source": [
    "model_3 = models.alexnet(pretrained=True)"
   ]
  },
  {
   "cell_type": "code",
   "execution_count": 40,
   "id": "floral-villa",
   "metadata": {},
   "outputs": [],
   "source": [
    "for param in model_3.parameters():\n",
    "    param.requires_grad = False"
   ]
  },
  {
   "cell_type": "code",
   "execution_count": 41,
   "id": "norwegian-morrison",
   "metadata": {},
   "outputs": [],
   "source": [
    "model_3.classifier[6] = nn.Linear(4096, 52)"
   ]
  },
  {
   "cell_type": "code",
   "execution_count": 42,
   "id": "continued-crown",
   "metadata": {},
   "outputs": [],
   "source": [
    "params_to_update = []\n",
    "\n",
    "for param in model_3.parameters():\n",
    "    if param.requires_grad == True:\n",
    "        params_to_update.append(param)"
   ]
  },
  {
   "cell_type": "code",
   "execution_count": 43,
   "id": "independent-palestine",
   "metadata": {},
   "outputs": [],
   "source": [
    "optimizer = optim.Adam(params_to_update, lr=0.005, weight_decay=0.1)\n",
    "lossFun = nn.CrossEntropyLoss()"
   ]
  },
  {
   "cell_type": "code",
   "execution_count": 44,
   "id": "olympic-strike",
   "metadata": {},
   "outputs": [
    {
     "name": "stdout",
     "output_type": "stream",
     "text": [
      "Epoch:  0\n"
     ]
    },
    {
     "data": {
      "application/vnd.jupyter.widget-view+json": {
       "model_id": "0153abe5181846fe91d49b59d3f8dfe0",
       "version_major": 2,
       "version_minor": 0
      },
      "text/plain": [
       "  0%|          | 0/536 [00:00<?, ?it/s]"
      ]
     },
     "metadata": {},
     "output_type": "display_data"
    },
    {
     "name": "stdout",
     "output_type": "stream",
     "text": [
      "Train loss:  6.6836837819263115\n",
      "Train accuracy:  0.23717350746268656\n"
     ]
    },
    {
     "data": {
      "application/vnd.jupyter.widget-view+json": {
       "model_id": "c7c41a714b964b9aa0b26f291fb0d32b",
       "version_major": 2,
       "version_minor": 0
      },
      "text/plain": [
       "  0%|          | 0/134 [00:00<?, ?it/s]"
      ]
     },
     "metadata": {},
     "output_type": "display_data"
    },
    {
     "name": "stdout",
     "output_type": "stream",
     "text": [
      "Valid loss:  6.537798031052547\n",
      "Valid accuracy:  0.251865671641791\n",
      "Epoch:  1\n"
     ]
    },
    {
     "data": {
      "application/vnd.jupyter.widget-view+json": {
       "model_id": "434bae7b3d874d6da63d1cbdf57a67b3",
       "version_major": 2,
       "version_minor": 0
      },
      "text/plain": [
       "  0%|          | 0/536 [00:00<?, ?it/s]"
      ]
     },
     "metadata": {},
     "output_type": "display_data"
    },
    {
     "name": "stdout",
     "output_type": "stream",
     "text": [
      "Train loss:  6.7922886027329\n",
      "Train accuracy:  0.2578125\n"
     ]
    },
    {
     "data": {
      "application/vnd.jupyter.widget-view+json": {
       "model_id": "151281332a074cc5bfab8e75c536008c",
       "version_major": 2,
       "version_minor": 0
      },
      "text/plain": [
       "  0%|          | 0/134 [00:00<?, ?it/s]"
      ]
     },
     "metadata": {},
     "output_type": "display_data"
    },
    {
     "name": "stdout",
     "output_type": "stream",
     "text": [
      "Valid loss:  6.271312327527288\n",
      "Valid accuracy:  0.2574626865671642\n",
      "Epoch:  2\n"
     ]
    },
    {
     "data": {
      "application/vnd.jupyter.widget-view+json": {
       "model_id": "499c2ca4316b406a8bccd8b19540be45",
       "version_major": 2,
       "version_minor": 0
      },
      "text/plain": [
       "  0%|          | 0/536 [00:00<?, ?it/s]"
      ]
     },
     "metadata": {},
     "output_type": "display_data"
    },
    {
     "name": "stdout",
     "output_type": "stream",
     "text": [
      "Train loss:  6.6583087524371365\n",
      "Train accuracy:  0.26096082089552236\n"
     ]
    },
    {
     "data": {
      "application/vnd.jupyter.widget-view+json": {
       "model_id": "c73d9a9dd3d4472aa9e5a62e7cf65319",
       "version_major": 2,
       "version_minor": 0
      },
      "text/plain": [
       "  0%|          | 0/134 [00:00<?, ?it/s]"
      ]
     },
     "metadata": {},
     "output_type": "display_data"
    },
    {
     "name": "stdout",
     "output_type": "stream",
     "text": [
      "Valid loss:  6.40278647550896\n",
      "Valid accuracy:  0.28544776119402987\n",
      "Epoch:  3\n"
     ]
    },
    {
     "data": {
      "application/vnd.jupyter.widget-view+json": {
       "model_id": "47af7d77b4554d88a50aca3c57998890",
       "version_major": 2,
       "version_minor": 0
      },
      "text/plain": [
       "  0%|          | 0/536 [00:00<?, ?it/s]"
      ]
     },
     "metadata": {},
     "output_type": "display_data"
    },
    {
     "name": "stdout",
     "output_type": "stream",
     "text": [
      "Train loss:  6.8443153169172914\n",
      "Train accuracy:  0.2583955223880597\n"
     ]
    },
    {
     "data": {
      "application/vnd.jupyter.widget-view+json": {
       "model_id": "91e5bf654dc2479f8d4bb6d85d2cf725",
       "version_major": 2,
       "version_minor": 0
      },
      "text/plain": [
       "  0%|          | 0/134 [00:00<?, ?it/s]"
      ]
     },
     "metadata": {},
     "output_type": "display_data"
    },
    {
     "name": "stdout",
     "output_type": "stream",
     "text": [
      "Valid loss:  6.457734236076696\n",
      "Valid accuracy:  0.26492537313432835\n",
      "Epoch:  4\n"
     ]
    },
    {
     "data": {
      "application/vnd.jupyter.widget-view+json": {
       "model_id": "ad7bec2ca56644d7bd5a26c6a305581f",
       "version_major": 2,
       "version_minor": 0
      },
      "text/plain": [
       "  0%|          | 0/536 [00:00<?, ?it/s]"
      ]
     },
     "metadata": {},
     "output_type": "display_data"
    },
    {
     "name": "stdout",
     "output_type": "stream",
     "text": [
      "Train loss:  6.730166456592617\n",
      "Train accuracy:  0.26317630597014924\n"
     ]
    },
    {
     "data": {
      "application/vnd.jupyter.widget-view+json": {
       "model_id": "52c9e37b6e1c4269a4fa6eae22aaebf3",
       "version_major": 2,
       "version_minor": 0
      },
      "text/plain": [
       "  0%|          | 0/134 [00:00<?, ?it/s]"
      ]
     },
     "metadata": {},
     "output_type": "display_data"
    },
    {
     "name": "stdout",
     "output_type": "stream",
     "text": [
      "Valid loss:  6.755594449256783\n",
      "Valid accuracy:  0.2667910447761194\n"
     ]
    }
   ],
   "source": [
    "num_epochs = 5\n",
    "train_losses = []\n",
    "valid_losses = []\n",
    "\n",
    "for epoch in range(num_epochs):\n",
    "    print('Epoch: ', epoch)\n",
    "    \n",
    "    train_loss, train_acc = one_pass_classification(model_3, train_dl, optimizer, lossFun)\n",
    "    train_losses.append(train_loss)\n",
    "    print('Train loss: ', train_loss)\n",
    "    print('Train accuracy: ', train_acc)\n",
    "    \n",
    "    valid_loss, valid_acc = one_pass_classification(model_3, val_dl, optimizer, lossFun, backwards=False)\n",
    "    valid_losses.append(valid_loss)\n",
    "    print('Valid loss: ', valid_loss)\n",
    "    print('Valid accuracy: ', valid_acc)"
   ]
  },
  {
   "cell_type": "code",
   "execution_count": null,
   "id": "varied-cause",
   "metadata": {},
   "outputs": [],
   "source": [
    "# save model\n"
   ]
  }
 ],
 "metadata": {
  "kernelspec": {
   "display_name": "Python 3",
   "language": "python",
   "name": "python3"
  },
  "language_info": {
   "codemirror_mode": {
    "name": "ipython",
    "version": 3
   },
   "file_extension": ".py",
   "mimetype": "text/x-python",
   "name": "python",
   "nbconvert_exporter": "python",
   "pygments_lexer": "ipython3",
   "version": "3.8.3"
  }
 },
 "nbformat": 4,
 "nbformat_minor": 5
}
