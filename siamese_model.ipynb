{
 "cells": [
  {
   "cell_type": "code",
   "execution_count": 2,
   "id": "yellow-economy",
   "metadata": {},
   "outputs": [],
   "source": [
    "import cv2\n",
    "import random\n",
    "import pandas as pd\n",
    "import numpy as np\n",
    "import torch\n",
    "import torch.nn as nn\n",
    "import torch.optim as optim\n",
    "from sklearn.metrics import roc_auc_score, confusion_matrix\n",
    "from torch.utils.data import Dataset, DataLoader\n",
    "from tqdm.notebook import tqdm\n",
    "\n",
    "# data augmentation\n",
    "import albumentations as A\n",
    "from albumentations.pytorch import ToTensorV2\n",
    "\n",
    "# pretrained models\n",
    "import torchvision\n",
    "from torchvision import models, transforms\n",
    "\n",
    "from functions import *\n",
    "from classes import *"
   ]
  },
  {
   "cell_type": "markdown",
   "id": "trained-anniversary",
   "metadata": {},
   "source": [
    "## Load in metadata"
   ]
  },
  {
   "cell_type": "code",
   "execution_count": 2,
   "id": "gentle-attack",
   "metadata": {},
   "outputs": [],
   "source": [
    "all_metadata = pd.read_csv('data/all_data_info.csv')"
   ]
  },
  {
   "cell_type": "code",
   "execution_count": 3,
   "id": "persistent-particle",
   "metadata": {},
   "outputs": [],
   "source": [
    "# select artists for the task\n",
    "artists = ['John Singer Sargent', 'Pablo Picasso', 'Pierre-Auguste Renoir', 'Paul Cezanne', 'Camille Pissarro', 'Paul Gauguin', \n",
    "           'Claude Monet', 'Edgar Degas', 'Henri Matisse', 'Vincent van Gogh', 'Childe Hassam', 'Pyotr Konchalovsky', 'Martiros Saryan', \n",
    "           'Boris Kustodiev', 'Nicholas Roerich', 'Salvador Dali', 'Alfred Sisley', 'Henri Martin', 'Rene Magritte', 'Konstantin Korovin', \n",
    "           'Mary Cassatt', 'Gustave Loiseau', 'John Henry Twachtman', 'Georges Braque', 'Pierre Bonnard', \"Georgia O'Keeffe\", \n",
    "           'Gustave Caillebotte', 'Ilya Mashkov', 'Andy Warhol', 'Theo van Rysselberghe', 'Georges Seurat', 'Edward Hopper', 'Maxime Maufra', \n",
    "           'Diego Rivera', 'Henri-Edmond Cross', 'Robert Julian Onderdonk', 'Guy Rose', 'Andre Derain', 'Willard Metcalf', 'Frida Kahlo', \n",
    "           'Paul Signac', 'William James Glackens', 'Frantisek Kupka', 'Julian Alden Weir', 'Paul Serusier', 'Max Pechstein', \n",
    "           'Victor Borisov-Musatov', 'Armand Guillaumin', 'Spyros Papaloukas', 'Nicolae Darascu', 'Albert Marquet', 'Ion Theodorescu-Sion']"
   ]
  },
  {
   "cell_type": "code",
   "execution_count": 4,
   "id": "paperback-implement",
   "metadata": {},
   "outputs": [],
   "source": [
    "all_metadata['selected'] = all_metadata['artist'].apply(lambda x: x in artists)"
   ]
  },
  {
   "cell_type": "code",
   "execution_count": 5,
   "id": "social-trauma",
   "metadata": {},
   "outputs": [],
   "source": [
    "metadata = all_metadata[all_metadata['selected'] == True]"
   ]
  },
  {
   "cell_type": "code",
   "execution_count": 6,
   "id": "acoustic-blink",
   "metadata": {},
   "outputs": [],
   "source": [
    "metadata = metadata.drop('selected', axis=1)"
   ]
  },
  {
   "cell_type": "code",
   "execution_count": 7,
   "id": "disabled-antibody",
   "metadata": {},
   "outputs": [
    {
     "data": {
      "text/html": [
       "<div>\n",
       "<style scoped>\n",
       "    .dataframe tbody tr th:only-of-type {\n",
       "        vertical-align: middle;\n",
       "    }\n",
       "\n",
       "    .dataframe tbody tr th {\n",
       "        vertical-align: top;\n",
       "    }\n",
       "\n",
       "    .dataframe thead th {\n",
       "        text-align: right;\n",
       "    }\n",
       "</style>\n",
       "<table border=\"1\" class=\"dataframe\">\n",
       "  <thead>\n",
       "    <tr style=\"text-align: right;\">\n",
       "      <th></th>\n",
       "      <th>artist</th>\n",
       "      <th>date</th>\n",
       "      <th>genre</th>\n",
       "      <th>pixelsx</th>\n",
       "      <th>pixelsy</th>\n",
       "      <th>size_bytes</th>\n",
       "      <th>source</th>\n",
       "      <th>style</th>\n",
       "      <th>title</th>\n",
       "      <th>artist_group</th>\n",
       "      <th>in_train</th>\n",
       "      <th>new_filename</th>\n",
       "    </tr>\n",
       "  </thead>\n",
       "  <tbody>\n",
       "    <tr>\n",
       "      <th>15</th>\n",
       "      <td>Paul Serusier</td>\n",
       "      <td>1890</td>\n",
       "      <td>genre painting</td>\n",
       "      <td>7099.0</td>\n",
       "      <td>5857.0</td>\n",
       "      <td>9803854.0</td>\n",
       "      <td>wikiart</td>\n",
       "      <td>Cloisonnism</td>\n",
       "      <td>Seaweed Gatherer</td>\n",
       "      <td>train_and_test</td>\n",
       "      <td>False</td>\n",
       "      <td>32996.jpg</td>\n",
       "    </tr>\n",
       "    <tr>\n",
       "      <th>41</th>\n",
       "      <td>Georges Seurat</td>\n",
       "      <td>1884</td>\n",
       "      <td>NaN</td>\n",
       "      <td>6367.0</td>\n",
       "      <td>4226.0</td>\n",
       "      <td>11579390.0</td>\n",
       "      <td>wikipedia</td>\n",
       "      <td>Pointillism</td>\n",
       "      <td>Bathers at Asnières</td>\n",
       "      <td>train_and_test</td>\n",
       "      <td>True</td>\n",
       "      <td>39751.jpg</td>\n",
       "    </tr>\n",
       "    <tr>\n",
       "      <th>65</th>\n",
       "      <td>Paul Signac</td>\n",
       "      <td>NaN</td>\n",
       "      <td>cityscape</td>\n",
       "      <td>5616.0</td>\n",
       "      <td>4312.0</td>\n",
       "      <td>10612858.0</td>\n",
       "      <td>wikiart</td>\n",
       "      <td>Pointillism</td>\n",
       "      <td>View of the Port of Marseilles</td>\n",
       "      <td>train_and_test</td>\n",
       "      <td>True</td>\n",
       "      <td>74221.jpg</td>\n",
       "    </tr>\n",
       "    <tr>\n",
       "      <th>69</th>\n",
       "      <td>Georges Seurat</td>\n",
       "      <td>1884</td>\n",
       "      <td>genre painting</td>\n",
       "      <td>5910.0</td>\n",
       "      <td>4001.0</td>\n",
       "      <td>5330653.0</td>\n",
       "      <td>wikiart</td>\n",
       "      <td>Pointillism</td>\n",
       "      <td>Study for A Sunday on La Grande Jatte</td>\n",
       "      <td>train_and_test</td>\n",
       "      <td>True</td>\n",
       "      <td>31337.jpg</td>\n",
       "    </tr>\n",
       "    <tr>\n",
       "      <th>96</th>\n",
       "      <td>Gustave Caillebotte</td>\n",
       "      <td>1881</td>\n",
       "      <td>genre painting</td>\n",
       "      <td>5164.0</td>\n",
       "      <td>4087.0</td>\n",
       "      <td>3587461.0</td>\n",
       "      <td>wikiart</td>\n",
       "      <td>Impressionism</td>\n",
       "      <td>Rising Road</td>\n",
       "      <td>train_and_test</td>\n",
       "      <td>False</td>\n",
       "      <td>29616.jpg</td>\n",
       "    </tr>\n",
       "  </tbody>\n",
       "</table>\n",
       "</div>"
      ],
      "text/plain": [
       "                 artist  date           genre  pixelsx  pixelsy  size_bytes  \\\n",
       "15        Paul Serusier  1890  genre painting   7099.0   5857.0   9803854.0   \n",
       "41       Georges Seurat  1884             NaN   6367.0   4226.0  11579390.0   \n",
       "65          Paul Signac   NaN       cityscape   5616.0   4312.0  10612858.0   \n",
       "69       Georges Seurat  1884  genre painting   5910.0   4001.0   5330653.0   \n",
       "96  Gustave Caillebotte  1881  genre painting   5164.0   4087.0   3587461.0   \n",
       "\n",
       "       source          style                                  title  \\\n",
       "15    wikiart    Cloisonnism                       Seaweed Gatherer   \n",
       "41  wikipedia    Pointillism                   Bathers at Asnières    \n",
       "65    wikiart    Pointillism         View of the Port of Marseilles   \n",
       "69    wikiart    Pointillism  Study for A Sunday on La Grande Jatte   \n",
       "96    wikiart  Impressionism                            Rising Road   \n",
       "\n",
       "      artist_group  in_train new_filename  \n",
       "15  train_and_test     False    32996.jpg  \n",
       "41  train_and_test      True    39751.jpg  \n",
       "65  train_and_test      True    74221.jpg  \n",
       "69  train_and_test      True    31337.jpg  \n",
       "96  train_and_test     False    29616.jpg  "
      ]
     },
     "execution_count": 7,
     "metadata": {},
     "output_type": "execute_result"
    }
   ],
   "source": [
    "metadata.head()"
   ]
  },
  {
   "cell_type": "code",
   "execution_count": 8,
   "id": "comprehensive-scholar",
   "metadata": {},
   "outputs": [],
   "source": [
    "metadata.to_csv('data/metadata.csv', index=None)"
   ]
  },
  {
   "cell_type": "code",
   "execution_count": 3,
   "id": "turkish-filling",
   "metadata": {},
   "outputs": [],
   "source": [
    "df = pd.read_csv('data/metadata.csv')"
   ]
  },
  {
   "cell_type": "code",
   "execution_count": 4,
   "id": "saving-andrew",
   "metadata": {},
   "outputs": [
    {
     "data": {
      "text/html": [
       "<div>\n",
       "<style scoped>\n",
       "    .dataframe tbody tr th:only-of-type {\n",
       "        vertical-align: middle;\n",
       "    }\n",
       "\n",
       "    .dataframe tbody tr th {\n",
       "        vertical-align: top;\n",
       "    }\n",
       "\n",
       "    .dataframe thead th {\n",
       "        text-align: right;\n",
       "    }\n",
       "</style>\n",
       "<table border=\"1\" class=\"dataframe\">\n",
       "  <thead>\n",
       "    <tr style=\"text-align: right;\">\n",
       "      <th></th>\n",
       "      <th>artist</th>\n",
       "      <th>date</th>\n",
       "      <th>genre</th>\n",
       "      <th>pixelsx</th>\n",
       "      <th>pixelsy</th>\n",
       "      <th>size_bytes</th>\n",
       "      <th>source</th>\n",
       "      <th>style</th>\n",
       "      <th>title</th>\n",
       "      <th>artist_group</th>\n",
       "      <th>in_train</th>\n",
       "      <th>new_filename</th>\n",
       "    </tr>\n",
       "  </thead>\n",
       "  <tbody>\n",
       "    <tr>\n",
       "      <th>0</th>\n",
       "      <td>Paul Serusier</td>\n",
       "      <td>1890</td>\n",
       "      <td>genre painting</td>\n",
       "      <td>7099.0</td>\n",
       "      <td>5857.0</td>\n",
       "      <td>9803854.0</td>\n",
       "      <td>wikiart</td>\n",
       "      <td>Cloisonnism</td>\n",
       "      <td>Seaweed Gatherer</td>\n",
       "      <td>train_and_test</td>\n",
       "      <td>False</td>\n",
       "      <td>32996.jpg</td>\n",
       "    </tr>\n",
       "    <tr>\n",
       "      <th>1</th>\n",
       "      <td>Georges Seurat</td>\n",
       "      <td>1884</td>\n",
       "      <td>NaN</td>\n",
       "      <td>6367.0</td>\n",
       "      <td>4226.0</td>\n",
       "      <td>11579390.0</td>\n",
       "      <td>wikipedia</td>\n",
       "      <td>Pointillism</td>\n",
       "      <td>Bathers at Asnières</td>\n",
       "      <td>train_and_test</td>\n",
       "      <td>True</td>\n",
       "      <td>39751.jpg</td>\n",
       "    </tr>\n",
       "    <tr>\n",
       "      <th>2</th>\n",
       "      <td>Paul Signac</td>\n",
       "      <td>NaN</td>\n",
       "      <td>cityscape</td>\n",
       "      <td>5616.0</td>\n",
       "      <td>4312.0</td>\n",
       "      <td>10612858.0</td>\n",
       "      <td>wikiart</td>\n",
       "      <td>Pointillism</td>\n",
       "      <td>View of the Port of Marseilles</td>\n",
       "      <td>train_and_test</td>\n",
       "      <td>True</td>\n",
       "      <td>74221.jpg</td>\n",
       "    </tr>\n",
       "    <tr>\n",
       "      <th>3</th>\n",
       "      <td>Georges Seurat</td>\n",
       "      <td>1884</td>\n",
       "      <td>genre painting</td>\n",
       "      <td>5910.0</td>\n",
       "      <td>4001.0</td>\n",
       "      <td>5330653.0</td>\n",
       "      <td>wikiart</td>\n",
       "      <td>Pointillism</td>\n",
       "      <td>Study for A Sunday on La Grande Jatte</td>\n",
       "      <td>train_and_test</td>\n",
       "      <td>True</td>\n",
       "      <td>31337.jpg</td>\n",
       "    </tr>\n",
       "    <tr>\n",
       "      <th>4</th>\n",
       "      <td>Gustave Caillebotte</td>\n",
       "      <td>1881</td>\n",
       "      <td>genre painting</td>\n",
       "      <td>5164.0</td>\n",
       "      <td>4087.0</td>\n",
       "      <td>3587461.0</td>\n",
       "      <td>wikiart</td>\n",
       "      <td>Impressionism</td>\n",
       "      <td>Rising Road</td>\n",
       "      <td>train_and_test</td>\n",
       "      <td>False</td>\n",
       "      <td>29616.jpg</td>\n",
       "    </tr>\n",
       "  </tbody>\n",
       "</table>\n",
       "</div>"
      ],
      "text/plain": [
       "                artist  date           genre  pixelsx  pixelsy  size_bytes  \\\n",
       "0        Paul Serusier  1890  genre painting   7099.0   5857.0   9803854.0   \n",
       "1       Georges Seurat  1884             NaN   6367.0   4226.0  11579390.0   \n",
       "2          Paul Signac   NaN       cityscape   5616.0   4312.0  10612858.0   \n",
       "3       Georges Seurat  1884  genre painting   5910.0   4001.0   5330653.0   \n",
       "4  Gustave Caillebotte  1881  genre painting   5164.0   4087.0   3587461.0   \n",
       "\n",
       "      source          style                                  title  \\\n",
       "0    wikiart    Cloisonnism                       Seaweed Gatherer   \n",
       "1  wikipedia    Pointillism                   Bathers at Asnières    \n",
       "2    wikiart    Pointillism         View of the Port of Marseilles   \n",
       "3    wikiart    Pointillism  Study for A Sunday on La Grande Jatte   \n",
       "4    wikiart  Impressionism                            Rising Road   \n",
       "\n",
       "     artist_group  in_train new_filename  \n",
       "0  train_and_test     False    32996.jpg  \n",
       "1  train_and_test      True    39751.jpg  \n",
       "2  train_and_test      True    74221.jpg  \n",
       "3  train_and_test      True    31337.jpg  \n",
       "4  train_and_test     False    29616.jpg  "
      ]
     },
     "execution_count": 4,
     "metadata": {},
     "output_type": "execute_result"
    }
   ],
   "source": [
    "df.head()"
   ]
  },
  {
   "cell_type": "code",
   "execution_count": 5,
   "id": "administrative-fundamentals",
   "metadata": {},
   "outputs": [],
   "source": [
    "# split train and test dataframes\n",
    "train_df = df[df['in_train'] == True]\n",
    "train_df = train_df.reset_index(drop=True)"
   ]
  },
  {
   "cell_type": "code",
   "execution_count": 6,
   "id": "informational-brand",
   "metadata": {},
   "outputs": [],
   "source": [
    "test_df = df[df['in_train'] == False]\n",
    "test_df = test_df.reset_index(drop=True)"
   ]
  },
  {
   "cell_type": "markdown",
   "id": "sufficient-plastic",
   "metadata": {},
   "source": [
    "## Create matched pairs dataframe"
   ]
  },
  {
   "cell_type": "code",
   "execution_count": 7,
   "id": "medium-murder",
   "metadata": {},
   "outputs": [],
   "source": [
    "# create training pairs df\n",
    "col_names = ['id1', 'id2', 'filename_1', 'filename_2', 'same_artist']\n",
    "\n",
    "pairs = []\n",
    "for i in range(len(train_df)):\n",
    "    for j in random.choices(range(len(train_df)), k=36):\n",
    "        row = (i, j, f\"data/train_224_crop/{train_df.iloc[i, 11]}\", f\"data/train_224_crop/{train_df.iloc[j, 11]}\", (train_df.iloc[i, 0] == train_df.iloc[j, 0]))\n",
    "        pairs.append(row)\n",
    "\n",
    "all_train_pairs_df = pd.DataFrame(pairs, columns=col_names)"
   ]
  },
  {
   "cell_type": "code",
   "execution_count": 8,
   "id": "liable-office",
   "metadata": {},
   "outputs": [],
   "source": [
    "# create test pairs df\n",
    "pairs = []\n",
    "for i in range(len(test_df)):\n",
    "    for j in random.choices(range(len(test_df)), k=36):\n",
    "        row = (i, j, f\"data/test_224_crop/{test_df.iloc[i, 11]}\", f\"data/test_224_crop/{test_df.iloc[j, 11]}\", (test_df.iloc[i, 0] == test_df.iloc[j, 0]))\n",
    "        pairs.append(row)\n",
    "        \n",
    "test_pairs_df = pd.DataFrame(pairs, columns=col_names)"
   ]
  },
  {
   "cell_type": "code",
   "execution_count": 119,
   "id": "champion-barrel",
   "metadata": {},
   "outputs": [],
   "source": [
    "train_pairs_df = all_train_pairs_df.sample(frac=0.8)\n",
    "val_pairs_df = all_train_pairs_df[~all_train_pairs_df.index.isin(train_pairs_df.index)]\n",
    "train_pairs_df.reset_index(drop=True, inplace=True)\n",
    "val_pairs_df.reset_index(drop=True, inplace=True)"
   ]
  },
  {
   "cell_type": "code",
   "execution_count": 107,
   "id": "smoking-residence",
   "metadata": {},
   "outputs": [],
   "source": [
    "# balance the dataset\n",
    "train_true_pairs = train_pairs_df[train_pairs_df['same_artist'] == True]\n",
    "train_false_pairs = train_pairs_df[train_pairs_df['same_artist'] != True].sample(frac=0.05)\n",
    "train_pairs_df_small = pd.concat([train_true_pairs, train_false_pairs], ignore_index=True)"
   ]
  },
  {
   "cell_type": "code",
   "execution_count": 125,
   "id": "headed-moses",
   "metadata": {},
   "outputs": [],
   "source": [
    "val_true_pairs = val_pairs_df[val_pairs_df['same_artist'] == True]\n",
    "val_false_pairs = val_pairs_df[val_pairs_df['same_artist'] != True].sample(frac=0.05)\n",
    "val_pairs_df_small = pd.concat([val_true_pairs, val_false_pairs], ignore_index=True)"
   ]
  },
  {
   "cell_type": "code",
   "execution_count": 179,
   "id": "assumed-referral",
   "metadata": {},
   "outputs": [],
   "source": [
    "val_pairs_df_small.to_csv('validation_pairs.csv', index=None)"
   ]
  },
  {
   "cell_type": "code",
   "execution_count": 185,
   "id": "charged-species",
   "metadata": {},
   "outputs": [],
   "source": [
    "# make the size of the test set more manageable\n",
    "test_pairs_df_small = test_pairs_df.sample(frac=0.09)"
   ]
  },
  {
   "cell_type": "code",
   "execution_count": 189,
   "id": "black-analysis",
   "metadata": {},
   "outputs": [],
   "source": [
    "test_pairs_df_small.to_csv('test_pairs.csv', index=None)"
   ]
  },
  {
   "cell_type": "markdown",
   "id": "independent-collins",
   "metadata": {},
   "source": [
    "## Data preprocessing"
   ]
  },
  {
   "cell_type": "code",
   "execution_count": null,
   "id": "promising-trademark",
   "metadata": {},
   "outputs": [],
   "source": [
    "# resize all of the images to 256x256\n",
    "for idx in tqdm(range(len(df))):\n",
    "    row = df.iloc[idx]\n",
    "    fname = row['new_filename']\n",
    "    if row['in_train'] == True:\n",
    "        old_path = 'data/my_train'+'/'+fname\n",
    "        new_path = 'data/train_256_border'+'/'+fname\n",
    "        resize_img(old_path, new_path, 256)\n",
    "    else:\n",
    "        old_path = 'data/my_test'+'/'+fname\n",
    "        new_path = 'data/test_256_border'+'/'+fname\n",
    "        resize_img(old_path, new_path, 256)"
   ]
  },
  {
   "cell_type": "code",
   "execution_count": 33,
   "id": "proper-anchor",
   "metadata": {},
   "outputs": [
    {
     "data": {
      "application/vnd.jupyter.widget-view+json": {
       "model_id": "84b12386a47a4658b718dd5583558575",
       "version_major": 2,
       "version_minor": 0
      },
      "text/plain": [
       "  0%|          | 0/13894 [00:00<?, ?it/s]"
      ]
     },
     "metadata": {},
     "output_type": "display_data"
    }
   ],
   "source": [
    "# center crop all images to 224x224 area\n",
    "for idx in tqdm(range(len(df))):\n",
    "    row = df.iloc[idx]\n",
    "    fname = row['new_filename']\n",
    "    if row['in_train'] == True:\n",
    "        old_path = 'data/train_256/'+fname\n",
    "        new_path = 'data/train_224_crop/'+fname\n",
    "        center_crop(old_path, new_path, 224)\n",
    "    else:\n",
    "        old_path = 'data/test_256/'+fname\n",
    "        new_path = 'data/test_224_crop/'+fname\n",
    "        center_crop(old_path, new_path, 224)"
   ]
  },
  {
   "cell_type": "markdown",
   "id": "alternate-wednesday",
   "metadata": {},
   "source": [
    "## Create dataloader"
   ]
  },
  {
   "cell_type": "code",
   "execution_count": 127,
   "id": "following-siemens",
   "metadata": {},
   "outputs": [],
   "source": [
    "train_ds = ArtistPairsDataset(train_pairs_df_small)\n",
    "train_dl = DataLoader(train_ds, batch_size=16, shuffle=True)"
   ]
  },
  {
   "cell_type": "code",
   "execution_count": 128,
   "id": "found-secretariat",
   "metadata": {},
   "outputs": [],
   "source": [
    "val_ds = ArtistPairsDataset(val_pairs_df_small)\n",
    "val_dl = DataLoader(val_ds, batch_size=16, shuffle=True)"
   ]
  },
  {
   "cell_type": "code",
   "execution_count": 186,
   "id": "welsh-sight",
   "metadata": {},
   "outputs": [],
   "source": [
    "test_ds = ArtistPairsDataset(test_pairs_df_small)\n",
    "test_dl = DataLoader(test_ds, batch_size=16, shuffle=True)"
   ]
  },
  {
   "cell_type": "markdown",
   "id": "convenient-allergy",
   "metadata": {},
   "source": [
    "## Model"
   ]
  },
  {
   "cell_type": "code",
   "execution_count": 90,
   "id": "constitutional-technician",
   "metadata": {},
   "outputs": [],
   "source": [
    "features = models.alexnet(pretrained=True)"
   ]
  },
  {
   "cell_type": "code",
   "execution_count": 91,
   "id": "reverse-captain",
   "metadata": {},
   "outputs": [],
   "source": [
    "# only use up to layer 3 of the classifier block\n",
    "features.classifier = nn.Sequential(*[features.classifier[i] for i in range(4)])"
   ]
  },
  {
   "cell_type": "code",
   "execution_count": 93,
   "id": "incorporated-value",
   "metadata": {},
   "outputs": [],
   "source": [
    "# freeze pretrained network\n",
    "for param in features.parameters():\n",
    "    param.requires_grad = False"
   ]
  },
  {
   "cell_type": "markdown",
   "id": "cognitive-northwest",
   "metadata": {},
   "source": [
    "### LR = 0.005"
   ]
  },
  {
   "cell_type": "code",
   "execution_count": 130,
   "id": "destroyed-connection",
   "metadata": {},
   "outputs": [],
   "source": [
    "model = SiameseNetwork(features)"
   ]
  },
  {
   "cell_type": "code",
   "execution_count": 131,
   "id": "complimentary-chess",
   "metadata": {},
   "outputs": [],
   "source": [
    "optimizer = optim.Adam(model.parameters(), lr=0.005)\n",
    "lossFun = nn.BCEWithLogitsLoss()"
   ]
  },
  {
   "cell_type": "code",
   "execution_count": 132,
   "id": "downtown-planner",
   "metadata": {},
   "outputs": [
    {
     "name": "stdout",
     "output_type": "stream",
     "text": [
      "Epoch:  0\n"
     ]
    },
    {
     "data": {
      "application/vnd.jupyter.widget-view+json": {
       "model_id": "85b63263ad3d415faee9ac53f310e43b",
       "version_major": 2,
       "version_minor": 0
      },
      "text/plain": [
       "  0%|          | 0/1473 [00:00<?, ?it/s]"
      ]
     },
     "metadata": {},
     "output_type": "display_data"
    },
    {
     "name": "stdout",
     "output_type": "stream",
     "text": [
      "Train loss:  0.7570927166364182\n",
      "Train accuracy:  0.6303292600135777\n"
     ]
    },
    {
     "data": {
      "application/vnd.jupyter.widget-view+json": {
       "model_id": "b9845c76c11e40b88cf3d39954e310e5",
       "version_major": 2,
       "version_minor": 0
      },
      "text/plain": [
       "  0%|          | 0/371 [00:00<?, ?it/s]"
      ]
     },
     "metadata": {},
     "output_type": "display_data"
    },
    {
     "name": "stdout",
     "output_type": "stream",
     "text": [
      "Valid loss:  0.6419377786451272\n",
      "Valid accuracy:  0.6326370170709794\n",
      "Epoch:  1\n"
     ]
    },
    {
     "data": {
      "application/vnd.jupyter.widget-view+json": {
       "model_id": "c4e62cef563e48ffadaf08262f549636",
       "version_major": 2,
       "version_minor": 0
      },
      "text/plain": [
       "  0%|          | 0/1473 [00:00<?, ?it/s]"
      ]
     },
     "metadata": {},
     "output_type": "display_data"
    },
    {
     "name": "stdout",
     "output_type": "stream",
     "text": [
      "Train loss:  0.6498417607878473\n",
      "Train accuracy:  0.6359640190088255\n"
     ]
    },
    {
     "data": {
      "application/vnd.jupyter.widget-view+json": {
       "model_id": "95d5fc51249243329ec3acd68496beeb",
       "version_major": 2,
       "version_minor": 0
      },
      "text/plain": [
       "  0%|          | 0/371 [00:00<?, ?it/s]"
      ]
     },
     "metadata": {},
     "output_type": "display_data"
    },
    {
     "name": "stdout",
     "output_type": "stream",
     "text": [
      "Valid loss:  0.6417733874282425\n",
      "Valid accuracy:  0.6328616352201257\n",
      "Epoch:  2\n"
     ]
    },
    {
     "data": {
      "application/vnd.jupyter.widget-view+json": {
       "model_id": "6dc848def81c41eab9b0053fe8371951",
       "version_major": 2,
       "version_minor": 0
      },
      "text/plain": [
       "  0%|          | 0/1473 [00:00<?, ?it/s]"
      ]
     },
     "metadata": {},
     "output_type": "display_data"
    },
    {
     "name": "stdout",
     "output_type": "stream",
     "text": [
      "Train loss:  0.645276148405839\n",
      "Train accuracy:  0.6369568906992532\n"
     ]
    },
    {
     "data": {
      "application/vnd.jupyter.widget-view+json": {
       "model_id": "2328f606b57c4bbbb965035afd6c355b",
       "version_major": 2,
       "version_minor": 0
      },
      "text/plain": [
       "  0%|          | 0/371 [00:00<?, ?it/s]"
      ]
     },
     "metadata": {},
     "output_type": "display_data"
    },
    {
     "name": "stdout",
     "output_type": "stream",
     "text": [
      "Valid loss:  0.6405560459409442\n",
      "Valid accuracy:  0.6325808625336927\n",
      "Epoch:  3\n"
     ]
    },
    {
     "data": {
      "application/vnd.jupyter.widget-view+json": {
       "model_id": "a11ff84e84e14e099fa40a31c9477f4b",
       "version_major": 2,
       "version_minor": 0
      },
      "text/plain": [
       "  0%|          | 0/1473 [00:00<?, ?it/s]"
      ]
     },
     "metadata": {},
     "output_type": "display_data"
    },
    {
     "name": "stdout",
     "output_type": "stream",
     "text": [
      "Train loss:  0.6478489681076858\n",
      "Train accuracy:  0.6370672097759674\n"
     ]
    },
    {
     "data": {
      "application/vnd.jupyter.widget-view+json": {
       "model_id": "a08edd094e2e40f88e30ce8f53f46653",
       "version_major": 2,
       "version_minor": 0
      },
      "text/plain": [
       "  0%|          | 0/371 [00:00<?, ?it/s]"
      ]
     },
     "metadata": {},
     "output_type": "display_data"
    },
    {
     "name": "stdout",
     "output_type": "stream",
     "text": [
      "Valid loss:  0.6412584229781622\n",
      "Valid accuracy:  0.6330300988319856\n",
      "Epoch:  4\n"
     ]
    },
    {
     "data": {
      "application/vnd.jupyter.widget-view+json": {
       "model_id": "38c5ae81ca154ee58150dd3f27863816",
       "version_major": 2,
       "version_minor": 0
      },
      "text/plain": [
       "  0%|          | 0/1473 [00:00<?, ?it/s]"
      ]
     },
     "metadata": {},
     "output_type": "display_data"
    },
    {
     "name": "stdout",
     "output_type": "stream",
     "text": [
      "Train loss:  0.6454342398526955\n",
      "Train accuracy:  0.6369908350305499\n"
     ]
    },
    {
     "data": {
      "application/vnd.jupyter.widget-view+json": {
       "model_id": "652f4d724b544ac29b7c7b57c3ea4b16",
       "version_major": 2,
       "version_minor": 0
      },
      "text/plain": [
       "  0%|          | 0/371 [00:00<?, ?it/s]"
      ]
     },
     "metadata": {},
     "output_type": "display_data"
    },
    {
     "name": "stdout",
     "output_type": "stream",
     "text": [
      "Valid loss:  0.6377931555326416\n",
      "Valid accuracy:  0.6328616352201257\n"
     ]
    }
   ],
   "source": [
    "num_epochs = 5\n",
    "train_losses = []\n",
    "valid_losses = []\n",
    "\n",
    "for epoch in range(num_epochs):\n",
    "    print('Epoch: ', epoch)\n",
    "    \n",
    "    train_loss, train_acc = one_pass_siamese(model, train_dl, optimizer, lossFun)\n",
    "    train_losses.append(train_loss)\n",
    "    print('Train loss: ', train_loss)\n",
    "    print('Train accuracy: ', train_acc)\n",
    "    \n",
    "    valid_loss, valid_acc = one_pass_siamese(model, val_dl, optimizer, lossFun, backwards=False)\n",
    "    valid_losses.append(valid_loss)\n",
    "    print('Valid loss: ', valid_loss)\n",
    "    print('Valid accuracy: ', valid_acc)"
   ]
  },
  {
   "cell_type": "code",
   "execution_count": 190,
   "id": "educated-vegetarian",
   "metadata": {},
   "outputs": [],
   "source": [
    "torch.save(model, 'models/siamese_lr005')"
   ]
  },
  {
   "cell_type": "markdown",
   "id": "decimal-secret",
   "metadata": {},
   "source": [
    "### LR = 0.1"
   ]
  },
  {
   "cell_type": "code",
   "execution_count": 136,
   "id": "complimentary-miami",
   "metadata": {},
   "outputs": [],
   "source": [
    "model_2 = SiameseNetwork(features)"
   ]
  },
  {
   "cell_type": "code",
   "execution_count": 137,
   "id": "trying-track",
   "metadata": {},
   "outputs": [],
   "source": [
    "optimizer = optim.Adam(model_2.parameters(), lr=0.1)\n",
    "lossFun = nn.BCEWithLogitsLoss()"
   ]
  },
  {
   "cell_type": "code",
   "execution_count": 138,
   "id": "flush-helen",
   "metadata": {},
   "outputs": [
    {
     "name": "stdout",
     "output_type": "stream",
     "text": [
      "Epoch:  0\n"
     ]
    },
    {
     "data": {
      "application/vnd.jupyter.widget-view+json": {
       "model_id": "f34243bcdd7c4c629c4a968d54d7bf6d",
       "version_major": 2,
       "version_minor": 0
      },
      "text/plain": [
       "  0%|          | 0/1473 [00:00<?, ?it/s]"
      ]
     },
     "metadata": {},
     "output_type": "display_data"
    },
    {
     "name": "stdout",
     "output_type": "stream",
     "text": [
      "Train loss:  6.174260411247135\n",
      "Train accuracy:  0.6345128988458928\n"
     ]
    },
    {
     "data": {
      "application/vnd.jupyter.widget-view+json": {
       "model_id": "4d19d2cc991a49fb8257445b365e959e",
       "version_major": 2,
       "version_minor": 0
      },
      "text/plain": [
       "  0%|          | 0/371 [00:00<?, ?it/s]"
      ]
     },
     "metadata": {},
     "output_type": "display_data"
    },
    {
     "name": "stdout",
     "output_type": "stream",
     "text": [
      "Valid loss:  1.134132933102528\n",
      "Valid accuracy:  0.6333670260557053\n",
      "Epoch:  1\n"
     ]
    },
    {
     "data": {
      "application/vnd.jupyter.widget-view+json": {
       "model_id": "6a6143cf557f46e5849831fcb24215cc",
       "version_major": 2,
       "version_minor": 0
      },
      "text/plain": [
       "  0%|          | 0/1473 [00:00<?, ?it/s]"
      ]
     },
     "metadata": {},
     "output_type": "display_data"
    },
    {
     "name": "stdout",
     "output_type": "stream",
     "text": [
      "Train loss:  1.7190021152247075\n",
      "Train accuracy:  0.6366768499660557\n"
     ]
    },
    {
     "data": {
      "application/vnd.jupyter.widget-view+json": {
       "model_id": "c35daf560c934f01aa985052d85cf3f3",
       "version_major": 2,
       "version_minor": 0
      },
      "text/plain": [
       "  0%|          | 0/371 [00:00<?, ?it/s]"
      ]
     },
     "metadata": {},
     "output_type": "display_data"
    },
    {
     "name": "stdout",
     "output_type": "stream",
     "text": [
      "Valid loss:  0.8360682600592024\n",
      "Valid accuracy:  0.6330300988319856\n",
      "Epoch:  2\n"
     ]
    },
    {
     "data": {
      "application/vnd.jupyter.widget-view+json": {
       "model_id": "855a8ec0c6154b3a850aec1531574437",
       "version_major": 2,
       "version_minor": 0
      },
      "text/plain": [
       "  0%|          | 0/1473 [00:00<?, ?it/s]"
      ]
     },
     "metadata": {},
     "output_type": "display_data"
    },
    {
     "name": "stdout",
     "output_type": "stream",
     "text": [
      "Train loss:  1.3450786353412\n",
      "Train accuracy:  0.636591989137814\n"
     ]
    },
    {
     "data": {
      "application/vnd.jupyter.widget-view+json": {
       "model_id": "5b2193dc3a5440dda61555a3975ae3d6",
       "version_major": 2,
       "version_minor": 0
      },
      "text/plain": [
       "  0%|          | 0/371 [00:00<?, ?it/s]"
      ]
     },
     "metadata": {},
     "output_type": "display_data"
    },
    {
     "name": "stdout",
     "output_type": "stream",
     "text": [
      "Valid loss:  0.6581791618442279\n",
      "Valid accuracy:  0.6329177897574124\n",
      "Epoch:  3\n"
     ]
    },
    {
     "data": {
      "application/vnd.jupyter.widget-view+json": {
       "model_id": "932fd6f8bb0d4840988192e634c99673",
       "version_major": 2,
       "version_minor": 0
      },
      "text/plain": [
       "  0%|          | 0/1473 [00:00<?, ?it/s]"
      ]
     },
     "metadata": {},
     "output_type": "display_data"
    },
    {
     "name": "stdout",
     "output_type": "stream",
     "text": [
      "Train loss:  0.71133600738853\n",
      "Train accuracy:  0.6371350984385608\n"
     ]
    },
    {
     "data": {
      "application/vnd.jupyter.widget-view+json": {
       "model_id": "798f801a4ab341d58da5c0e9d7e5da38",
       "version_major": 2,
       "version_minor": 0
      },
      "text/plain": [
       "  0%|          | 0/371 [00:00<?, ?it/s]"
      ]
     },
     "metadata": {},
     "output_type": "display_data"
    },
    {
     "name": "stdout",
     "output_type": "stream",
     "text": [
      "Valid loss:  0.6573680991111097\n",
      "Valid accuracy:  0.6329177897574124\n",
      "Epoch:  4\n"
     ]
    },
    {
     "data": {
      "application/vnd.jupyter.widget-view+json": {
       "model_id": "87f8283976e54f2d9d9d4814d83df7f2",
       "version_major": 2,
       "version_minor": 0
      },
      "text/plain": [
       "  0%|          | 0/1473 [00:00<?, ?it/s]"
      ]
     },
     "metadata": {},
     "output_type": "display_data"
    },
    {
     "name": "stdout",
     "output_type": "stream",
     "text": [
      "Train loss:  0.7947154426688009\n",
      "Train accuracy:  0.6363034623217922\n"
     ]
    },
    {
     "data": {
      "application/vnd.jupyter.widget-view+json": {
       "model_id": "dcf53b299fdf43129ec376cedcc2490c",
       "version_major": 2,
       "version_minor": 0
      },
      "text/plain": [
       "  0%|          | 0/371 [00:00<?, ?it/s]"
      ]
     },
     "metadata": {},
     "output_type": "display_data"
    },
    {
     "name": "stdout",
     "output_type": "stream",
     "text": [
      "Valid loss:  0.6579936725110057\n",
      "Valid accuracy:  0.6329177897574124\n"
     ]
    }
   ],
   "source": [
    "num_epochs = 5\n",
    "train_losses = []\n",
    "valid_losses = []\n",
    "\n",
    "for epoch in range(num_epochs):\n",
    "    print('Epoch: ', epoch)\n",
    "    \n",
    "    train_loss, train_acc = one_pass_siamese(model_2, train_dl, optimizer, lossFun)\n",
    "    train_losses.append(train_loss)\n",
    "    print('Train loss: ', train_loss)\n",
    "    print('Train accuracy: ', train_acc)\n",
    "    \n",
    "    valid_loss, valid_acc = one_pass_siamese(model_2, val_dl, optimizer, lossFun, backwards=False)\n",
    "    valid_losses.append(valid_loss)\n",
    "    print('Valid loss: ', valid_loss)\n",
    "    print('Valid accuracy: ', valid_acc)"
   ]
  },
  {
   "cell_type": "code",
   "execution_count": 191,
   "id": "present-national",
   "metadata": {},
   "outputs": [],
   "source": [
    "torch.save(model_2, 'models/siamese_lr1')"
   ]
  },
  {
   "cell_type": "markdown",
   "id": "arbitrary-spencer",
   "metadata": {},
   "source": [
    "## Compare between the two siamese models"
   ]
  },
  {
   "cell_type": "code",
   "execution_count": 176,
   "id": "attempted-truck",
   "metadata": {},
   "outputs": [
    {
     "data": {
      "application/vnd.jupyter.widget-view+json": {
       "model_id": "96dd1a39174d493f8cf4af88f74e52a2",
       "version_major": 2,
       "version_minor": 0
      },
      "text/plain": [
       "  0%|          | 0/371 [00:00<?, ?it/s]"
      ]
     },
     "metadata": {},
     "output_type": "display_data"
    },
    {
     "name": "stdout",
     "output_type": "stream",
     "text": [
      "[[3750    0]\n",
      " [2176    0]]\n",
      "0.5493735294117648\n"
     ]
    }
   ],
   "source": [
    "validation_check_siamese(model, val_dl)"
   ]
  },
  {
   "cell_type": "code",
   "execution_count": 177,
   "id": "identical-legislature",
   "metadata": {},
   "outputs": [
    {
     "data": {
      "application/vnd.jupyter.widget-view+json": {
       "model_id": "513754dac89c49f79e75b842819fb8ae",
       "version_major": 2,
       "version_minor": 0
      },
      "text/plain": [
       "  0%|          | 0/371 [00:00<?, ?it/s]"
      ]
     },
     "metadata": {},
     "output_type": "display_data"
    },
    {
     "name": "stdout",
     "output_type": "stream",
     "text": [
      "[[3750    0]\n",
      " [2174    2]]\n",
      "0.5004595588235294\n"
     ]
    },
    {
     "data": {
      "text/plain": [
       "(array([0.3860285, 0.3860285, 0.3860285, ..., 0.3860285, 0.3860285,\n",
       "        0.3860285]),\n",
       " array([0., 0., 0., ..., 1., 0., 0.]))"
      ]
     },
     "execution_count": 177,
     "metadata": {},
     "output_type": "execute_result"
    }
   ],
   "source": [
    "validation_check_siamese(model_2, val_dl)"
   ]
  },
  {
   "cell_type": "markdown",
   "id": "frozen-automation",
   "metadata": {},
   "source": [
    "Based on the confusion matrix, model 2 seems better than model one."
   ]
  },
  {
   "cell_type": "markdown",
   "id": "female-filter",
   "metadata": {},
   "source": [
    "## Run test"
   ]
  },
  {
   "cell_type": "code",
   "execution_count": 187,
   "id": "systematic-transition",
   "metadata": {},
   "outputs": [
    {
     "data": {
      "application/vnd.jupyter.widget-view+json": {
       "model_id": "6dfab676d1534bbcb850096427b612a4",
       "version_major": 2,
       "version_minor": 0
      },
      "text/plain": [
       "  0%|          | 0/643 [00:00<?, ?it/s]"
      ]
     },
     "metadata": {},
     "output_type": "display_data"
    },
    {
     "name": "stdout",
     "output_type": "stream",
     "text": [
      "[[10002     0]\n",
      " [  282     0]]\n",
      "0.5\n"
     ]
    }
   ],
   "source": [
    "validation_check_siamese(model_2, test_dl)"
   ]
  },
  {
   "cell_type": "markdown",
   "id": "domestic-christian",
   "metadata": {},
   "source": [
    "This model classified all test cases as \"not the same artist\"."
   ]
  }
 ],
 "metadata": {
  "kernelspec": {
   "display_name": "Python 3",
   "language": "python",
   "name": "python3"
  },
  "language_info": {
   "codemirror_mode": {
    "name": "ipython",
    "version": 3
   },
   "file_extension": ".py",
   "mimetype": "text/x-python",
   "name": "python",
   "nbconvert_exporter": "python",
   "pygments_lexer": "ipython3",
   "version": "3.8.3"
  }
 },
 "nbformat": 4,
 "nbformat_minor": 5
}
