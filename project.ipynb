{
 "cells": [
  {
   "cell_type": "code",
   "execution_count": 58,
   "id": "seventh-stephen",
   "metadata": {},
   "outputs": [],
   "source": [
    "import os\n",
    "import cv2\n",
    "import random\n",
    "import pandas as pd\n",
    "import numpy as np\n",
    "import torch\n",
    "import torch.nn as nn\n",
    "import torch.optim as optim\n",
    "from torch.utils.data import Dataset, DataLoader\n",
    "import matplotlib.pyplot as plt\n",
    "from sklearn.preprocessing import StandardScaler\n",
    "from tqdm.notebook import tqdm\n",
    "from torchsummary import summary\n",
    "\n",
    "# data augmentation\n",
    "import albumentations as A\n",
    "from albumentations.pytorch import ToTensorV2\n",
    "\n",
    "# pretrained models\n",
    "import torchvision\n",
    "from torchvision import models, transforms\n",
    "\n",
    "from functions import *"
   ]
  },
  {
   "cell_type": "markdown",
   "id": "devoted-emerald",
   "metadata": {},
   "source": [
    "## Load in metadata"
   ]
  },
  {
   "cell_type": "code",
   "execution_count": 2,
   "id": "valued-wellington",
   "metadata": {},
   "outputs": [],
   "source": [
    "all_metadata = pd.read_csv('data/all_data_info.csv')"
   ]
  },
  {
   "cell_type": "code",
   "execution_count": 3,
   "id": "attended-victor",
   "metadata": {},
   "outputs": [],
   "source": [
    "# select artists for the task\n",
    "artists = ['John Singer Sargent', 'Pablo Picasso', 'Pierre-Auguste Renoir', 'Paul Cezanne', 'Camille Pissarro', 'Paul Gauguin', \n",
    "           'Claude Monet', 'Edgar Degas', 'Henri Matisse', 'Vincent van Gogh', 'Childe Hassam', 'Pyotr Konchalovsky', 'Martiros Saryan', \n",
    "           'Boris Kustodiev', 'Nicholas Roerich', 'Salvador Dali', 'Alfred Sisley', 'Henri Martin', 'Rene Magritte', 'Konstantin Korovin', \n",
    "           'Mary Cassatt', 'Gustave Loiseau', 'John Henry Twachtman', 'Georges Braque', 'Pierre Bonnard', \"Georgia O'Keeffe\", \n",
    "           'Gustave Caillebotte', 'Ilya Mashkov', 'Andy Warhol', 'Theo van Rysselberghe', 'Georges Seurat', 'Edward Hopper', 'Maxime Maufra', \n",
    "           'Diego Rivera', 'Henri-Edmond Cross', 'Robert Julian Onderdonk', 'Guy Rose', 'Andre Derain', 'Willard Metcalf', 'Frida Kahlo', \n",
    "           'Paul Signac', 'William James Glackens', 'Frantisek Kupka', 'Julian Alden Weir', 'Paul Serusier', 'Max Pechstein', \n",
    "           'Victor Borisov-Musatov', 'Armand Guillaumin', 'Spyros Papaloukas', 'Nicolae Darascu', 'Albert Marquet', 'Ion Theodorescu-Sion']"
   ]
  },
  {
   "cell_type": "code",
   "execution_count": 4,
   "id": "considered-treaty",
   "metadata": {},
   "outputs": [],
   "source": [
    "all_metadata['selected'] = all_metadata['artist'].apply(lambda x: x in artists)"
   ]
  },
  {
   "cell_type": "code",
   "execution_count": 5,
   "id": "bottom-removal",
   "metadata": {},
   "outputs": [],
   "source": [
    "metadata = all_metadata[all_metadata['selected'] == True]"
   ]
  },
  {
   "cell_type": "code",
   "execution_count": 6,
   "id": "comic-baltimore",
   "metadata": {},
   "outputs": [],
   "source": [
    "metadata = metadata.drop('selected', axis=1)"
   ]
  },
  {
   "cell_type": "code",
   "execution_count": 7,
   "id": "latter-membership",
   "metadata": {},
   "outputs": [
    {
     "data": {
      "text/html": [
       "<div>\n",
       "<style scoped>\n",
       "    .dataframe tbody tr th:only-of-type {\n",
       "        vertical-align: middle;\n",
       "    }\n",
       "\n",
       "    .dataframe tbody tr th {\n",
       "        vertical-align: top;\n",
       "    }\n",
       "\n",
       "    .dataframe thead th {\n",
       "        text-align: right;\n",
       "    }\n",
       "</style>\n",
       "<table border=\"1\" class=\"dataframe\">\n",
       "  <thead>\n",
       "    <tr style=\"text-align: right;\">\n",
       "      <th></th>\n",
       "      <th>artist</th>\n",
       "      <th>date</th>\n",
       "      <th>genre</th>\n",
       "      <th>pixelsx</th>\n",
       "      <th>pixelsy</th>\n",
       "      <th>size_bytes</th>\n",
       "      <th>source</th>\n",
       "      <th>style</th>\n",
       "      <th>title</th>\n",
       "      <th>artist_group</th>\n",
       "      <th>in_train</th>\n",
       "      <th>new_filename</th>\n",
       "    </tr>\n",
       "  </thead>\n",
       "  <tbody>\n",
       "    <tr>\n",
       "      <th>15</th>\n",
       "      <td>Paul Serusier</td>\n",
       "      <td>1890</td>\n",
       "      <td>genre painting</td>\n",
       "      <td>7099.0</td>\n",
       "      <td>5857.0</td>\n",
       "      <td>9803854.0</td>\n",
       "      <td>wikiart</td>\n",
       "      <td>Cloisonnism</td>\n",
       "      <td>Seaweed Gatherer</td>\n",
       "      <td>train_and_test</td>\n",
       "      <td>False</td>\n",
       "      <td>32996.jpg</td>\n",
       "    </tr>\n",
       "    <tr>\n",
       "      <th>41</th>\n",
       "      <td>Georges Seurat</td>\n",
       "      <td>1884</td>\n",
       "      <td>NaN</td>\n",
       "      <td>6367.0</td>\n",
       "      <td>4226.0</td>\n",
       "      <td>11579390.0</td>\n",
       "      <td>wikipedia</td>\n",
       "      <td>Pointillism</td>\n",
       "      <td>Bathers at Asnières</td>\n",
       "      <td>train_and_test</td>\n",
       "      <td>True</td>\n",
       "      <td>39751.jpg</td>\n",
       "    </tr>\n",
       "    <tr>\n",
       "      <th>65</th>\n",
       "      <td>Paul Signac</td>\n",
       "      <td>NaN</td>\n",
       "      <td>cityscape</td>\n",
       "      <td>5616.0</td>\n",
       "      <td>4312.0</td>\n",
       "      <td>10612858.0</td>\n",
       "      <td>wikiart</td>\n",
       "      <td>Pointillism</td>\n",
       "      <td>View of the Port of Marseilles</td>\n",
       "      <td>train_and_test</td>\n",
       "      <td>True</td>\n",
       "      <td>74221.jpg</td>\n",
       "    </tr>\n",
       "    <tr>\n",
       "      <th>69</th>\n",
       "      <td>Georges Seurat</td>\n",
       "      <td>1884</td>\n",
       "      <td>genre painting</td>\n",
       "      <td>5910.0</td>\n",
       "      <td>4001.0</td>\n",
       "      <td>5330653.0</td>\n",
       "      <td>wikiart</td>\n",
       "      <td>Pointillism</td>\n",
       "      <td>Study for A Sunday on La Grande Jatte</td>\n",
       "      <td>train_and_test</td>\n",
       "      <td>True</td>\n",
       "      <td>31337.jpg</td>\n",
       "    </tr>\n",
       "    <tr>\n",
       "      <th>96</th>\n",
       "      <td>Gustave Caillebotte</td>\n",
       "      <td>1881</td>\n",
       "      <td>genre painting</td>\n",
       "      <td>5164.0</td>\n",
       "      <td>4087.0</td>\n",
       "      <td>3587461.0</td>\n",
       "      <td>wikiart</td>\n",
       "      <td>Impressionism</td>\n",
       "      <td>Rising Road</td>\n",
       "      <td>train_and_test</td>\n",
       "      <td>False</td>\n",
       "      <td>29616.jpg</td>\n",
       "    </tr>\n",
       "  </tbody>\n",
       "</table>\n",
       "</div>"
      ],
      "text/plain": [
       "                 artist  date           genre  pixelsx  pixelsy  size_bytes  \\\n",
       "15        Paul Serusier  1890  genre painting   7099.0   5857.0   9803854.0   \n",
       "41       Georges Seurat  1884             NaN   6367.0   4226.0  11579390.0   \n",
       "65          Paul Signac   NaN       cityscape   5616.0   4312.0  10612858.0   \n",
       "69       Georges Seurat  1884  genre painting   5910.0   4001.0   5330653.0   \n",
       "96  Gustave Caillebotte  1881  genre painting   5164.0   4087.0   3587461.0   \n",
       "\n",
       "       source          style                                  title  \\\n",
       "15    wikiart    Cloisonnism                       Seaweed Gatherer   \n",
       "41  wikipedia    Pointillism                   Bathers at Asnières    \n",
       "65    wikiart    Pointillism         View of the Port of Marseilles   \n",
       "69    wikiart    Pointillism  Study for A Sunday on La Grande Jatte   \n",
       "96    wikiart  Impressionism                            Rising Road   \n",
       "\n",
       "      artist_group  in_train new_filename  \n",
       "15  train_and_test     False    32996.jpg  \n",
       "41  train_and_test      True    39751.jpg  \n",
       "65  train_and_test      True    74221.jpg  \n",
       "69  train_and_test      True    31337.jpg  \n",
       "96  train_and_test     False    29616.jpg  "
      ]
     },
     "execution_count": 7,
     "metadata": {},
     "output_type": "execute_result"
    }
   ],
   "source": [
    "metadata.head()"
   ]
  },
  {
   "cell_type": "code",
   "execution_count": 8,
   "id": "immediate-individual",
   "metadata": {},
   "outputs": [],
   "source": [
    "metadata.to_csv('data/metadata.csv', index=None)"
   ]
  },
  {
   "cell_type": "code",
   "execution_count": 9,
   "id": "canadian-accused",
   "metadata": {},
   "outputs": [],
   "source": [
    "df = pd.read_csv('data/metadata.csv')"
   ]
  },
  {
   "cell_type": "code",
   "execution_count": 10,
   "id": "secret-clearing",
   "metadata": {},
   "outputs": [
    {
     "data": {
      "text/html": [
       "<div>\n",
       "<style scoped>\n",
       "    .dataframe tbody tr th:only-of-type {\n",
       "        vertical-align: middle;\n",
       "    }\n",
       "\n",
       "    .dataframe tbody tr th {\n",
       "        vertical-align: top;\n",
       "    }\n",
       "\n",
       "    .dataframe thead th {\n",
       "        text-align: right;\n",
       "    }\n",
       "</style>\n",
       "<table border=\"1\" class=\"dataframe\">\n",
       "  <thead>\n",
       "    <tr style=\"text-align: right;\">\n",
       "      <th></th>\n",
       "      <th>artist</th>\n",
       "      <th>date</th>\n",
       "      <th>genre</th>\n",
       "      <th>pixelsx</th>\n",
       "      <th>pixelsy</th>\n",
       "      <th>size_bytes</th>\n",
       "      <th>source</th>\n",
       "      <th>style</th>\n",
       "      <th>title</th>\n",
       "      <th>artist_group</th>\n",
       "      <th>in_train</th>\n",
       "      <th>new_filename</th>\n",
       "    </tr>\n",
       "  </thead>\n",
       "  <tbody>\n",
       "    <tr>\n",
       "      <th>0</th>\n",
       "      <td>Paul Serusier</td>\n",
       "      <td>1890</td>\n",
       "      <td>genre painting</td>\n",
       "      <td>7099.0</td>\n",
       "      <td>5857.0</td>\n",
       "      <td>9803854.0</td>\n",
       "      <td>wikiart</td>\n",
       "      <td>Cloisonnism</td>\n",
       "      <td>Seaweed Gatherer</td>\n",
       "      <td>train_and_test</td>\n",
       "      <td>False</td>\n",
       "      <td>32996.jpg</td>\n",
       "    </tr>\n",
       "    <tr>\n",
       "      <th>1</th>\n",
       "      <td>Georges Seurat</td>\n",
       "      <td>1884</td>\n",
       "      <td>NaN</td>\n",
       "      <td>6367.0</td>\n",
       "      <td>4226.0</td>\n",
       "      <td>11579390.0</td>\n",
       "      <td>wikipedia</td>\n",
       "      <td>Pointillism</td>\n",
       "      <td>Bathers at Asnières</td>\n",
       "      <td>train_and_test</td>\n",
       "      <td>True</td>\n",
       "      <td>39751.jpg</td>\n",
       "    </tr>\n",
       "    <tr>\n",
       "      <th>2</th>\n",
       "      <td>Paul Signac</td>\n",
       "      <td>NaN</td>\n",
       "      <td>cityscape</td>\n",
       "      <td>5616.0</td>\n",
       "      <td>4312.0</td>\n",
       "      <td>10612858.0</td>\n",
       "      <td>wikiart</td>\n",
       "      <td>Pointillism</td>\n",
       "      <td>View of the Port of Marseilles</td>\n",
       "      <td>train_and_test</td>\n",
       "      <td>True</td>\n",
       "      <td>74221.jpg</td>\n",
       "    </tr>\n",
       "    <tr>\n",
       "      <th>3</th>\n",
       "      <td>Georges Seurat</td>\n",
       "      <td>1884</td>\n",
       "      <td>genre painting</td>\n",
       "      <td>5910.0</td>\n",
       "      <td>4001.0</td>\n",
       "      <td>5330653.0</td>\n",
       "      <td>wikiart</td>\n",
       "      <td>Pointillism</td>\n",
       "      <td>Study for A Sunday on La Grande Jatte</td>\n",
       "      <td>train_and_test</td>\n",
       "      <td>True</td>\n",
       "      <td>31337.jpg</td>\n",
       "    </tr>\n",
       "    <tr>\n",
       "      <th>4</th>\n",
       "      <td>Gustave Caillebotte</td>\n",
       "      <td>1881</td>\n",
       "      <td>genre painting</td>\n",
       "      <td>5164.0</td>\n",
       "      <td>4087.0</td>\n",
       "      <td>3587461.0</td>\n",
       "      <td>wikiart</td>\n",
       "      <td>Impressionism</td>\n",
       "      <td>Rising Road</td>\n",
       "      <td>train_and_test</td>\n",
       "      <td>False</td>\n",
       "      <td>29616.jpg</td>\n",
       "    </tr>\n",
       "  </tbody>\n",
       "</table>\n",
       "</div>"
      ],
      "text/plain": [
       "                artist  date           genre  pixelsx  pixelsy  size_bytes  \\\n",
       "0        Paul Serusier  1890  genre painting   7099.0   5857.0   9803854.0   \n",
       "1       Georges Seurat  1884             NaN   6367.0   4226.0  11579390.0   \n",
       "2          Paul Signac   NaN       cityscape   5616.0   4312.0  10612858.0   \n",
       "3       Georges Seurat  1884  genre painting   5910.0   4001.0   5330653.0   \n",
       "4  Gustave Caillebotte  1881  genre painting   5164.0   4087.0   3587461.0   \n",
       "\n",
       "      source          style                                  title  \\\n",
       "0    wikiart    Cloisonnism                       Seaweed Gatherer   \n",
       "1  wikipedia    Pointillism                   Bathers at Asnières    \n",
       "2    wikiart    Pointillism         View of the Port of Marseilles   \n",
       "3    wikiart    Pointillism  Study for A Sunday on La Grande Jatte   \n",
       "4    wikiart  Impressionism                            Rising Road   \n",
       "\n",
       "     artist_group  in_train new_filename  \n",
       "0  train_and_test     False    32996.jpg  \n",
       "1  train_and_test      True    39751.jpg  \n",
       "2  train_and_test      True    74221.jpg  \n",
       "3  train_and_test      True    31337.jpg  \n",
       "4  train_and_test     False    29616.jpg  "
      ]
     },
     "execution_count": 10,
     "metadata": {},
     "output_type": "execute_result"
    }
   ],
   "source": [
    "df.head()"
   ]
  },
  {
   "cell_type": "code",
   "execution_count": 69,
   "id": "higher-special",
   "metadata": {},
   "outputs": [],
   "source": [
    "train_df = df[df['in_train'] == True]\n",
    "train_df = train_df.reset_index(drop=True)"
   ]
  },
  {
   "cell_type": "code",
   "execution_count": 74,
   "id": "continued-malta",
   "metadata": {},
   "outputs": [],
   "source": [
    "test_df = df[df['in_train'] == False]\n",
    "test_df = test_df.reset_index(drop=True)"
   ]
  },
  {
   "cell_type": "markdown",
   "id": "informative-consequence",
   "metadata": {},
   "source": [
    "## Create matched pairs dataframe"
   ]
  },
  {
   "cell_type": "code",
   "execution_count": 113,
   "id": "blank-involvement",
   "metadata": {},
   "outputs": [],
   "source": [
    "# create training pairs df\n",
    "col_names = ['id1', 'id2', 'filename_1', 'filename_2', 'same_artist']\n",
    "\n",
    "pairs = []\n",
    "for i in range(len(train_df)):\n",
    "    for j in random.choices(range(len(train_df)), k=36):\n",
    "        row = (i, j, f\"data/train_224_crop/{train_df.iloc[i, 11]}\", f\"data/train_224_crop/{train_df.iloc[j, 11]}\", (train_df.iloc[i, 0] == train_df.iloc[j, 0]))\n",
    "        pairs.append(row)\n",
    "\n",
    "all_train_pairs_df = pd.DataFrame(pairs, columns=col_names)"
   ]
  },
  {
   "cell_type": "code",
   "execution_count": 88,
   "id": "everyday-while",
   "metadata": {},
   "outputs": [],
   "source": [
    "# create test pairs df\n",
    "pairs = []\n",
    "for i in range(len(test_df)):\n",
    "    for j in random.choices(range(len(test_df)), k=36):\n",
    "        row = (i, j, f\"data/test_224_crop/{test_df.iloc[i, 11]}\", f\"data/test_224_crop/{test_df.iloc[j, 11]}\", (test_df.iloc[i, 0] == test_df.iloc[j, 0]))\n",
    "        pairs.append(row)\n",
    "        \n",
    "test_pairs_df = pd.DataFrame(pairs, columns=col_names)"
   ]
  },
  {
   "cell_type": "code",
   "execution_count": 114,
   "id": "distant-crash",
   "metadata": {},
   "outputs": [],
   "source": [
    "train_pairs_df = all_train_pairs_df.sample(frac=0.8)\n",
    "val_pairs_df = all_train_pairs_df[~all_train_pairs_df.index.isin(train_df.index)]\n",
    "train_pairs_df.reset_index(drop=True, inplace=True)\n",
    "val_pairs_df.reset_index(drop=True, inplace=True)"
   ]
  },
  {
   "cell_type": "markdown",
   "id": "regular-respondent",
   "metadata": {},
   "source": [
    "## Data preprocessing"
   ]
  },
  {
   "cell_type": "code",
   "execution_count": 11,
   "id": "honey-vienna",
   "metadata": {},
   "outputs": [
    {
     "data": {
      "application/vnd.jupyter.widget-view+json": {
       "model_id": "c9bb56e6fa6048cdafb6c93ed2904fc3",
       "version_major": 2,
       "version_minor": 0
      },
      "text/plain": [
       "  0%|          | 0/13894 [00:00<?, ?it/s]"
      ]
     },
     "metadata": {},
     "output_type": "display_data"
    },
    {
     "ename": "KeyError",
     "evalue": "'folder'",
     "output_type": "error",
     "traceback": [
      "\u001b[0;31m---------------------------------------------------------------------------\u001b[0m",
      "\u001b[0;31mKeyError\u001b[0m                                  Traceback (most recent call last)",
      "\u001b[0;32m~/opt/anaconda3/lib/python3.8/site-packages/pandas/core/indexes/base.py\u001b[0m in \u001b[0;36mget_loc\u001b[0;34m(self, key, method, tolerance)\u001b[0m\n\u001b[1;32m   3079\u001b[0m             \u001b[0;32mtry\u001b[0m\u001b[0;34m:\u001b[0m\u001b[0;34m\u001b[0m\u001b[0;34m\u001b[0m\u001b[0m\n\u001b[0;32m-> 3080\u001b[0;31m                 \u001b[0;32mreturn\u001b[0m \u001b[0mself\u001b[0m\u001b[0;34m.\u001b[0m\u001b[0m_engine\u001b[0m\u001b[0;34m.\u001b[0m\u001b[0mget_loc\u001b[0m\u001b[0;34m(\u001b[0m\u001b[0mcasted_key\u001b[0m\u001b[0;34m)\u001b[0m\u001b[0;34m\u001b[0m\u001b[0;34m\u001b[0m\u001b[0m\n\u001b[0m\u001b[1;32m   3081\u001b[0m             \u001b[0;32mexcept\u001b[0m \u001b[0mKeyError\u001b[0m \u001b[0;32mas\u001b[0m \u001b[0merr\u001b[0m\u001b[0;34m:\u001b[0m\u001b[0;34m\u001b[0m\u001b[0;34m\u001b[0m\u001b[0m\n",
      "\u001b[0;32mpandas/_libs/index.pyx\u001b[0m in \u001b[0;36mpandas._libs.index.IndexEngine.get_loc\u001b[0;34m()\u001b[0m\n",
      "\u001b[0;32mpandas/_libs/index.pyx\u001b[0m in \u001b[0;36mpandas._libs.index.IndexEngine.get_loc\u001b[0;34m()\u001b[0m\n",
      "\u001b[0;32mpandas/_libs/hashtable_class_helper.pxi\u001b[0m in \u001b[0;36mpandas._libs.hashtable.PyObjectHashTable.get_item\u001b[0;34m()\u001b[0m\n",
      "\u001b[0;32mpandas/_libs/hashtable_class_helper.pxi\u001b[0m in \u001b[0;36mpandas._libs.hashtable.PyObjectHashTable.get_item\u001b[0;34m()\u001b[0m\n",
      "\u001b[0;31mKeyError\u001b[0m: 'folder'",
      "\nThe above exception was the direct cause of the following exception:\n",
      "\u001b[0;31mKeyError\u001b[0m                                  Traceback (most recent call last)",
      "\u001b[0;32m<ipython-input-11-143fe5584650>\u001b[0m in \u001b[0;36m<module>\u001b[0;34m\u001b[0m\n\u001b[1;32m      3\u001b[0m     \u001b[0mrow\u001b[0m \u001b[0;34m=\u001b[0m \u001b[0mdf\u001b[0m\u001b[0;34m.\u001b[0m\u001b[0miloc\u001b[0m\u001b[0;34m[\u001b[0m\u001b[0midx\u001b[0m\u001b[0;34m]\u001b[0m\u001b[0;34m\u001b[0m\u001b[0;34m\u001b[0m\u001b[0m\n\u001b[1;32m      4\u001b[0m     \u001b[0mfname\u001b[0m \u001b[0;34m=\u001b[0m \u001b[0mrow\u001b[0m\u001b[0;34m[\u001b[0m\u001b[0;34m'new_filename'\u001b[0m\u001b[0;34m]\u001b[0m\u001b[0;34m\u001b[0m\u001b[0;34m\u001b[0m\u001b[0m\n\u001b[0;32m----> 5\u001b[0;31m     \u001b[0;32mif\u001b[0m \u001b[0mrow\u001b[0m\u001b[0;34m[\u001b[0m\u001b[0;34m'folder'\u001b[0m\u001b[0;34m]\u001b[0m \u001b[0;34m==\u001b[0m \u001b[0;34m'train'\u001b[0m\u001b[0;34m:\u001b[0m\u001b[0;34m\u001b[0m\u001b[0;34m\u001b[0m\u001b[0m\n\u001b[0m\u001b[1;32m      6\u001b[0m         \u001b[0mold_path\u001b[0m \u001b[0;34m=\u001b[0m \u001b[0;34m'data/my_train'\u001b[0m\u001b[0;34m+\u001b[0m\u001b[0;34m'/'\u001b[0m\u001b[0;34m+\u001b[0m\u001b[0mfname\u001b[0m\u001b[0;34m\u001b[0m\u001b[0;34m\u001b[0m\u001b[0m\n\u001b[1;32m      7\u001b[0m         \u001b[0mnew_path\u001b[0m \u001b[0;34m=\u001b[0m \u001b[0;34m'data/train_256_border'\u001b[0m\u001b[0;34m+\u001b[0m\u001b[0;34m'/'\u001b[0m\u001b[0;34m+\u001b[0m\u001b[0mfname\u001b[0m\u001b[0;34m\u001b[0m\u001b[0;34m\u001b[0m\u001b[0m\n",
      "\u001b[0;32m~/opt/anaconda3/lib/python3.8/site-packages/pandas/core/series.py\u001b[0m in \u001b[0;36m__getitem__\u001b[0;34m(self, key)\u001b[0m\n\u001b[1;32m    851\u001b[0m \u001b[0;34m\u001b[0m\u001b[0m\n\u001b[1;32m    852\u001b[0m         \u001b[0;32melif\u001b[0m \u001b[0mkey_is_scalar\u001b[0m\u001b[0;34m:\u001b[0m\u001b[0;34m\u001b[0m\u001b[0;34m\u001b[0m\u001b[0m\n\u001b[0;32m--> 853\u001b[0;31m             \u001b[0;32mreturn\u001b[0m \u001b[0mself\u001b[0m\u001b[0;34m.\u001b[0m\u001b[0m_get_value\u001b[0m\u001b[0;34m(\u001b[0m\u001b[0mkey\u001b[0m\u001b[0;34m)\u001b[0m\u001b[0;34m\u001b[0m\u001b[0;34m\u001b[0m\u001b[0m\n\u001b[0m\u001b[1;32m    854\u001b[0m \u001b[0;34m\u001b[0m\u001b[0m\n\u001b[1;32m    855\u001b[0m         \u001b[0;32mif\u001b[0m \u001b[0mis_hashable\u001b[0m\u001b[0;34m(\u001b[0m\u001b[0mkey\u001b[0m\u001b[0;34m)\u001b[0m\u001b[0;34m:\u001b[0m\u001b[0;34m\u001b[0m\u001b[0;34m\u001b[0m\u001b[0m\n",
      "\u001b[0;32m~/opt/anaconda3/lib/python3.8/site-packages/pandas/core/series.py\u001b[0m in \u001b[0;36m_get_value\u001b[0;34m(self, label, takeable)\u001b[0m\n\u001b[1;32m    959\u001b[0m \u001b[0;34m\u001b[0m\u001b[0m\n\u001b[1;32m    960\u001b[0m         \u001b[0;31m# Similar to Index.get_value, but we do not fall back to positional\u001b[0m\u001b[0;34m\u001b[0m\u001b[0;34m\u001b[0m\u001b[0;34m\u001b[0m\u001b[0m\n\u001b[0;32m--> 961\u001b[0;31m         \u001b[0mloc\u001b[0m \u001b[0;34m=\u001b[0m \u001b[0mself\u001b[0m\u001b[0;34m.\u001b[0m\u001b[0mindex\u001b[0m\u001b[0;34m.\u001b[0m\u001b[0mget_loc\u001b[0m\u001b[0;34m(\u001b[0m\u001b[0mlabel\u001b[0m\u001b[0;34m)\u001b[0m\u001b[0;34m\u001b[0m\u001b[0;34m\u001b[0m\u001b[0m\n\u001b[0m\u001b[1;32m    962\u001b[0m         \u001b[0;32mreturn\u001b[0m \u001b[0mself\u001b[0m\u001b[0;34m.\u001b[0m\u001b[0mindex\u001b[0m\u001b[0;34m.\u001b[0m\u001b[0m_get_values_for_loc\u001b[0m\u001b[0;34m(\u001b[0m\u001b[0mself\u001b[0m\u001b[0;34m,\u001b[0m \u001b[0mloc\u001b[0m\u001b[0;34m,\u001b[0m \u001b[0mlabel\u001b[0m\u001b[0;34m)\u001b[0m\u001b[0;34m\u001b[0m\u001b[0;34m\u001b[0m\u001b[0m\n\u001b[1;32m    963\u001b[0m \u001b[0;34m\u001b[0m\u001b[0m\n",
      "\u001b[0;32m~/opt/anaconda3/lib/python3.8/site-packages/pandas/core/indexes/base.py\u001b[0m in \u001b[0;36mget_loc\u001b[0;34m(self, key, method, tolerance)\u001b[0m\n\u001b[1;32m   3080\u001b[0m                 \u001b[0;32mreturn\u001b[0m \u001b[0mself\u001b[0m\u001b[0;34m.\u001b[0m\u001b[0m_engine\u001b[0m\u001b[0;34m.\u001b[0m\u001b[0mget_loc\u001b[0m\u001b[0;34m(\u001b[0m\u001b[0mcasted_key\u001b[0m\u001b[0;34m)\u001b[0m\u001b[0;34m\u001b[0m\u001b[0;34m\u001b[0m\u001b[0m\n\u001b[1;32m   3081\u001b[0m             \u001b[0;32mexcept\u001b[0m \u001b[0mKeyError\u001b[0m \u001b[0;32mas\u001b[0m \u001b[0merr\u001b[0m\u001b[0;34m:\u001b[0m\u001b[0;34m\u001b[0m\u001b[0;34m\u001b[0m\u001b[0m\n\u001b[0;32m-> 3082\u001b[0;31m                 \u001b[0;32mraise\u001b[0m \u001b[0mKeyError\u001b[0m\u001b[0;34m(\u001b[0m\u001b[0mkey\u001b[0m\u001b[0;34m)\u001b[0m \u001b[0;32mfrom\u001b[0m \u001b[0merr\u001b[0m\u001b[0;34m\u001b[0m\u001b[0;34m\u001b[0m\u001b[0m\n\u001b[0m\u001b[1;32m   3083\u001b[0m \u001b[0;34m\u001b[0m\u001b[0m\n\u001b[1;32m   3084\u001b[0m         \u001b[0;32mif\u001b[0m \u001b[0mtolerance\u001b[0m \u001b[0;32mis\u001b[0m \u001b[0;32mnot\u001b[0m \u001b[0;32mNone\u001b[0m\u001b[0;34m:\u001b[0m\u001b[0;34m\u001b[0m\u001b[0;34m\u001b[0m\u001b[0m\n",
      "\u001b[0;31mKeyError\u001b[0m: 'folder'"
     ]
    }
   ],
   "source": [
    "# resize all of the images to 256x256\n",
    "for idx in tqdm(range(len(df))):\n",
    "    row = df.iloc[idx]\n",
    "    fname = row['new_filename']\n",
    "    if row['in_train'] == True:\n",
    "        old_path = 'data/my_train'+'/'+fname\n",
    "        new_path = 'data/train_256_border'+'/'+fname\n",
    "        resize_img(old_path, new_path, 256)\n",
    "    else:\n",
    "        old_path = 'data/my_test'+'/'+fname\n",
    "        new_path = 'data/test_256_border'+'/'+fname\n",
    "        resize_img(old_path, new_path, 256)"
   ]
  },
  {
   "cell_type": "code",
   "execution_count": 33,
   "id": "corporate-translation",
   "metadata": {},
   "outputs": [
    {
     "data": {
      "application/vnd.jupyter.widget-view+json": {
       "model_id": "84b12386a47a4658b718dd5583558575",
       "version_major": 2,
       "version_minor": 0
      },
      "text/plain": [
       "  0%|          | 0/13894 [00:00<?, ?it/s]"
      ]
     },
     "metadata": {},
     "output_type": "display_data"
    }
   ],
   "source": [
    "# center crop all images to 224x224 area\n",
    "for idx in tqdm(range(len(df))):\n",
    "    row = df.iloc[idx]\n",
    "    fname = row['new_filename']\n",
    "    if row['in_train'] == True:\n",
    "        old_path = 'data/train_256/'+fname\n",
    "        new_path = 'data/train_224_crop/'+fname\n",
    "        center_crop(old_path, new_path, 224)\n",
    "    else:\n",
    "        old_path = 'data/test_256/'+fname\n",
    "        new_path = 'data/test_224_crop/'+fname\n",
    "        center_crop(old_path, new_path, 224)"
   ]
  },
  {
   "cell_type": "markdown",
   "id": "wireless-theater",
   "metadata": {},
   "source": [
    "## Create dataloader"
   ]
  },
  {
   "cell_type": "code",
   "execution_count": 105,
   "id": "sunrise-temple",
   "metadata": {},
   "outputs": [],
   "source": [
    "def load_image(path):\n",
    "    img = cv2.imread(path)\n",
    "    img = cv2.cvtColor(img, cv2.COLOR_BGR2RGB)\n",
    "    img = np.transpose(img, (2, 0, 1))\n",
    "    img = torch.tensor(img / 255.).float()\n",
    "    normalize = torchvision.transforms.Normalize(mean=[0.485, 0.456, 0.406], std=[0.229, 0.224, 0.225])\n",
    "    img = normalize(img)"
   ]
  },
  {
   "cell_type": "code",
   "execution_count": 107,
   "id": "necessary-arrest",
   "metadata": {},
   "outputs": [],
   "source": [
    "class ArtistDataset(Dataset):\n",
    "    def __init__(self, df):\n",
    "        self.df = df\n",
    "        \n",
    "        self.remap = {False: 0, True: 1}\n",
    "    \n",
    "    def __len__(self):\n",
    "        return len(self.df)\n",
    "    \n",
    "    def __getitem__(self, idx):\n",
    "        row = self.df.iloc[idx]\n",
    "        \n",
    "        img_1 = load_image(row['filename_1'])\n",
    "        img_2 = load_image(row['filename_2'])\n",
    "        \n",
    "        label = torch.tensor(self.remap[row['same_artist']])\n",
    "        \n",
    "        return img, label"
   ]
  },
  {
   "cell_type": "code",
   "execution_count": 109,
   "id": "everyday-finance",
   "metadata": {},
   "outputs": [],
   "source": [
    "train_ds = ArtistDataset(train_pairs_df)\n",
    "train_dl = DataLoader(train_ds, batch_size=int(len(train_ds)/1000), shuffle=True)"
   ]
  },
  {
   "cell_type": "code",
   "execution_count": 115,
   "id": "close-daniel",
   "metadata": {},
   "outputs": [],
   "source": [
    "val_ds = ArtistDataset(val_pairs_df)\n",
    "val_dl = DataLoader(val_ds, batch_size=int(len(val_ds)/1000), shuffle=True)"
   ]
  },
  {
   "cell_type": "code",
   "execution_count": 116,
   "id": "associate-vacation",
   "metadata": {},
   "outputs": [],
   "source": [
    "test_ds = ArtistDataset(test_pairs_df)\n",
    "test_dl = DataLoader(test_ds, batch_size=int(len(test_ds)/1000), shuffle=True)"
   ]
  },
  {
   "cell_type": "code",
   "execution_count": 117,
   "id": "broke-society",
   "metadata": {},
   "outputs": [],
   "source": [
    "class ContrastiveLoss(torch.nn.Module):\n",
    "    def __init__(self, margin=1.0):\n",
    "        super(ContrastiveLoss, self).__init__()\n",
    "        self.margin = margin\n",
    "        self.eps = 1e-9\n",
    "\n",
    "    def forward(self, hidden_x1, hidden_x2, y):\n",
    "        # euclidian distance\n",
    "        diff = hidden_x1 - hidden_x2\n",
    "        dist_sq = torch.sum(torch.pow(diff, 2), 2)\n",
    "        dist = torch.sqrt(dist_sq + self.eps)\n",
    "\n",
    "        mdist = self.margin - dist\n",
    "        dist = torch.maximum(mdist, torch.zeros(mdist.shape))\n",
    "        loss = ((y * dist_sq) + ((1 - y) * torch.pow(dist, 2))) / 2\n",
    "        # average loss over a batch\n",
    "        avg_loss = torch.sum(loss)/hidden_x1.shape[1]\n",
    "        return avg_loss"
   ]
  },
  {
   "cell_type": "code",
   "execution_count": 118,
   "id": "stunning-citizenship",
   "metadata": {},
   "outputs": [],
   "source": [
    "model = models.alexnet(pretrained=True)"
   ]
  },
  {
   "cell_type": "code",
   "execution_count": 119,
   "id": "included-daisy",
   "metadata": {},
   "outputs": [],
   "source": [
    "for param in model.parameters():\n",
    "    param.requires_grad = False"
   ]
  },
  {
   "cell_type": "code",
   "execution_count": 120,
   "id": "lasting-madness",
   "metadata": {},
   "outputs": [],
   "source": [
    "model.classifier[6] = nn.Linear(4096, 52)"
   ]
  },
  {
   "cell_type": "code",
   "execution_count": 121,
   "id": "sunset-composite",
   "metadata": {},
   "outputs": [],
   "source": [
    "params_to_update = []\n",
    "\n",
    "for param in model.parameters():\n",
    "    if param.requires_grad == True:\n",
    "        params_to_update.append(param)"
   ]
  },
  {
   "cell_type": "code",
   "execution_count": null,
   "id": "inner-radius",
   "metadata": {},
   "outputs": [],
   "source": [
    "class SiameseNetwork(nn.Module):\n",
    "    def __init__(self, model, n_artists=52):\n",
    "        super(SiameseNetwork, self).__init__()\n",
    "        self.model = model\n",
    "        self.linear = nn.Linear(n_artists, 1)\n",
    "        \n",
    "    def forward(self, x1, x2):\n",
    "        y_pred_x1 = self.model(x1)\n",
    "        y_pred_x2 = self.model(x2)\n",
    "        x = torch.abs(y_pred_x1 - y_pred_x2)\n",
    "        x = self.linear(x)\n",
    "        return y_pred_x1, y_pred_x2, x.squeeze()"
   ]
  },
  {
   "cell_type": "code",
   "execution_count": null,
   "id": "acting-privacy",
   "metadata": {},
   "outputs": [],
   "source": [
    "def one_pass_dual(model, dataloader, optimizer, loss_1, loss_2, backwards=True, print_loss=False):\n",
    "    \n",
    "    if backwards == True:\n",
    "        model.train()\n",
    "    else:\n",
    "        model.eval()\n",
    "    \n",
    "    total_loss = 0.0\n",
    "    avg_accs = []\n",
    "    avg_iou = []\n",
    "    for x, y in tqdm(dataloader):\n",
    "        \n",
    "        y_pred = model(x)\n",
    "        y_pred_coords = y_pred[:, :4]\n",
    "\n",
    "        y_pred_label = y_pred[:, 4:]\n",
    "        ce_loss = loss_1(y_pred_label, y['label'])\n",
    "        l1_loss = loss_2(y_pred_coords, y['boxes'])\n",
    "        loss = ce_loss + l1_loss\n",
    "        total_loss += loss.item()\n",
    "        avg_accs.append(torch.sum(torch.argmax(y_pred_label, dim=1) == y['label']).item()/len(y['label']))\n",
    "        avg_iou.append((sum([iou(y_pred, y) for y_pred, y in zip(y_pred_coords, y['boxes'])])/len(y['boxes'])).item())\n",
    "        \n",
    "        if backwards == True:\n",
    "            optimizer.zero_grad()\n",
    "            loss.backward()\n",
    "            optimizer.step()\n",
    "    avg_loss = total_loss / len(dataloader)\n",
    "    avg_acc = sum(avg_accs) / len(dataloader)\n",
    "    avg_iou = sum(avg_iou) / len(dataloader)\n",
    "    \n",
    "    if print_loss == True:\n",
    "        print(avg_loss)\n",
    "        print(avg_acc)\n",
    "    \n",
    "    return avg_loss, avg_acc, avg_iou"
   ]
  }
 ],
 "metadata": {
  "kernelspec": {
   "display_name": "Python 3",
   "language": "python",
   "name": "python3"
  },
  "language_info": {
   "codemirror_mode": {
    "name": "ipython",
    "version": 3
   },
   "file_extension": ".py",
   "mimetype": "text/x-python",
   "name": "python",
   "nbconvert_exporter": "python",
   "pygments_lexer": "ipython3",
   "version": "3.8.3"
  }
 },
 "nbformat": 4,
 "nbformat_minor": 5
}
