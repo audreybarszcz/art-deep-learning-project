{
 "cells": [
  {
   "cell_type": "code",
   "execution_count": 102,
   "id": "brutal-rebate",
   "metadata": {},
   "outputs": [],
   "source": [
    "import cv2\n",
    "import random\n",
    "import pandas as pd\n",
    "import numpy as np\n",
    "import torch\n",
    "import torch.nn as nn\n",
    "import torch.optim as optim\n",
    "from sklearn.metrics import roc_auc_score, confusion_matrix\n",
    "from torch.utils.data import Dataset, DataLoader\n",
    "from tqdm.notebook import tqdm\n",
    "\n",
    "# data augmentation\n",
    "import albumentations as A\n",
    "from albumentations.pytorch import ToTensorV2\n",
    "\n",
    "# pretrained models\n",
    "import torchvision\n",
    "from torchvision import models, transforms\n",
    "\n",
    "from functions import *\n",
    "from classes import *"
   ]
  },
  {
   "cell_type": "markdown",
   "id": "trained-anniversary",
   "metadata": {},
   "source": [
    "## Load in metadata"
   ]
  },
  {
   "cell_type": "code",
   "execution_count": 15,
   "id": "gentle-attack",
   "metadata": {},
   "outputs": [],
   "source": [
    "all_metadata = pd.read_csv('../data/all_data_info.csv')"
   ]
  },
  {
   "cell_type": "code",
   "execution_count": 16,
   "id": "persistent-particle",
   "metadata": {},
   "outputs": [],
   "source": [
    "# select artists for the task\n",
    "artists = ['John Singer Sargent', 'Pablo Picasso', 'Pierre-Auguste Renoir', 'Paul Cezanne', 'Camille Pissarro', 'Paul Gauguin', \n",
    "           'Claude Monet', 'Edgar Degas', 'Henri Matisse', 'Vincent van Gogh', 'Childe Hassam', 'Pyotr Konchalovsky', 'Martiros Saryan', \n",
    "           'Boris Kustodiev', 'Nicholas Roerich', 'Salvador Dali', 'Alfred Sisley', 'Henri Martin', 'Rene Magritte', 'Konstantin Korovin', \n",
    "           'Mary Cassatt', 'Gustave Loiseau', 'John Henry Twachtman', 'Georges Braque', 'Pierre Bonnard', \"Georgia O'Keeffe\", \n",
    "           'Gustave Caillebotte', 'Ilya Mashkov', 'Andy Warhol', 'Theo van Rysselberghe', 'Georges Seurat', 'Edward Hopper', 'Maxime Maufra', \n",
    "           'Diego Rivera', 'Henri-Edmond Cross', 'Robert Julian Onderdonk', 'Guy Rose', 'Andre Derain', 'Willard Metcalf', 'Frida Kahlo', \n",
    "           'Paul Signac', 'William James Glackens', 'Frantisek Kupka', 'Julian Alden Weir', 'Paul Serusier', 'Max Pechstein', \n",
    "           'Victor Borisov-Musatov', 'Armand Guillaumin', 'Spyros Papaloukas', 'Nicolae Darascu', 'Albert Marquet', 'Ion Theodorescu-Sion']"
   ]
  },
  {
   "cell_type": "code",
   "execution_count": 17,
   "id": "paperback-implement",
   "metadata": {},
   "outputs": [],
   "source": [
    "all_metadata['selected'] = all_metadata['artist'].apply(lambda x: x in artists)"
   ]
  },
  {
   "cell_type": "code",
   "execution_count": 18,
   "id": "social-trauma",
   "metadata": {},
   "outputs": [],
   "source": [
    "metadata = all_metadata[all_metadata['selected'] == True]"
   ]
  },
  {
   "cell_type": "code",
   "execution_count": 19,
   "id": "acoustic-blink",
   "metadata": {},
   "outputs": [],
   "source": [
    "df = metadata.drop('selected', axis=1)"
   ]
  },
  {
   "cell_type": "code",
   "execution_count": 140,
   "id": "disabled-antibody",
   "metadata": {},
   "outputs": [
    {
     "data": {
      "text/plain": [
       "13894"
      ]
     },
     "execution_count": 140,
     "metadata": {},
     "output_type": "execute_result"
    }
   ],
   "source": [
    "len(df)"
   ]
  },
  {
   "cell_type": "code",
   "execution_count": null,
   "id": "herbal-drama",
   "metadata": {},
   "outputs": [],
   "source": [
    "# add resizing to 256x256 portion in siamese notebook\n",
    "# i left out because im unsure what my_train and my_test are exactly\n",
    "# i have train_256_border - not sure if that includes center crop"
   ]
  },
  {
   "cell_type": "code",
   "execution_count": 61,
   "id": "bearing-draft",
   "metadata": {},
   "outputs": [],
   "source": [
    "df['full_path'] = df.apply(lambda x: f\"../data/train_256_border/{x['new_filename']}\" if x['in_train'] == True else f\"../data/test_256_border/{x['new_filename']}\", axis=1)"
   ]
  },
  {
   "cell_type": "code",
   "execution_count": 62,
   "id": "royal-venezuela",
   "metadata": {},
   "outputs": [
    {
     "data": {
      "text/html": [
       "<div>\n",
       "<style scoped>\n",
       "    .dataframe tbody tr th:only-of-type {\n",
       "        vertical-align: middle;\n",
       "    }\n",
       "\n",
       "    .dataframe tbody tr th {\n",
       "        vertical-align: top;\n",
       "    }\n",
       "\n",
       "    .dataframe thead th {\n",
       "        text-align: right;\n",
       "    }\n",
       "</style>\n",
       "<table border=\"1\" class=\"dataframe\">\n",
       "  <thead>\n",
       "    <tr style=\"text-align: right;\">\n",
       "      <th></th>\n",
       "      <th>artist</th>\n",
       "      <th>date</th>\n",
       "      <th>genre</th>\n",
       "      <th>pixelsx</th>\n",
       "      <th>pixelsy</th>\n",
       "      <th>size_bytes</th>\n",
       "      <th>source</th>\n",
       "      <th>style</th>\n",
       "      <th>title</th>\n",
       "      <th>artist_group</th>\n",
       "      <th>in_train</th>\n",
       "      <th>new_filename</th>\n",
       "      <th>full_path</th>\n",
       "    </tr>\n",
       "  </thead>\n",
       "  <tbody>\n",
       "    <tr>\n",
       "      <th>0</th>\n",
       "      <td>Paul Serusier</td>\n",
       "      <td>1890</td>\n",
       "      <td>genre painting</td>\n",
       "      <td>7099.0</td>\n",
       "      <td>5857.0</td>\n",
       "      <td>9803854.0</td>\n",
       "      <td>wikiart</td>\n",
       "      <td>Cloisonnism</td>\n",
       "      <td>Seaweed Gatherer</td>\n",
       "      <td>train_and_test</td>\n",
       "      <td>False</td>\n",
       "      <td>32996.jpg</td>\n",
       "      <td>../data/test_256_border/32996.jpg</td>\n",
       "    </tr>\n",
       "    <tr>\n",
       "      <th>1</th>\n",
       "      <td>Georges Seurat</td>\n",
       "      <td>1884</td>\n",
       "      <td>NaN</td>\n",
       "      <td>6367.0</td>\n",
       "      <td>4226.0</td>\n",
       "      <td>11579390.0</td>\n",
       "      <td>wikipedia</td>\n",
       "      <td>Pointillism</td>\n",
       "      <td>Bathers at Asnières</td>\n",
       "      <td>train_and_test</td>\n",
       "      <td>True</td>\n",
       "      <td>39751.jpg</td>\n",
       "      <td>../data/train_256_border/39751.jpg</td>\n",
       "    </tr>\n",
       "    <tr>\n",
       "      <th>2</th>\n",
       "      <td>Paul Signac</td>\n",
       "      <td>NaN</td>\n",
       "      <td>cityscape</td>\n",
       "      <td>5616.0</td>\n",
       "      <td>4312.0</td>\n",
       "      <td>10612858.0</td>\n",
       "      <td>wikiart</td>\n",
       "      <td>Pointillism</td>\n",
       "      <td>View of the Port of Marseilles</td>\n",
       "      <td>train_and_test</td>\n",
       "      <td>True</td>\n",
       "      <td>74221.jpg</td>\n",
       "      <td>../data/train_256_border/74221.jpg</td>\n",
       "    </tr>\n",
       "    <tr>\n",
       "      <th>3</th>\n",
       "      <td>Georges Seurat</td>\n",
       "      <td>1884</td>\n",
       "      <td>genre painting</td>\n",
       "      <td>5910.0</td>\n",
       "      <td>4001.0</td>\n",
       "      <td>5330653.0</td>\n",
       "      <td>wikiart</td>\n",
       "      <td>Pointillism</td>\n",
       "      <td>Study for A Sunday on La Grande Jatte</td>\n",
       "      <td>train_and_test</td>\n",
       "      <td>True</td>\n",
       "      <td>31337.jpg</td>\n",
       "      <td>../data/train_256_border/31337.jpg</td>\n",
       "    </tr>\n",
       "    <tr>\n",
       "      <th>4</th>\n",
       "      <td>Gustave Caillebotte</td>\n",
       "      <td>1881</td>\n",
       "      <td>genre painting</td>\n",
       "      <td>5164.0</td>\n",
       "      <td>4087.0</td>\n",
       "      <td>3587461.0</td>\n",
       "      <td>wikiart</td>\n",
       "      <td>Impressionism</td>\n",
       "      <td>Rising Road</td>\n",
       "      <td>train_and_test</td>\n",
       "      <td>False</td>\n",
       "      <td>29616.jpg</td>\n",
       "      <td>../data/test_256_border/29616.jpg</td>\n",
       "    </tr>\n",
       "  </tbody>\n",
       "</table>\n",
       "</div>"
      ],
      "text/plain": [
       "                artist  date           genre  pixelsx  pixelsy  size_bytes  \\\n",
       "0        Paul Serusier  1890  genre painting   7099.0   5857.0   9803854.0   \n",
       "1       Georges Seurat  1884             NaN   6367.0   4226.0  11579390.0   \n",
       "2          Paul Signac   NaN       cityscape   5616.0   4312.0  10612858.0   \n",
       "3       Georges Seurat  1884  genre painting   5910.0   4001.0   5330653.0   \n",
       "4  Gustave Caillebotte  1881  genre painting   5164.0   4087.0   3587461.0   \n",
       "\n",
       "      source          style                                  title  \\\n",
       "0    wikiart    Cloisonnism                       Seaweed Gatherer   \n",
       "1  wikipedia    Pointillism                   Bathers at Asnières    \n",
       "2    wikiart    Pointillism         View of the Port of Marseilles   \n",
       "3    wikiart    Pointillism  Study for A Sunday on La Grande Jatte   \n",
       "4    wikiart  Impressionism                            Rising Road   \n",
       "\n",
       "     artist_group  in_train new_filename                           full_path  \n",
       "0  train_and_test     False    32996.jpg   ../data/test_256_border/32996.jpg  \n",
       "1  train_and_test      True    39751.jpg  ../data/train_256_border/39751.jpg  \n",
       "2  train_and_test      True    74221.jpg  ../data/train_256_border/74221.jpg  \n",
       "3  train_and_test      True    31337.jpg  ../data/train_256_border/31337.jpg  \n",
       "4  train_and_test     False    29616.jpg   ../data/test_256_border/29616.jpg  "
      ]
     },
     "execution_count": 62,
     "metadata": {},
     "output_type": "execute_result"
    }
   ],
   "source": [
    "df.head()"
   ]
  },
  {
   "cell_type": "markdown",
   "id": "important-zimbabwe",
   "metadata": {},
   "source": [
    "## Split data"
   ]
  },
  {
   "cell_type": "code",
   "execution_count": 63,
   "id": "oriented-brighton",
   "metadata": {},
   "outputs": [],
   "source": [
    "all_train_df = df[df['in_train'] == True]\n",
    "all_train_df = all_train_df.reset_index(drop=True)"
   ]
  },
  {
   "cell_type": "code",
   "execution_count": 64,
   "id": "reserved-graduate",
   "metadata": {},
   "outputs": [],
   "source": [
    "test_df = df[df['in_train'] == False]\n",
    "test_df = test_df.reset_index(drop=True)"
   ]
  },
  {
   "cell_type": "code",
   "execution_count": 65,
   "id": "offshore-ministry",
   "metadata": {},
   "outputs": [],
   "source": [
    "# train test split on training dataset\n",
    "train_df = all_train_df.sample(frac=0.8)\n",
    "val_df = all_train_df[~all_train_df.index.isin(train_df.index)]\n",
    "train_df.reset_index(drop=True, inplace=True)\n",
    "val_df.reset_index(drop=True, inplace=True)"
   ]
  },
  {
   "cell_type": "code",
   "execution_count": 66,
   "id": "regulated-conflict",
   "metadata": {},
   "outputs": [],
   "source": [
    "train_df.to_csv('../data/train.csv', index=None)\n",
    "val_df.to_csv('../data/val.csv', index=None)"
   ]
  },
  {
   "cell_type": "markdown",
   "id": "early-sally",
   "metadata": {},
   "source": [
    "## Create Dataloader"
   ]
  },
  {
   "cell_type": "code",
   "execution_count": 67,
   "id": "piano-greene",
   "metadata": {},
   "outputs": [],
   "source": [
    "artist_dict = {artist: i for i, artist in enumerate(sorted(df['artist'].unique()))}"
   ]
  },
  {
   "cell_type": "code",
   "execution_count": 68,
   "id": "cooked-somewhere",
   "metadata": {},
   "outputs": [],
   "source": [
    "train_ds = ArtistDataset(train_df, artist_dict)\n",
    "train_dl = DataLoader(train_ds, batch_size=16, shuffle=True)"
   ]
  },
  {
   "cell_type": "code",
   "execution_count": 69,
   "id": "valued-determination",
   "metadata": {},
   "outputs": [],
   "source": [
    "val_ds = ArtistDataset(val_df, artist_dict)\n",
    "val_dl = DataLoader(val_ds, batch_size=16, shuffle=True)"
   ]
  },
  {
   "cell_type": "markdown",
   "id": "aware-leadership",
   "metadata": {},
   "source": [
    "## Pretrained AlexNet image classifier model"
   ]
  },
  {
   "cell_type": "markdown",
   "id": "pharmaceutical-worry",
   "metadata": {},
   "source": [
    "### LR = 0.01"
   ]
  },
  {
   "cell_type": "code",
   "execution_count": 70,
   "id": "wicked-structure",
   "metadata": {},
   "outputs": [],
   "source": [
    "model = models.alexnet(pretrained=True)"
   ]
  },
  {
   "cell_type": "code",
   "execution_count": 71,
   "id": "synthetic-forth",
   "metadata": {},
   "outputs": [],
   "source": [
    "for param in model.parameters():\n",
    "    param.requires_grad = False"
   ]
  },
  {
   "cell_type": "code",
   "execution_count": 72,
   "id": "directed-bicycle",
   "metadata": {},
   "outputs": [],
   "source": [
    "model.classifier[6] = nn.Linear(4096, 52)"
   ]
  },
  {
   "cell_type": "code",
   "execution_count": 73,
   "id": "swiss-youth",
   "metadata": {},
   "outputs": [],
   "source": [
    "params_to_update = []\n",
    "\n",
    "for param in model.parameters():\n",
    "    if param.requires_grad == True:\n",
    "        params_to_update.append(param)"
   ]
  },
  {
   "cell_type": "code",
   "execution_count": 76,
   "id": "ultimate-radical",
   "metadata": {},
   "outputs": [
    {
     "data": {
      "text/plain": [
       "Sequential(\n",
       "  (0): Dropout(p=0.5, inplace=False)\n",
       "  (1): Linear(in_features=9216, out_features=4096, bias=True)\n",
       "  (2): ReLU(inplace=True)\n",
       "  (3): Dropout(p=0.5, inplace=False)\n",
       "  (4): Linear(in_features=4096, out_features=4096, bias=True)\n",
       "  (5): ReLU(inplace=True)\n",
       "  (6): Linear(in_features=4096, out_features=52, bias=True)\n",
       ")"
      ]
     },
     "execution_count": 76,
     "metadata": {},
     "output_type": "execute_result"
    }
   ],
   "source": [
    "model.classifier"
   ]
  },
  {
   "cell_type": "code",
   "execution_count": 74,
   "id": "defined-interpretation",
   "metadata": {},
   "outputs": [],
   "source": [
    "optimizer = optim.Adam(params_to_update, lr=0.01)\n",
    "lossFun = nn.CrossEntropyLoss()"
   ]
  },
  {
   "cell_type": "code",
   "execution_count": 58,
   "id": "billion-bryan",
   "metadata": {},
   "outputs": [],
   "source": [
    "def one_pass_classification(model, dataloader, optimizer, lossFun, backwards=True, print_loss=False):\n",
    "    \"\"\"\n",
    "    One training epoch for classification model.\n",
    "    \"\"\"\n",
    "    if backwards == True:\n",
    "        model.train()\n",
    "    else:\n",
    "        model.eval()\n",
    "    \n",
    "    total_loss = 0.0\n",
    "    avg_accs = []\n",
    "    for x, y in tqdm(dataloader):\n",
    "        \n",
    "        y_pred = model(x)\n",
    "        loss = lossFun(y_pred, y)\n",
    "        total_loss += loss.item()\n",
    "        avg_accs.append(torch.sum(torch.argmax(y_pred, dim=1) == y).item()/len(y))\n",
    "        \n",
    "        if backwards == True:\n",
    "            optimizer.zero_grad()\n",
    "            loss.backward()\n",
    "            optimizer.step()\n",
    "    avg_loss = total_loss / len(dataloader)\n",
    "    avg_acc = sum(avg_accs) / len(dataloader)\n",
    "    \n",
    "    if print_loss == True:\n",
    "        print(avg_loss)\n",
    "        print(avg_acc)\n",
    "    \n",
    "    return avg_loss, avg_acc"
   ]
  },
  {
   "cell_type": "code",
   "execution_count": 75,
   "id": "illegal-acceptance",
   "metadata": {},
   "outputs": [
    {
     "name": "stdout",
     "output_type": "stream",
     "text": [
      "Epoch:  0\n"
     ]
    },
    {
     "data": {
      "application/vnd.jupyter.widget-view+json": {
       "model_id": "c8ad8fe5584e4e2d8bff2723266dc14f",
       "version_major": 2,
       "version_minor": 0
      },
      "text/plain": [
       "  0%|          | 0/536 [00:00<?, ?it/s]"
      ]
     },
     "metadata": {},
     "output_type": "display_data"
    },
    {
     "name": "stdout",
     "output_type": "stream",
     "text": [
      "Train loss:  16.982559205880804\n",
      "Train accuracy:  0.26107742537313433\n"
     ]
    },
    {
     "data": {
      "application/vnd.jupyter.widget-view+json": {
       "model_id": "bbac2b6acf6e49a89cb46aac0871c79e",
       "version_major": 2,
       "version_minor": 0
      },
      "text/plain": [
       "  0%|          | 0/134 [00:00<?, ?it/s]"
      ]
     },
     "metadata": {},
     "output_type": "display_data"
    },
    {
     "name": "stdout",
     "output_type": "stream",
     "text": [
      "Valid loss:  16.41516054210378\n",
      "Valid accuracy:  0.314365671641791\n",
      "Epoch:  1\n"
     ]
    },
    {
     "data": {
      "application/vnd.jupyter.widget-view+json": {
       "model_id": "783a9564e9e54c0bbb8a82b7aecf90c1",
       "version_major": 2,
       "version_minor": 0
      },
      "text/plain": [
       "  0%|          | 0/536 [00:00<?, ?it/s]"
      ]
     },
     "metadata": {},
     "output_type": "display_data"
    },
    {
     "name": "stdout",
     "output_type": "stream",
     "text": [
      "Train loss:  13.154286084780052\n",
      "Train accuracy:  0.42105876865671643\n"
     ]
    },
    {
     "data": {
      "application/vnd.jupyter.widget-view+json": {
       "model_id": "7ea34cfd620e4521b49aacd45f8fb84c",
       "version_major": 2,
       "version_minor": 0
      },
      "text/plain": [
       "  0%|          | 0/134 [00:00<?, ?it/s]"
      ]
     },
     "metadata": {},
     "output_type": "display_data"
    },
    {
     "name": "stdout",
     "output_type": "stream",
     "text": [
      "Valid loss:  18.548984392365412\n",
      "Valid accuracy:  0.34095149253731344\n",
      "Epoch:  2\n"
     ]
    },
    {
     "data": {
      "application/vnd.jupyter.widget-view+json": {
       "model_id": "42610c8a3f0946f0a1541d201a2d0ea5",
       "version_major": 2,
       "version_minor": 0
      },
      "text/plain": [
       "  0%|          | 0/536 [00:00<?, ?it/s]"
      ]
     },
     "metadata": {},
     "output_type": "display_data"
    },
    {
     "name": "stdout",
     "output_type": "stream",
     "text": [
      "Train loss:  11.401636763739942\n",
      "Train accuracy:  0.5016324626865671\n"
     ]
    },
    {
     "data": {
      "application/vnd.jupyter.widget-view+json": {
       "model_id": "b781a04b84ac42749005e421eeb830a4",
       "version_major": 2,
       "version_minor": 0
      },
      "text/plain": [
       "  0%|          | 0/134 [00:00<?, ?it/s]"
      ]
     },
     "metadata": {},
     "output_type": "display_data"
    },
    {
     "name": "stdout",
     "output_type": "stream",
     "text": [
      "Valid loss:  18.84569854522819\n",
      "Valid accuracy:  0.37779850746268656\n",
      "Epoch:  3\n"
     ]
    },
    {
     "data": {
      "application/vnd.jupyter.widget-view+json": {
       "model_id": "d90d09e97c7d4b4aa1ccdad8592cb605",
       "version_major": 2,
       "version_minor": 0
      },
      "text/plain": [
       "  0%|          | 0/536 [00:00<?, ?it/s]"
      ]
     },
     "metadata": {},
     "output_type": "display_data"
    },
    {
     "name": "stdout",
     "output_type": "stream",
     "text": [
      "Train loss:  10.401908979931875\n",
      "Train accuracy:  0.5404617537313433\n"
     ]
    },
    {
     "data": {
      "application/vnd.jupyter.widget-view+json": {
       "model_id": "0e292a392c074ff487c9644757088fdc",
       "version_major": 2,
       "version_minor": 0
      },
      "text/plain": [
       "  0%|          | 0/134 [00:00<?, ?it/s]"
      ]
     },
     "metadata": {},
     "output_type": "display_data"
    },
    {
     "name": "stdout",
     "output_type": "stream",
     "text": [
      "Valid loss:  20.747859915690636\n",
      "Valid accuracy:  0.38199626865671643\n",
      "Epoch:  4\n"
     ]
    },
    {
     "data": {
      "application/vnd.jupyter.widget-view+json": {
       "model_id": "34a5da25a6ee409cb955a643010739ad",
       "version_major": 2,
       "version_minor": 0
      },
      "text/plain": [
       "  0%|          | 0/536 [00:00<?, ?it/s]"
      ]
     },
     "metadata": {},
     "output_type": "display_data"
    },
    {
     "name": "stdout",
     "output_type": "stream",
     "text": [
      "Train loss:  9.349903146055206\n",
      "Train accuracy:  0.5904850746268657\n"
     ]
    },
    {
     "data": {
      "application/vnd.jupyter.widget-view+json": {
       "model_id": "c9135901f6984911ba6ce34175a1cac6",
       "version_major": 2,
       "version_minor": 0
      },
      "text/plain": [
       "  0%|          | 0/134 [00:00<?, ?it/s]"
      ]
     },
     "metadata": {},
     "output_type": "display_data"
    },
    {
     "name": "stdout",
     "output_type": "stream",
     "text": [
      "Valid loss:  21.29156914042003\n",
      "Valid accuracy:  0.38572761194029853\n"
     ]
    }
   ],
   "source": [
    "num_epochs = 5\n",
    "train_losses = []\n",
    "valid_losses = []\n",
    "\n",
    "for epoch in range(num_epochs):\n",
    "    print('Epoch: ', epoch)\n",
    "    \n",
    "    train_loss, train_acc = one_pass_classification(model, train_dl, optimizer, lossFun)\n",
    "    train_losses.append(train_loss)\n",
    "    print('Train loss: ', train_loss)\n",
    "    print('Train accuracy: ', train_acc)\n",
    "    \n",
    "    valid_loss, valid_acc = one_pass_classification(model, val_dl, optimizer, lossFun, backwards=False)\n",
    "    valid_losses.append(valid_loss)\n",
    "    print('Valid loss: ', valid_loss)\n",
    "    print('Valid accuracy: ', valid_acc)"
   ]
  },
  {
   "cell_type": "code",
   "execution_count": 79,
   "id": "quick-western",
   "metadata": {},
   "outputs": [],
   "source": [
    "torch.save(model, '../models/classifier_lr01.pt')"
   ]
  },
  {
   "cell_type": "markdown",
   "id": "threaded-secret",
   "metadata": {},
   "source": [
    "### LR = 0.01, WD = 0.01"
   ]
  },
  {
   "cell_type": "code",
   "execution_count": 45,
   "id": "serial-flashing",
   "metadata": {},
   "outputs": [],
   "source": [
    "model_4 = models.alexnet(pretrained=True)"
   ]
  },
  {
   "cell_type": "code",
   "execution_count": 46,
   "id": "blind-baker",
   "metadata": {},
   "outputs": [],
   "source": [
    "for param in model_4.parameters():\n",
    "    param.requires_grad = False"
   ]
  },
  {
   "cell_type": "code",
   "execution_count": 47,
   "id": "novel-liberal",
   "metadata": {},
   "outputs": [],
   "source": [
    "model_4.classifier[6] = nn.Linear(4096, 52)"
   ]
  },
  {
   "cell_type": "code",
   "execution_count": 48,
   "id": "broad-awareness",
   "metadata": {},
   "outputs": [],
   "source": [
    "params_to_update = []\n",
    "\n",
    "for param in model_4.parameters():\n",
    "    if param.requires_grad == True:\n",
    "        params_to_update.append(param)"
   ]
  },
  {
   "cell_type": "code",
   "execution_count": 49,
   "id": "enclosed-gravity",
   "metadata": {},
   "outputs": [],
   "source": [
    "optimizer = optim.Adam(params_to_update, lr=0.01, weight_decay=0.01)\n",
    "lossFun = nn.CrossEntropyLoss()"
   ]
  },
  {
   "cell_type": "code",
   "execution_count": 50,
   "id": "delayed-compact",
   "metadata": {},
   "outputs": [
    {
     "name": "stdout",
     "output_type": "stream",
     "text": [
      "Epoch:  0\n"
     ]
    },
    {
     "data": {
      "application/vnd.jupyter.widget-view+json": {
       "model_id": "7586153133dc4784ba0daaec8fbc3085",
       "version_major": 2,
       "version_minor": 0
      },
      "text/plain": [
       "  0%|          | 0/536 [00:00<?, ?it/s]"
      ]
     },
     "metadata": {},
     "output_type": "display_data"
    },
    {
     "name": "stdout",
     "output_type": "stream",
     "text": [
      "Train loss:  16.11200719804906\n",
      "Train accuracy:  0.24871735074626866\n"
     ]
    },
    {
     "data": {
      "application/vnd.jupyter.widget-view+json": {
       "model_id": "4953a327356649c78acde12e95b44d70",
       "version_major": 2,
       "version_minor": 0
      },
      "text/plain": [
       "  0%|          | 0/134 [00:00<?, ?it/s]"
      ]
     },
     "metadata": {},
     "output_type": "display_data"
    },
    {
     "name": "stdout",
     "output_type": "stream",
     "text": [
      "Valid loss:  14.316991791796328\n",
      "Valid accuracy:  0.3204291044776119\n",
      "Epoch:  1\n"
     ]
    },
    {
     "data": {
      "application/vnd.jupyter.widget-view+json": {
       "model_id": "7cdd600bd5694cfe842c476fd6376e3d",
       "version_major": 2,
       "version_minor": 0
      },
      "text/plain": [
       "  0%|          | 0/536 [00:00<?, ?it/s]"
      ]
     },
     "metadata": {},
     "output_type": "display_data"
    },
    {
     "name": "stdout",
     "output_type": "stream",
     "text": [
      "Train loss:  14.40693745150495\n",
      "Train accuracy:  0.3420009328358209\n"
     ]
    },
    {
     "data": {
      "application/vnd.jupyter.widget-view+json": {
       "model_id": "13f8606156964071ae454fdf453ba359",
       "version_major": 2,
       "version_minor": 0
      },
      "text/plain": [
       "  0%|          | 0/134 [00:00<?, ?it/s]"
      ]
     },
     "metadata": {},
     "output_type": "display_data"
    },
    {
     "name": "stdout",
     "output_type": "stream",
     "text": [
      "Valid loss:  15.332140513320468\n",
      "Valid accuracy:  0.3185634328358209\n",
      "Epoch:  2\n"
     ]
    },
    {
     "data": {
      "application/vnd.jupyter.widget-view+json": {
       "model_id": "c1abdc4bbdd049bf8b13667b35b18b08",
       "version_major": 2,
       "version_minor": 0
      },
      "text/plain": [
       "  0%|          | 0/536 [00:00<?, ?it/s]"
      ]
     },
     "metadata": {},
     "output_type": "display_data"
    },
    {
     "name": "stdout",
     "output_type": "stream",
     "text": [
      "Train loss:  14.012505290223592\n",
      "Train accuracy:  0.36415578358208955\n"
     ]
    },
    {
     "data": {
      "application/vnd.jupyter.widget-view+json": {
       "model_id": "670bf150bba545d5a08b62bdaa5eb648",
       "version_major": 2,
       "version_minor": 0
      },
      "text/plain": [
       "  0%|          | 0/134 [00:00<?, ?it/s]"
      ]
     },
     "metadata": {},
     "output_type": "display_data"
    },
    {
     "name": "stdout",
     "output_type": "stream",
     "text": [
      "Valid loss:  16.85602051820328\n",
      "Valid accuracy:  0.3204291044776119\n",
      "Epoch:  3\n"
     ]
    },
    {
     "data": {
      "application/vnd.jupyter.widget-view+json": {
       "model_id": "435714bd5b56477e9553680b9e50a6a4",
       "version_major": 2,
       "version_minor": 0
      },
      "text/plain": [
       "  0%|          | 0/536 [00:00<?, ?it/s]"
      ]
     },
     "metadata": {},
     "output_type": "display_data"
    },
    {
     "name": "stdout",
     "output_type": "stream",
     "text": [
      "Train loss:  13.971494605292134\n",
      "Train accuracy:  0.37080223880597013\n"
     ]
    },
    {
     "data": {
      "application/vnd.jupyter.widget-view+json": {
       "model_id": "0325841794064eb9bd121133ba21158b",
       "version_major": 2,
       "version_minor": 0
      },
      "text/plain": [
       "  0%|          | 0/134 [00:00<?, ?it/s]"
      ]
     },
     "metadata": {},
     "output_type": "display_data"
    },
    {
     "name": "stdout",
     "output_type": "stream",
     "text": [
      "Valid loss:  15.745638580464606\n",
      "Valid accuracy:  0.33348880597014924\n",
      "Epoch:  4\n"
     ]
    },
    {
     "data": {
      "application/vnd.jupyter.widget-view+json": {
       "model_id": "cd0e882214794daf924b3611747807ca",
       "version_major": 2,
       "version_minor": 0
      },
      "text/plain": [
       "  0%|          | 0/536 [00:00<?, ?it/s]"
      ]
     },
     "metadata": {},
     "output_type": "display_data"
    },
    {
     "name": "stdout",
     "output_type": "stream",
     "text": [
      "Train loss:  14.351306552317604\n",
      "Train accuracy:  0.37604944029850745\n"
     ]
    },
    {
     "data": {
      "application/vnd.jupyter.widget-view+json": {
       "model_id": "e2469a18d8a242859d4690bd3ea52c86",
       "version_major": 2,
       "version_minor": 0
      },
      "text/plain": [
       "  0%|          | 0/134 [00:00<?, ?it/s]"
      ]
     },
     "metadata": {},
     "output_type": "display_data"
    },
    {
     "name": "stdout",
     "output_type": "stream",
     "text": [
      "Valid loss:  16.961115015086843\n",
      "Valid accuracy:  0.31529850746268656\n"
     ]
    }
   ],
   "source": [
    "num_epochs = 5\n",
    "train_losses = []\n",
    "valid_losses = []\n",
    "\n",
    "for epoch in range(num_epochs):\n",
    "    print('Epoch: ', epoch)\n",
    "    \n",
    "    train_loss, train_acc = one_pass_classification(model_4, train_dl, optimizer, lossFun)\n",
    "    train_losses.append(train_loss)\n",
    "    print('Train loss: ', train_loss)\n",
    "    print('Train accuracy: ', train_acc)\n",
    "    \n",
    "    valid_loss, valid_acc = one_pass_classification(model_4, val_dl, optimizer, lossFun, backwards=False)\n",
    "    valid_losses.append(valid_loss)\n",
    "    print('Valid loss: ', valid_loss)\n",
    "    print('Valid accuracy: ', valid_acc)"
   ]
  },
  {
   "cell_type": "code",
   "execution_count": 80,
   "id": "integrated-galaxy",
   "metadata": {},
   "outputs": [],
   "source": [
    "torch.save(model_4, 'models/classifier_lr01wd01.pt')"
   ]
  },
  {
   "cell_type": "markdown",
   "id": "judicial-middle",
   "metadata": {},
   "source": [
    "### LR = 0.01, WD = 0.001"
   ]
  },
  {
   "cell_type": "code",
   "execution_count": 51,
   "id": "herbal-federal",
   "metadata": {},
   "outputs": [],
   "source": [
    "model_5 = models.alexnet(pretrained=True)"
   ]
  },
  {
   "cell_type": "code",
   "execution_count": 52,
   "id": "antique-portable",
   "metadata": {},
   "outputs": [],
   "source": [
    "for param in model_5.parameters():\n",
    "    param.requires_grad = False"
   ]
  },
  {
   "cell_type": "code",
   "execution_count": 53,
   "id": "compatible-pixel",
   "metadata": {},
   "outputs": [],
   "source": [
    "model_5.classifier[6] = nn.Linear(4096, 52)"
   ]
  },
  {
   "cell_type": "code",
   "execution_count": 54,
   "id": "natural-operator",
   "metadata": {},
   "outputs": [],
   "source": [
    "params_to_update = []\n",
    "\n",
    "for param in model_4.parameters():\n",
    "    if param.requires_grad == True:\n",
    "        params_to_update.append(param)"
   ]
  },
  {
   "cell_type": "code",
   "execution_count": 55,
   "id": "crazy-pressing",
   "metadata": {},
   "outputs": [],
   "source": [
    "optimizer = optim.Adam(params_to_update, lr=0.01, weight_decay=0.001)\n",
    "lossFun = nn.CrossEntropyLoss()"
   ]
  },
  {
   "cell_type": "code",
   "execution_count": 56,
   "id": "technical-defeat",
   "metadata": {},
   "outputs": [
    {
     "name": "stdout",
     "output_type": "stream",
     "text": [
      "Epoch:  0\n"
     ]
    },
    {
     "data": {
      "application/vnd.jupyter.widget-view+json": {
       "model_id": "21ce09ad96004c2d9c5f0bb7b5e5b3e0",
       "version_major": 2,
       "version_minor": 0
      },
      "text/plain": [
       "  0%|          | 0/536 [00:00<?, ?it/s]"
      ]
     },
     "metadata": {},
     "output_type": "display_data"
    },
    {
     "name": "stdout",
     "output_type": "stream",
     "text": [
      "Train loss:  4.303370224895762\n",
      "Train accuracy:  0.013759328358208955\n"
     ]
    },
    {
     "data": {
      "application/vnd.jupyter.widget-view+json": {
       "model_id": "953f2be17c5d4704952c6d17f8392a12",
       "version_major": 2,
       "version_minor": 0
      },
      "text/plain": [
       "  0%|          | 0/134 [00:00<?, ?it/s]"
      ]
     },
     "metadata": {},
     "output_type": "display_data"
    },
    {
     "name": "stdout",
     "output_type": "stream",
     "text": [
      "Valid loss:  4.237398869955718\n",
      "Valid accuracy:  0.018656716417910446\n",
      "Epoch:  1\n"
     ]
    },
    {
     "data": {
      "application/vnd.jupyter.widget-view+json": {
       "model_id": "8511ec2915264bceb0f6226bb893771c",
       "version_major": 2,
       "version_minor": 0
      },
      "text/plain": [
       "  0%|          | 0/536 [00:00<?, ?it/s]"
      ]
     },
     "metadata": {},
     "output_type": "display_data"
    },
    {
     "name": "stdout",
     "output_type": "stream",
     "text": [
      "Train loss:  4.298799957802046\n",
      "Train accuracy:  0.014692164179104478\n"
     ]
    },
    {
     "data": {
      "application/vnd.jupyter.widget-view+json": {
       "model_id": "1df4ad1f45d9401196a9010058da129a",
       "version_major": 2,
       "version_minor": 0
      },
      "text/plain": [
       "  0%|          | 0/134 [00:00<?, ?it/s]"
      ]
     },
     "metadata": {},
     "output_type": "display_data"
    },
    {
     "name": "stdout",
     "output_type": "stream",
     "text": [
      "Valid loss:  4.237398889527392\n",
      "Valid accuracy:  0.018656716417910446\n",
      "Epoch:  2\n"
     ]
    },
    {
     "data": {
      "application/vnd.jupyter.widget-view+json": {
       "model_id": "84239ab17e484abe8947735e3e84cb70",
       "version_major": 2,
       "version_minor": 0
      },
      "text/plain": [
       "  0%|          | 0/536 [00:00<?, ?it/s]"
      ]
     },
     "metadata": {},
     "output_type": "display_data"
    },
    {
     "name": "stdout",
     "output_type": "stream",
     "text": [
      "Train loss:  4.3087844595090665\n",
      "Train accuracy:  0.014692164179104478\n"
     ]
    },
    {
     "data": {
      "application/vnd.jupyter.widget-view+json": {
       "model_id": "fb7634a5726b4070aeaf2894cd7cc456",
       "version_major": 2,
       "version_minor": 0
      },
      "text/plain": [
       "  0%|          | 0/134 [00:00<?, ?it/s]"
      ]
     },
     "metadata": {},
     "output_type": "display_data"
    },
    {
     "name": "stdout",
     "output_type": "stream",
     "text": [
      "Valid loss:  4.2373988486048\n",
      "Valid accuracy:  0.018656716417910446\n",
      "Epoch:  3\n"
     ]
    },
    {
     "data": {
      "application/vnd.jupyter.widget-view+json": {
       "model_id": "03dead24dd9e401e99b5ac2baab2b61c",
       "version_major": 2,
       "version_minor": 0
      },
      "text/plain": [
       "  0%|          | 0/536 [00:00<?, ?it/s]"
      ]
     },
     "metadata": {},
     "output_type": "display_data"
    },
    {
     "name": "stdout",
     "output_type": "stream",
     "text": [
      "Train loss:  4.303896164271369\n",
      "Train accuracy:  0.013875932835820896\n"
     ]
    },
    {
     "data": {
      "application/vnd.jupyter.widget-view+json": {
       "model_id": "23df3e28d42d4876a72a39c885fd5eea",
       "version_major": 2,
       "version_minor": 0
      },
      "text/plain": [
       "  0%|          | 0/134 [00:00<?, ?it/s]"
      ]
     },
     "metadata": {},
     "output_type": "display_data"
    },
    {
     "name": "stdout",
     "output_type": "stream",
     "text": [
      "Valid loss:  4.237398898423607\n",
      "Valid accuracy:  0.018656716417910446\n",
      "Epoch:  4\n"
     ]
    },
    {
     "data": {
      "application/vnd.jupyter.widget-view+json": {
       "model_id": "d5e4385f08fb4698866364aa8e29ba08",
       "version_major": 2,
       "version_minor": 0
      },
      "text/plain": [
       "  0%|          | 0/536 [00:00<?, ?it/s]"
      ]
     },
     "metadata": {},
     "output_type": "display_data"
    },
    {
     "name": "stdout",
     "output_type": "stream",
     "text": [
      "Train loss:  4.295518224363897\n",
      "Train accuracy:  0.01632462686567164\n"
     ]
    },
    {
     "data": {
      "application/vnd.jupyter.widget-view+json": {
       "model_id": "36454483b81e4282b9da63310f95c25e",
       "version_major": 2,
       "version_minor": 0
      },
      "text/plain": [
       "  0%|          | 0/134 [00:00<?, ?it/s]"
      ]
     },
     "metadata": {},
     "output_type": "display_data"
    },
    {
     "name": "stdout",
     "output_type": "stream",
     "text": [
      "Valid loss:  4.237398873514204\n",
      "Valid accuracy:  0.018656716417910446\n"
     ]
    }
   ],
   "source": [
    "num_epochs = 5\n",
    "train_losses = []\n",
    "valid_losses = []\n",
    "\n",
    "for epoch in range(num_epochs):\n",
    "    print('Epoch: ', epoch)\n",
    "    \n",
    "    train_loss, train_acc = one_pass_classification(model_5, train_dl, optimizer, lossFun)\n",
    "    train_losses.append(train_loss)\n",
    "    print('Train loss: ', train_loss)\n",
    "    print('Train accuracy: ', train_acc)\n",
    "    \n",
    "    valid_loss, valid_acc = one_pass_classification(model_5, val_dl, optimizer, lossFun, backwards=False)\n",
    "    valid_losses.append(valid_loss)\n",
    "    print('Valid loss: ', valid_loss)\n",
    "    print('Valid accuracy: ', valid_acc)"
   ]
  },
  {
   "cell_type": "code",
   "execution_count": 81,
   "id": "fatty-technician",
   "metadata": {},
   "outputs": [],
   "source": [
    "torch.save(model_5, 'models/classifier_lr01wd001.pt')"
   ]
  },
  {
   "cell_type": "markdown",
   "id": "promotional-aggregate",
   "metadata": {},
   "source": [
    "### LR = 0.005"
   ]
  },
  {
   "cell_type": "code",
   "execution_count": 57,
   "id": "adaptive-aviation",
   "metadata": {},
   "outputs": [],
   "source": [
    "model_2 = models.alexnet(pretrained=True)"
   ]
  },
  {
   "cell_type": "code",
   "execution_count": 58,
   "id": "surrounded-promise",
   "metadata": {},
   "outputs": [],
   "source": [
    "for param in model_2.parameters():\n",
    "    param.requires_grad = False"
   ]
  },
  {
   "cell_type": "code",
   "execution_count": 59,
   "id": "resident-bones",
   "metadata": {},
   "outputs": [],
   "source": [
    "model_2.classifier[6] = nn.Linear(4096, 52)"
   ]
  },
  {
   "cell_type": "code",
   "execution_count": 60,
   "id": "handmade-minutes",
   "metadata": {},
   "outputs": [],
   "source": [
    "params_to_update = []\n",
    "\n",
    "for param in model_2.parameters():\n",
    "    if param.requires_grad == True:\n",
    "        params_to_update.append(param)"
   ]
  },
  {
   "cell_type": "code",
   "execution_count": 61,
   "id": "legal-subject",
   "metadata": {},
   "outputs": [],
   "source": [
    "optimizer = optim.Adam(params_to_update, lr=0.005)\n",
    "lossFun = nn.CrossEntropyLoss()"
   ]
  },
  {
   "cell_type": "code",
   "execution_count": 62,
   "id": "selective-quality",
   "metadata": {},
   "outputs": [
    {
     "name": "stdout",
     "output_type": "stream",
     "text": [
      "Epoch:  0\n"
     ]
    },
    {
     "data": {
      "application/vnd.jupyter.widget-view+json": {
       "model_id": "c920ca8039cc4ee38eff22eb4e872212",
       "version_major": 2,
       "version_minor": 0
      },
      "text/plain": [
       "  0%|          | 0/536 [00:00<?, ?it/s]"
      ]
     },
     "metadata": {},
     "output_type": "display_data"
    },
    {
     "name": "stdout",
     "output_type": "stream",
     "text": [
      "Train loss:  9.230837301976646\n",
      "Train accuracy:  0.2888292910447761\n"
     ]
    },
    {
     "data": {
      "application/vnd.jupyter.widget-view+json": {
       "model_id": "72eee1767d53418f961bbc134852dd3e",
       "version_major": 2,
       "version_minor": 0
      },
      "text/plain": [
       "  0%|          | 0/134 [00:00<?, ?it/s]"
      ]
     },
     "metadata": {},
     "output_type": "display_data"
    },
    {
     "name": "stdout",
     "output_type": "stream",
     "text": [
      "Valid loss:  9.500314895786456\n",
      "Valid accuracy:  0.3269589552238806\n",
      "Epoch:  1\n"
     ]
    },
    {
     "data": {
      "application/vnd.jupyter.widget-view+json": {
       "model_id": "c212da22c23b43559b7125453ea47cea",
       "version_major": 2,
       "version_minor": 0
      },
      "text/plain": [
       "  0%|          | 0/536 [00:00<?, ?it/s]"
      ]
     },
     "metadata": {},
     "output_type": "display_data"
    },
    {
     "name": "stdout",
     "output_type": "stream",
     "text": [
      "Train loss:  6.839349558326735\n",
      "Train accuracy:  0.45825559701492535\n"
     ]
    },
    {
     "data": {
      "application/vnd.jupyter.widget-view+json": {
       "model_id": "4d9b0eed5aff482da4ad6ee5d337102c",
       "version_major": 2,
       "version_minor": 0
      },
      "text/plain": [
       "  0%|          | 0/134 [00:00<?, ?it/s]"
      ]
     },
     "metadata": {},
     "output_type": "display_data"
    },
    {
     "name": "stdout",
     "output_type": "stream",
     "text": [
      "Valid loss:  9.879660163352739\n",
      "Valid accuracy:  0.37966417910447764\n",
      "Epoch:  2\n"
     ]
    },
    {
     "data": {
      "application/vnd.jupyter.widget-view+json": {
       "model_id": "9d273a01fdb547bdadb2be850978d735",
       "version_major": 2,
       "version_minor": 0
      },
      "text/plain": [
       "  0%|          | 0/536 [00:00<?, ?it/s]"
      ]
     },
     "metadata": {},
     "output_type": "display_data"
    },
    {
     "name": "stdout",
     "output_type": "stream",
     "text": [
      "Train loss:  5.731082466278059\n",
      "Train accuracy:  0.5451259328358209\n"
     ]
    },
    {
     "data": {
      "application/vnd.jupyter.widget-view+json": {
       "model_id": "9a9bebce1c4a43b19b828e967d51bac6",
       "version_major": 2,
       "version_minor": 0
      },
      "text/plain": [
       "  0%|          | 0/134 [00:00<?, ?it/s]"
      ]
     },
     "metadata": {},
     "output_type": "display_data"
    },
    {
     "name": "stdout",
     "output_type": "stream",
     "text": [
      "Valid loss:  10.380617358791294\n",
      "Valid accuracy:  0.3927238805970149\n",
      "Epoch:  3\n"
     ]
    },
    {
     "data": {
      "application/vnd.jupyter.widget-view+json": {
       "model_id": "e3459172fca6470d8a6cf96300b8bcb9",
       "version_major": 2,
       "version_minor": 0
      },
      "text/plain": [
       "  0%|          | 0/536 [00:00<?, ?it/s]"
      ]
     },
     "metadata": {},
     "output_type": "display_data"
    },
    {
     "name": "stdout",
     "output_type": "stream",
     "text": [
      "Train loss:  5.208544245517966\n",
      "Train accuracy:  0.578008395522388\n"
     ]
    },
    {
     "data": {
      "application/vnd.jupyter.widget-view+json": {
       "model_id": "75941fd3481541d19e7021aef78b599d",
       "version_major": 2,
       "version_minor": 0
      },
      "text/plain": [
       "  0%|          | 0/134 [00:00<?, ?it/s]"
      ]
     },
     "metadata": {},
     "output_type": "display_data"
    },
    {
     "name": "stdout",
     "output_type": "stream",
     "text": [
      "Valid loss:  11.57838810201901\n",
      "Valid accuracy:  0.3885261194029851\n",
      "Epoch:  4\n"
     ]
    },
    {
     "data": {
      "application/vnd.jupyter.widget-view+json": {
       "model_id": "022b1e15f93e4ab297062f6838bd7226",
       "version_major": 2,
       "version_minor": 0
      },
      "text/plain": [
       "  0%|          | 0/536 [00:00<?, ?it/s]"
      ]
     },
     "metadata": {},
     "output_type": "display_data"
    },
    {
     "name": "stdout",
     "output_type": "stream",
     "text": [
      "Train loss:  4.947100140154362\n",
      "Train accuracy:  0.6087919776119403\n"
     ]
    },
    {
     "data": {
      "application/vnd.jupyter.widget-view+json": {
       "model_id": "0a1dc75c705f4a589e3e5bca0d011d07",
       "version_major": 2,
       "version_minor": 0
      },
      "text/plain": [
       "  0%|          | 0/134 [00:00<?, ?it/s]"
      ]
     },
     "metadata": {},
     "output_type": "display_data"
    },
    {
     "name": "stdout",
     "output_type": "stream",
     "text": [
      "Valid loss:  12.28867555376309\n",
      "Valid accuracy:  0.42350746268656714\n"
     ]
    }
   ],
   "source": [
    "num_epochs = 5\n",
    "train_losses = []\n",
    "valid_losses = []\n",
    "\n",
    "for epoch in range(num_epochs):\n",
    "    print('Epoch: ', epoch)\n",
    "    \n",
    "    train_loss, train_acc = one_pass_classification(model_2, train_dl, optimizer, lossFun)\n",
    "    train_losses.append(train_loss)\n",
    "    print('Train loss: ', train_loss)\n",
    "    print('Train accuracy: ', train_acc)\n",
    "    \n",
    "    valid_loss, valid_acc = one_pass_classification(model_2, val_dl, optimizer, lossFun, backwards=False)\n",
    "    valid_losses.append(valid_loss)\n",
    "    print('Valid loss: ', valid_loss)\n",
    "    print('Valid accuracy: ', valid_acc)"
   ]
  },
  {
   "cell_type": "code",
   "execution_count": 82,
   "id": "raised-running",
   "metadata": {},
   "outputs": [],
   "source": [
    "torch.save(model_2, 'models/classifier_lr005.pt')"
   ]
  },
  {
   "cell_type": "markdown",
   "id": "incomplete-mumbai",
   "metadata": {},
   "source": [
    "### LR = 0.005, WD = 0.1"
   ]
  },
  {
   "cell_type": "code",
   "execution_count": 39,
   "id": "secret-boring",
   "metadata": {},
   "outputs": [],
   "source": [
    "model_3 = models.alexnet(pretrained=True)"
   ]
  },
  {
   "cell_type": "code",
   "execution_count": 40,
   "id": "professional-strip",
   "metadata": {},
   "outputs": [],
   "source": [
    "for param in model_3.parameters():\n",
    "    param.requires_grad = False"
   ]
  },
  {
   "cell_type": "code",
   "execution_count": 41,
   "id": "liberal-asbestos",
   "metadata": {},
   "outputs": [],
   "source": [
    "model_3.classifier[6] = nn.Linear(4096, 52)"
   ]
  },
  {
   "cell_type": "code",
   "execution_count": 42,
   "id": "discrete-minority",
   "metadata": {},
   "outputs": [],
   "source": [
    "params_to_update = []\n",
    "\n",
    "for param in model_3.parameters():\n",
    "    if param.requires_grad == True:\n",
    "        params_to_update.append(param)"
   ]
  },
  {
   "cell_type": "code",
   "execution_count": 43,
   "id": "third-norman",
   "metadata": {},
   "outputs": [],
   "source": [
    "optimizer = optim.Adam(params_to_update, lr=0.005, weight_decay=0.1)\n",
    "lossFun = nn.CrossEntropyLoss()"
   ]
  },
  {
   "cell_type": "code",
   "execution_count": 44,
   "id": "lonely-canon",
   "metadata": {},
   "outputs": [
    {
     "name": "stdout",
     "output_type": "stream",
     "text": [
      "Epoch:  0\n"
     ]
    },
    {
     "data": {
      "application/vnd.jupyter.widget-view+json": {
       "model_id": "0153abe5181846fe91d49b59d3f8dfe0",
       "version_major": 2,
       "version_minor": 0
      },
      "text/plain": [
       "  0%|          | 0/536 [00:00<?, ?it/s]"
      ]
     },
     "metadata": {},
     "output_type": "display_data"
    },
    {
     "name": "stdout",
     "output_type": "stream",
     "text": [
      "Train loss:  6.6836837819263115\n",
      "Train accuracy:  0.23717350746268656\n"
     ]
    },
    {
     "data": {
      "application/vnd.jupyter.widget-view+json": {
       "model_id": "c7c41a714b964b9aa0b26f291fb0d32b",
       "version_major": 2,
       "version_minor": 0
      },
      "text/plain": [
       "  0%|          | 0/134 [00:00<?, ?it/s]"
      ]
     },
     "metadata": {},
     "output_type": "display_data"
    },
    {
     "name": "stdout",
     "output_type": "stream",
     "text": [
      "Valid loss:  6.537798031052547\n",
      "Valid accuracy:  0.251865671641791\n",
      "Epoch:  1\n"
     ]
    },
    {
     "data": {
      "application/vnd.jupyter.widget-view+json": {
       "model_id": "434bae7b3d874d6da63d1cbdf57a67b3",
       "version_major": 2,
       "version_minor": 0
      },
      "text/plain": [
       "  0%|          | 0/536 [00:00<?, ?it/s]"
      ]
     },
     "metadata": {},
     "output_type": "display_data"
    },
    {
     "name": "stdout",
     "output_type": "stream",
     "text": [
      "Train loss:  6.7922886027329\n",
      "Train accuracy:  0.2578125\n"
     ]
    },
    {
     "data": {
      "application/vnd.jupyter.widget-view+json": {
       "model_id": "151281332a074cc5bfab8e75c536008c",
       "version_major": 2,
       "version_minor": 0
      },
      "text/plain": [
       "  0%|          | 0/134 [00:00<?, ?it/s]"
      ]
     },
     "metadata": {},
     "output_type": "display_data"
    },
    {
     "name": "stdout",
     "output_type": "stream",
     "text": [
      "Valid loss:  6.271312327527288\n",
      "Valid accuracy:  0.2574626865671642\n",
      "Epoch:  2\n"
     ]
    },
    {
     "data": {
      "application/vnd.jupyter.widget-view+json": {
       "model_id": "499c2ca4316b406a8bccd8b19540be45",
       "version_major": 2,
       "version_minor": 0
      },
      "text/plain": [
       "  0%|          | 0/536 [00:00<?, ?it/s]"
      ]
     },
     "metadata": {},
     "output_type": "display_data"
    },
    {
     "name": "stdout",
     "output_type": "stream",
     "text": [
      "Train loss:  6.6583087524371365\n",
      "Train accuracy:  0.26096082089552236\n"
     ]
    },
    {
     "data": {
      "application/vnd.jupyter.widget-view+json": {
       "model_id": "c73d9a9dd3d4472aa9e5a62e7cf65319",
       "version_major": 2,
       "version_minor": 0
      },
      "text/plain": [
       "  0%|          | 0/134 [00:00<?, ?it/s]"
      ]
     },
     "metadata": {},
     "output_type": "display_data"
    },
    {
     "name": "stdout",
     "output_type": "stream",
     "text": [
      "Valid loss:  6.40278647550896\n",
      "Valid accuracy:  0.28544776119402987\n",
      "Epoch:  3\n"
     ]
    },
    {
     "data": {
      "application/vnd.jupyter.widget-view+json": {
       "model_id": "47af7d77b4554d88a50aca3c57998890",
       "version_major": 2,
       "version_minor": 0
      },
      "text/plain": [
       "  0%|          | 0/536 [00:00<?, ?it/s]"
      ]
     },
     "metadata": {},
     "output_type": "display_data"
    },
    {
     "name": "stdout",
     "output_type": "stream",
     "text": [
      "Train loss:  6.8443153169172914\n",
      "Train accuracy:  0.2583955223880597\n"
     ]
    },
    {
     "data": {
      "application/vnd.jupyter.widget-view+json": {
       "model_id": "91e5bf654dc2479f8d4bb6d85d2cf725",
       "version_major": 2,
       "version_minor": 0
      },
      "text/plain": [
       "  0%|          | 0/134 [00:00<?, ?it/s]"
      ]
     },
     "metadata": {},
     "output_type": "display_data"
    },
    {
     "name": "stdout",
     "output_type": "stream",
     "text": [
      "Valid loss:  6.457734236076696\n",
      "Valid accuracy:  0.26492537313432835\n",
      "Epoch:  4\n"
     ]
    },
    {
     "data": {
      "application/vnd.jupyter.widget-view+json": {
       "model_id": "ad7bec2ca56644d7bd5a26c6a305581f",
       "version_major": 2,
       "version_minor": 0
      },
      "text/plain": [
       "  0%|          | 0/536 [00:00<?, ?it/s]"
      ]
     },
     "metadata": {},
     "output_type": "display_data"
    },
    {
     "name": "stdout",
     "output_type": "stream",
     "text": [
      "Train loss:  6.730166456592617\n",
      "Train accuracy:  0.26317630597014924\n"
     ]
    },
    {
     "data": {
      "application/vnd.jupyter.widget-view+json": {
       "model_id": "52c9e37b6e1c4269a4fa6eae22aaebf3",
       "version_major": 2,
       "version_minor": 0
      },
      "text/plain": [
       "  0%|          | 0/134 [00:00<?, ?it/s]"
      ]
     },
     "metadata": {},
     "output_type": "display_data"
    },
    {
     "name": "stdout",
     "output_type": "stream",
     "text": [
      "Valid loss:  6.755594449256783\n",
      "Valid accuracy:  0.2667910447761194\n"
     ]
    }
   ],
   "source": [
    "num_epochs = 5\n",
    "train_losses = []\n",
    "valid_losses = []\n",
    "\n",
    "for epoch in range(num_epochs):\n",
    "    print('Epoch: ', epoch)\n",
    "    \n",
    "    train_loss, train_acc = one_pass_classification(model_3, train_dl, optimizer, lossFun)\n",
    "    train_losses.append(train_loss)\n",
    "    print('Train loss: ', train_loss)\n",
    "    print('Train accuracy: ', train_acc)\n",
    "    \n",
    "    valid_loss, valid_acc = one_pass_classification(model_3, val_dl, optimizer, lossFun, backwards=False)\n",
    "    valid_losses.append(valid_loss)\n",
    "    print('Valid loss: ', valid_loss)\n",
    "    print('Valid accuracy: ', valid_acc)"
   ]
  },
  {
   "cell_type": "code",
   "execution_count": 83,
   "id": "hollywood-ghana",
   "metadata": {},
   "outputs": [],
   "source": [
    "torch.save(model_3, 'models/classifier_lr005wd1.pt')"
   ]
  },
  {
   "cell_type": "markdown",
   "id": "official-sussex",
   "metadata": {},
   "source": [
    "### LR = 0.01 with Augmentation"
   ]
  },
  {
   "cell_type": "code",
   "execution_count": 110,
   "id": "dress-invention",
   "metadata": {},
   "outputs": [],
   "source": [
    "train_ds_aug = ArtistDataset(train_df, artist_dict, augment=True)\n",
    "train_dl_aug = DataLoader(train_ds, batch_size=16, shuffle=True)"
   ]
  },
  {
   "cell_type": "code",
   "execution_count": 111,
   "id": "guided-competition",
   "metadata": {},
   "outputs": [],
   "source": [
    "val_ds_aug = ArtistDataset(val_df, artist_dict, True)\n",
    "val_dl_aug = DataLoader(val_ds, batch_size=16, shuffle=True)"
   ]
  },
  {
   "cell_type": "code",
   "execution_count": 112,
   "id": "signal-stream",
   "metadata": {},
   "outputs": [],
   "source": [
    "model_6 = models.alexnet(pretrained=True)"
   ]
  },
  {
   "cell_type": "code",
   "execution_count": 113,
   "id": "seven-distance",
   "metadata": {},
   "outputs": [],
   "source": [
    "for param in model_6.parameters():\n",
    "    param.requires_grad = False"
   ]
  },
  {
   "cell_type": "code",
   "execution_count": 114,
   "id": "convenient-visit",
   "metadata": {},
   "outputs": [],
   "source": [
    "model_6.classifier[6] = nn.Linear(4096, 52)"
   ]
  },
  {
   "cell_type": "code",
   "execution_count": 115,
   "id": "emotional-offering",
   "metadata": {},
   "outputs": [],
   "source": [
    "params_to_update = []\n",
    "\n",
    "for param in model_6.parameters():\n",
    "    if param.requires_grad == True:\n",
    "        params_to_update.append(param)"
   ]
  },
  {
   "cell_type": "code",
   "execution_count": 116,
   "id": "handed-occasions",
   "metadata": {},
   "outputs": [],
   "source": [
    "optimizer = optim.Adam(params_to_update, lr=0.01)\n",
    "lossFun = nn.CrossEntropyLoss()"
   ]
  },
  {
   "cell_type": "code",
   "execution_count": 119,
   "id": "sacred-pocket",
   "metadata": {},
   "outputs": [
    {
     "name": "stdout",
     "output_type": "stream",
     "text": [
      "Epoch:  0\n"
     ]
    },
    {
     "data": {
      "application/vnd.jupyter.widget-view+json": {
       "model_id": "fa814e02e20e4194a585845458e3aa20",
       "version_major": 2,
       "version_minor": 0
      },
      "text/plain": [
       "  0%|          | 0/536 [00:00<?, ?it/s]"
      ]
     },
     "metadata": {},
     "output_type": "display_data"
    },
    {
     "name": "stdout",
     "output_type": "stream",
     "text": [
      "Train loss:  16.9611223815982\n",
      "Train accuracy:  0.26434235074626866\n"
     ]
    },
    {
     "data": {
      "application/vnd.jupyter.widget-view+json": {
       "model_id": "73436df593af462d81bd69b99bbfa4c1",
       "version_major": 2,
       "version_minor": 0
      },
      "text/plain": [
       "  0%|          | 0/134 [00:00<?, ?it/s]"
      ]
     },
     "metadata": {},
     "output_type": "display_data"
    },
    {
     "name": "stdout",
     "output_type": "stream",
     "text": [
      "Valid loss:  15.87655964182384\n",
      "Valid accuracy:  0.34375\n",
      "Epoch:  1\n"
     ]
    },
    {
     "data": {
      "application/vnd.jupyter.widget-view+json": {
       "model_id": "a3e31f80d61749f9981974a7c7dc195b",
       "version_major": 2,
       "version_minor": 0
      },
      "text/plain": [
       "  0%|          | 0/536 [00:00<?, ?it/s]"
      ]
     },
     "metadata": {},
     "output_type": "display_data"
    },
    {
     "name": "stdout",
     "output_type": "stream",
     "text": [
      "Train loss:  13.157372274505558\n",
      "Train accuracy:  0.4302705223880597\n"
     ]
    },
    {
     "data": {
      "application/vnd.jupyter.widget-view+json": {
       "model_id": "3a6fa6d9c48949f4869894b412593d0b",
       "version_major": 2,
       "version_minor": 0
      },
      "text/plain": [
       "  0%|          | 0/134 [00:00<?, ?it/s]"
      ]
     },
     "metadata": {},
     "output_type": "display_data"
    },
    {
     "name": "stdout",
     "output_type": "stream",
     "text": [
      "Valid loss:  18.219643087529423\n",
      "Valid accuracy:  0.35867537313432835\n",
      "Epoch:  2\n"
     ]
    },
    {
     "data": {
      "application/vnd.jupyter.widget-view+json": {
       "model_id": "975ff5f3a1a64aaa8deabb99e19f5d28",
       "version_major": 2,
       "version_minor": 0
      },
      "text/plain": [
       "  0%|          | 0/536 [00:00<?, ?it/s]"
      ]
     },
     "metadata": {},
     "output_type": "display_data"
    },
    {
     "name": "stdout",
     "output_type": "stream",
     "text": [
      "Train loss:  11.250148917756864\n",
      "Train accuracy:  0.49463619402985076\n"
     ]
    },
    {
     "data": {
      "application/vnd.jupyter.widget-view+json": {
       "model_id": "ea763ae13d5d446dbb4c035f72e7a203",
       "version_major": 2,
       "version_minor": 0
      },
      "text/plain": [
       "  0%|          | 0/134 [00:00<?, ?it/s]"
      ]
     },
     "metadata": {},
     "output_type": "display_data"
    },
    {
     "name": "stdout",
     "output_type": "stream",
     "text": [
      "Valid loss:  18.10626254152896\n",
      "Valid accuracy:  0.3824626865671642\n",
      "Epoch:  3\n"
     ]
    },
    {
     "data": {
      "application/vnd.jupyter.widget-view+json": {
       "model_id": "6df041667f9241d5860645d17d136190",
       "version_major": 2,
       "version_minor": 0
      },
      "text/plain": [
       "  0%|          | 0/536 [00:00<?, ?it/s]"
      ]
     },
     "metadata": {},
     "output_type": "display_data"
    },
    {
     "name": "stdout",
     "output_type": "stream",
     "text": [
      "Train loss:  10.414399010921592\n",
      "Train accuracy:  0.5402285447761194\n"
     ]
    },
    {
     "data": {
      "application/vnd.jupyter.widget-view+json": {
       "model_id": "22029ba12cc04c23bd50a14b7e7c7fd8",
       "version_major": 2,
       "version_minor": 0
      },
      "text/plain": [
       "  0%|          | 0/134 [00:00<?, ?it/s]"
      ]
     },
     "metadata": {},
     "output_type": "display_data"
    },
    {
     "name": "stdout",
     "output_type": "stream",
     "text": [
      "Valid loss:  19.638409151959774\n",
      "Valid accuracy:  0.3885261194029851\n",
      "Epoch:  4\n"
     ]
    },
    {
     "data": {
      "application/vnd.jupyter.widget-view+json": {
       "model_id": "f79da7155166402bb5936a2506ab7938",
       "version_major": 2,
       "version_minor": 0
      },
      "text/plain": [
       "  0%|          | 0/536 [00:00<?, ?it/s]"
      ]
     },
     "metadata": {},
     "output_type": "display_data"
    },
    {
     "name": "stdout",
     "output_type": "stream",
     "text": [
      "Train loss:  9.461990278714628\n",
      "Train accuracy:  0.5843050373134329\n"
     ]
    },
    {
     "data": {
      "application/vnd.jupyter.widget-view+json": {
       "model_id": "36b6292a3fd841a3b8ec3235c158f929",
       "version_major": 2,
       "version_minor": 0
      },
      "text/plain": [
       "  0%|          | 0/134 [00:00<?, ?it/s]"
      ]
     },
     "metadata": {},
     "output_type": "display_data"
    },
    {
     "name": "stdout",
     "output_type": "stream",
     "text": [
      "Valid loss:  22.34773578572629\n",
      "Valid accuracy:  0.37966417910447764\n"
     ]
    }
   ],
   "source": [
    "num_epochs = 5\n",
    "train_losses = []\n",
    "valid_losses = []\n",
    "\n",
    "for epoch in range(num_epochs):\n",
    "    print('Epoch: ', epoch)\n",
    "    \n",
    "    train_loss, train_acc = one_pass_classification(model_6, train_dl_aug, optimizer, lossFun)\n",
    "    train_losses.append(train_loss)\n",
    "    print('Train loss: ', train_loss)\n",
    "    print('Train accuracy: ', train_acc)\n",
    "    \n",
    "    valid_loss, valid_acc = one_pass_classification(model_6, val_dl_aug, optimizer, lossFun, backwards=False)\n",
    "    valid_losses.append(valid_loss)\n",
    "    print('Valid loss: ', valid_loss)\n",
    "    print('Valid accuracy: ', valid_acc)"
   ]
  },
  {
   "cell_type": "code",
   "execution_count": null,
   "id": "wired-relationship",
   "metadata": {},
   "outputs": [],
   "source": [
    "torch.save(model_6, '../models/classifier_lr01_aug.pt')"
   ]
  },
  {
   "cell_type": "markdown",
   "id": "elegant-separate",
   "metadata": {},
   "source": [
    "## Compare models using validation data"
   ]
  },
  {
   "cell_type": "code",
   "execution_count": 131,
   "id": "adapted-leave",
   "metadata": {},
   "outputs": [],
   "source": [
    "val_pairs_df = pd.read_csv('../data/validation_pairs.csv')"
   ]
  },
  {
   "cell_type": "code",
   "execution_count": 132,
   "id": "modern-dividend",
   "metadata": {},
   "outputs": [],
   "source": [
    "test_pairs_df = pd.read_csv('../data/test_pairs.csv')"
   ]
  },
  {
   "cell_type": "code",
   "execution_count": 133,
   "id": "induced-thompson",
   "metadata": {},
   "outputs": [],
   "source": [
    "val_ds = ArtistPairsDataset(val_pairs_df)\n",
    "val_dl = DataLoader(val_ds, batch_size=16, shuffle=True)"
   ]
  },
  {
   "cell_type": "code",
   "execution_count": 134,
   "id": "official-bookmark",
   "metadata": {},
   "outputs": [],
   "source": [
    "test_ds = ArtistPairsDataset(test_pairs_df)\n",
    "test_dl = DataLoader(test_ds, batch_size=16, shuffle=True)"
   ]
  },
  {
   "cell_type": "code",
   "execution_count": 95,
   "id": "processed-output",
   "metadata": {},
   "outputs": [
    {
     "data": {
      "application/vnd.jupyter.widget-view+json": {
       "model_id": "f64d302c4f3d481689c8db4df20fa379",
       "version_major": 2,
       "version_minor": 0
      },
      "text/plain": [
       "  0%|          | 0/371 [00:00<?, ?it/s]"
      ]
     },
     "metadata": {},
     "output_type": "display_data"
    },
    {
     "name": "stdout",
     "output_type": "stream",
     "text": [
      "[[3712   38]\n",
      " [ 499 1677]]\n",
      "0.880273406862745\n"
     ]
    }
   ],
   "source": [
    "# model LR = 0.01\n",
    "validation_check(model, val_dl)"
   ]
  },
  {
   "cell_type": "code",
   "execution_count": 74,
   "id": "latter-labor",
   "metadata": {},
   "outputs": [
    {
     "data": {
      "application/vnd.jupyter.widget-view+json": {
       "model_id": "b80b7b1ce3db4259946995fb01e27b19",
       "version_major": 2,
       "version_minor": 0
      },
      "text/plain": [
       "  0%|          | 0/371 [00:00<?, ?it/s]"
      ]
     },
     "metadata": {},
     "output_type": "display_data"
    },
    {
     "name": "stdout",
     "output_type": "stream",
     "text": [
      "[[3658   92]\n",
      " [1097 1079]]\n",
      "0.7356653186274511\n"
     ]
    }
   ],
   "source": [
    "# model LR = 0.005\n",
    "validation_check(model_2, val_dl)"
   ]
  },
  {
   "cell_type": "code",
   "execution_count": 75,
   "id": "happy-basis",
   "metadata": {},
   "outputs": [
    {
     "data": {
      "application/vnd.jupyter.widget-view+json": {
       "model_id": "1c3dcb17080a4a92ab05be8d81f12eb5",
       "version_major": 2,
       "version_minor": 0
      },
      "text/plain": [
       "  0%|          | 0/371 [00:00<?, ?it/s]"
      ]
     },
     "metadata": {},
     "output_type": "display_data"
    },
    {
     "name": "stdout",
     "output_type": "stream",
     "text": [
      "[[3614  136]\n",
      " [1688  488]]\n",
      "0.5939990196078432\n"
     ]
    }
   ],
   "source": [
    "# model LR = 0.005 WD = 0.1\n",
    "validation_check(model_3, val_dl)"
   ]
  },
  {
   "cell_type": "code",
   "execution_count": 76,
   "id": "cleared-insert",
   "metadata": {},
   "outputs": [
    {
     "data": {
      "application/vnd.jupyter.widget-view+json": {
       "model_id": "0d15755b77374b2ca5afc4623284e6af",
       "version_major": 2,
       "version_minor": 0
      },
      "text/plain": [
       "  0%|          | 0/371 [00:00<?, ?it/s]"
      ]
     },
     "metadata": {},
     "output_type": "display_data"
    },
    {
     "name": "stdout",
     "output_type": "stream",
     "text": [
      "[[3478  272]\n",
      " [1952  224]]\n",
      "0.5152039215686275\n"
     ]
    }
   ],
   "source": [
    "# model LR = 0.01 WD = 0.01\n",
    "validation_check(model_4, val_dl)"
   ]
  },
  {
   "cell_type": "code",
   "execution_count": 77,
   "id": "alert-pierre",
   "metadata": {},
   "outputs": [
    {
     "data": {
      "application/vnd.jupyter.widget-view+json": {
       "model_id": "70d70e4a630d43c98fb2d61cd8e0cf2b",
       "version_major": 2,
       "version_minor": 0
      },
      "text/plain": [
       "  0%|          | 0/371 [00:00<?, ?it/s]"
      ]
     },
     "metadata": {},
     "output_type": "display_data"
    },
    {
     "name": "stdout",
     "output_type": "stream",
     "text": [
      "[[3397  353]\n",
      " [1908  268]]\n",
      "0.5145142156862745\n"
     ]
    }
   ],
   "source": [
    "# model LR = 0.01 WD = 0.001\n",
    "validation_check(model_5, val_dl)"
   ]
  },
  {
   "cell_type": "code",
   "execution_count": 138,
   "id": "universal-cooperative",
   "metadata": {},
   "outputs": [
    {
     "data": {
      "application/vnd.jupyter.widget-view+json": {
       "model_id": "bbb540f2024d432eb03178380c33d7a2",
       "version_major": 2,
       "version_minor": 0
      },
      "text/plain": [
       "  0%|          | 0/366 [00:00<?, ?it/s]"
      ]
     },
     "metadata": {},
     "output_type": "display_data"
    },
    {
     "name": "stdout",
     "output_type": "stream",
     "text": [
      "[[3687   67]\n",
      " [1061 1040]]\n",
      "0.7385773753118046\n"
     ]
    }
   ],
   "source": [
    "# model LR = 0.01 w/augmentation\n",
    "validation_check(model_6, val_dl)"
   ]
  },
  {
   "cell_type": "markdown",
   "id": "presidential-smell",
   "metadata": {},
   "source": [
    "Based on the confusion matrices and ROC AUC scores, the model trained with a learning rate of 0.01 had the best performance on validation."
   ]
  },
  {
   "cell_type": "markdown",
   "id": "detailed-seller",
   "metadata": {},
   "source": [
    "## Run test"
   ]
  },
  {
   "cell_type": "code",
   "execution_count": 96,
   "id": "criminal-arcade",
   "metadata": {},
   "outputs": [
    {
     "data": {
      "application/vnd.jupyter.widget-view+json": {
       "model_id": "efae2f5ad31d45dab58cfba134a35ce1",
       "version_major": 2,
       "version_minor": 0
      },
      "text/plain": [
       "  0%|          | 0/643 [00:00<?, ?it/s]"
      ]
     },
     "metadata": {},
     "output_type": "display_data"
    },
    {
     "name": "stdout",
     "output_type": "stream",
     "text": [
      "[[9703  299]\n",
      " [ 198   84]]\n",
      "0.6339891596148854\n"
     ]
    }
   ],
   "source": [
    "validation_check(model, test_dl)"
   ]
  },
  {
   "cell_type": "code",
   "execution_count": 98,
   "id": "studied-angle",
   "metadata": {},
   "outputs": [
    {
     "data": {
      "text/plain": [
       "0.9516725009723843"
      ]
     },
     "execution_count": 98,
     "metadata": {},
     "output_type": "execute_result"
    }
   ],
   "source": [
    "(9703+84)/(9703+84+299+198)"
   ]
  },
  {
   "cell_type": "markdown",
   "id": "lovely-audit",
   "metadata": {},
   "source": [
    "The classification model is able to accurately predict approximately 95% of pairs, with a 0.634 ROC AUC score."
   ]
  }
 ],
 "metadata": {
  "kernelspec": {
   "display_name": "Python 3",
   "language": "python",
   "name": "python3"
  },
  "language_info": {
   "codemirror_mode": {
    "name": "ipython",
    "version": 3
   },
   "file_extension": ".py",
   "mimetype": "text/x-python",
   "name": "python",
   "nbconvert_exporter": "python",
   "pygments_lexer": "ipython3",
   "version": "3.8.2"
  }
 },
 "nbformat": 4,
 "nbformat_minor": 5
}
